{
  "cells": [
    {
      "cell_type": "markdown",
      "metadata": {
        "id": "tnkrQMY8U8-G"
      },
      "source": [
        "## Introduction\n",
        "\n",
        "KerasNLP provides building blocks for NLP (model layers, tokenizers, metrics, etc.) and\n",
        "makes it convenient to construct NLP pipelines.\n",
        "\n",
        "In this example, we'll use KerasNLP layers to build an encoder-decoder Transformer\n",
        "model, and train it on the English-to-Spanish machine translation task.\n",
        "\n",
        "You'll learn how to:\n",
        "\n",
        "- Tokenize text using `keras_nlp.tokenizers.WordPieceTokenizer`.\n",
        "- Implement a sequence-to-sequence Transformer model using KerasNLP's\n",
        "`keras_nlp.layers.TransformerEncoder`, `keras_nlp.layers.TransformerDecoder` and\n",
        "`keras_nlp.layers.TokenAndPositionEmbedding` layers, and train it.\n",
        "- Use `keras_nlp.samplers` to generate translations of unseen input sentences\n",
        " using the top-p decoding strategy!\n",
        "\n",
        "Don't worry if you aren't familiar with KerasNLP. This tutorial will start with\n",
        "the basics. Let's dive right in!"
      ]
    },
    {
      "cell_type": "markdown",
      "metadata": {
        "id": "Fgy-uIfEU8-G"
      },
      "source": [
        "## Setup\n",
        "\n",
        "Before we start implementing the pipeline, let's import all the libraries we need."
      ]
    },
    {
      "cell_type": "code",
      "execution_count": null,
      "metadata": {
        "id": "sR4yqyHAU8-H",
        "outputId": "7896364e-9a8b-4e2e-84a6-b7e94c2420c5",
        "colab": {
          "base_uri": "https://localhost:8080/"
        }
      },
      "outputs": [
        {
          "output_type": "stream",
          "name": "stdout",
          "text": [
            "\u001b[2K     \u001b[90m━━━━━━━━━━━━━━━━━━━━━━━━━━━━━━━━━━━━━━━━\u001b[0m \u001b[32m570.5/570.5 kB\u001b[0m \u001b[31m7.1 MB/s\u001b[0m eta \u001b[36m0:00:00\u001b[0m\n",
            "\u001b[2K     \u001b[90m━━━━━━━━━━━━━━━━━━━━━━━━━━━━━━━━━━━━━━━━\u001b[0m \u001b[32m950.8/950.8 kB\u001b[0m \u001b[31m9.4 MB/s\u001b[0m eta \u001b[36m0:00:00\u001b[0m\n",
            "\u001b[2K     \u001b[90m━━━━━━━━━━━━━━━━━━━━━━━━━━━━━━━━━━━━━━━━\u001b[0m \u001b[32m5.2/5.2 MB\u001b[0m \u001b[31m29.6 MB/s\u001b[0m eta \u001b[36m0:00:00\u001b[0m\n",
            "\u001b[2K     \u001b[90m━━━━━━━━━━━━━━━━━━━━━━━━━━━━━━━━━━━━━━━━\u001b[0m \u001b[32m589.8/589.8 MB\u001b[0m \u001b[31m1.6 MB/s\u001b[0m eta \u001b[36m0:00:00\u001b[0m\n",
            "\u001b[2K     \u001b[90m━━━━━━━━━━━━━━━━━━━━━━━━━━━━━━━━━━━━━━━━\u001b[0m \u001b[32m5.3/5.3 MB\u001b[0m \u001b[31m101.7 MB/s\u001b[0m eta \u001b[36m0:00:00\u001b[0m\n",
            "\u001b[2K     \u001b[90m━━━━━━━━━━━━━━━━━━━━━━━━━━━━━━━━━━━━━━━━\u001b[0m \u001b[32m2.2/2.2 MB\u001b[0m \u001b[31m67.0 MB/s\u001b[0m eta \u001b[36m0:00:00\u001b[0m\n",
            "\u001b[2K     \u001b[90m━━━━━━━━━━━━━━━━━━━━━━━━━━━━━━━━━━━━━━━━\u001b[0m \u001b[32m5.5/5.5 MB\u001b[0m \u001b[31m99.0 MB/s\u001b[0m eta \u001b[36m0:00:00\u001b[0m\n",
            "\u001b[2K     \u001b[90m━━━━━━━━━━━━━━━━━━━━━━━━━━━━━━━━━━━━━━━━\u001b[0m \u001b[32m1.1/1.1 MB\u001b[0m \u001b[31m70.5 MB/s\u001b[0m eta \u001b[36m0:00:00\u001b[0m\n",
            "\u001b[2K     \u001b[90m━━━━━━━━━━━━━━━━━━━━━━━━━━━━━━━━━━━━━━━━\u001b[0m \u001b[32m311.2/311.2 kB\u001b[0m \u001b[31m31.7 MB/s\u001b[0m eta \u001b[36m0:00:00\u001b[0m\n",
            "\u001b[?25h\u001b[31mERROR: pip's dependency resolver does not currently take into account all the packages that are installed. This behaviour is the source of the following dependency conflicts.\n",
            "tf-keras 2.15.1 requires tensorflow<2.16,>=2.15, but you have tensorflow 2.16.1 which is incompatible.\u001b[0m\u001b[31m\n",
            "\u001b[2K     \u001b[90m━━━━━━━━━━━━━━━━━━━━━━━━━━━━━━━━━━━━━━━━\u001b[0m \u001b[32m89.1/89.1 kB\u001b[0m \u001b[31m3.3 MB/s\u001b[0m eta \u001b[36m0:00:00\u001b[0m\n",
            "\u001b[2K     \u001b[90m━━━━━━━━━━━━━━━━━━━━━━━━━━━━━━━━━━━━━━━━\u001b[0m \u001b[32m15.5/15.5 MB\u001b[0m \u001b[31m51.7 MB/s\u001b[0m eta \u001b[36m0:00:00\u001b[0m\n",
            "\u001b[2K     \u001b[90m━━━━━━━━━━━━━━━━━━━━━━━━━━━━━━━━━━━━━━━━\u001b[0m \u001b[32m53.0/53.0 kB\u001b[0m \u001b[31m7.9 MB/s\u001b[0m eta \u001b[36m0:00:00\u001b[0m\n",
            "\u001b[2K     \u001b[90m━━━━━━━━━━━━━━━━━━━━━━━━━━━━━━━━━━━━━━━━\u001b[0m \u001b[32m1.7/1.7 MB\u001b[0m \u001b[31m79.8 MB/s\u001b[0m eta \u001b[36m0:00:00\u001b[0m\n",
            "\u001b[2K     \u001b[90m━━━━━━━━━━━━━━━━━━━━━━━━━━━━━━━━━━━━━━━━\u001b[0m \u001b[32m9.2/9.2 MB\u001b[0m \u001b[31m74.2 MB/s\u001b[0m eta \u001b[36m0:00:00\u001b[0m\n",
            "\u001b[?25h"
          ]
        }
      ],
      "source": [
        "!pip install -q --upgrade keras-nlp\n",
        "!pip install -q --upgrade keras  # Upgrade to Keras 3.\n",
        "!pip install -q tensorflowjs"
      ]
    },
    {
      "cell_type": "code",
      "execution_count": null,
      "metadata": {
        "id": "F67LxvjiU8-H"
      },
      "outputs": [],
      "source": [
        "import keras_nlp\n",
        "import pathlib\n",
        "import random\n",
        "\n",
        "import keras\n",
        "from keras import ops\n",
        "\n",
        "import tensorflow.data as tf_data\n",
        "from tensorflow_text.tools.wordpiece_vocab import (\n",
        "    bert_vocab_from_dataset as bert_vocab,\n",
        ")"
      ]
    },
    {
      "cell_type": "markdown",
      "metadata": {
        "id": "bZLAW_SCU8-H"
      },
      "source": [
        "Let's also define our parameters/hyperparameters."
      ]
    },
    {
      "cell_type": "code",
      "execution_count": null,
      "metadata": {
        "id": "rFu_iZn4U8-H"
      },
      "outputs": [],
      "source": [
        "BATCH_SIZE = 64\n",
        "EPOCHS = 10  # This should be at least 10 for convergence\n",
        "MAX_SEQUENCE_LENGTH = 100\n",
        "ENG_VOCAB_SIZE = 50000\n",
        "INDO_VOCAB_SIZE = 50000\n",
        "\n",
        "EMBED_DIM = 256\n",
        "INTERMEDIATE_DIM = 2048\n",
        "NUM_HEADS = 8"
      ]
    },
    {
      "cell_type": "markdown",
      "metadata": {
        "id": "4IDhYBN-U8-H"
      },
      "source": [
        "## Downloading the data\n",
        "\n",
        "We'll be working with an English-to-Spanish translation dataset\n",
        "provided by [Anki](https://www.manythings.org/anki/). Let's download it:"
      ]
    },
    {
      "cell_type": "markdown",
      "source": [
        "### my their dataset"
      ],
      "metadata": {
        "id": "h1qCHL5XVE9R"
      }
    },
    {
      "cell_type": "code",
      "execution_count": null,
      "metadata": {
        "id": "1He3R6ysU8-I"
      },
      "outputs": [],
      "source": [
        "text_file = keras.utils.get_file(\n",
        "    fname=\"spa-eng.zip\",\n",
        "    origin=\"http://storage.googleapis.com/download.tensorflow.org/data/spa-eng.zip\",\n",
        "    extract=True,\n",
        ")\n",
        "text_file = pathlib.Path(text_file).parent / \"spa-eng\" / \"spa.txt\""
      ]
    },
    {
      "cell_type": "markdown",
      "source": [
        "### my dataset"
      ],
      "metadata": {
        "id": "H162xA2gVHQw"
      }
    },
    {
      "cell_type": "code",
      "source": [
        "import pandas as pd"
      ],
      "metadata": {
        "id": "A0Fp6Oa-Tv0G"
      },
      "execution_count": null,
      "outputs": []
    },
    {
      "cell_type": "code",
      "source": [
        "df = pd.read_csv(\"/content/gabungan_english_indo.csv\", encoding='latin1')\n",
        "df"
      ],
      "metadata": {
        "colab": {
          "base_uri": "https://localhost:8080/",
          "height": 423
        },
        "id": "YzOfKtIfSvQA",
        "outputId": "90a71cd9-c7fd-4938-f4de-0eb830111f5d"
      },
      "execution_count": null,
      "outputs": [
        {
          "output_type": "execute_result",
          "data": {
            "text/plain": [
              "                                                 English  \\\n",
              "0                                                    Hi.   \n",
              "1                                                   Run!   \n",
              "2                                                   Run.   \n",
              "3                                                   Who?   \n",
              "4                                                   Wow!   \n",
              "...                                                  ...   \n",
              "37586  Only 0.028 g of some snakes? venom is strong e...   \n",
              "37587  It returned five of them and their families in...   \n",
              "37588  The increase was expected to be fueled by net ...   \n",
              "37589  Four Pakistani paramilitary soldiers were inju...   \n",
              "37590  Publicly-listed plantation company PT Astra Ag...   \n",
              "\n",
              "                                              Indonesian  \n",
              "0                                                   Hai.  \n",
              "1                                                  Lari!  \n",
              "2                                                  Lari!  \n",
              "3                                                 Siapa?  \n",
              "4                                                   Wow!  \n",
              "...                                                  ...  \n",
              "37586  Bisa ular sebanyak 0,028 gram cukup untuk memb...  \n",
              "37587  Pyongyang mengembalikan lima dari mereka dan k...  \n",
              "37588  Dalam sebuah pernyataannya kepada Bursa Efek J...  \n",
              "37589  Empat orang prajurit militer Pakistan, Minggu,...  \n",
              "37590  PT Astra Agro Lestari Tbk AALI semester I 2008...  \n",
              "\n",
              "[37591 rows x 2 columns]"
            ],
            "text/html": [
              "\n",
              "  <div id=\"df-380fccf4-3f0d-45fd-974d-3e598e67ebba\" class=\"colab-df-container\">\n",
              "    <div>\n",
              "<style scoped>\n",
              "    .dataframe tbody tr th:only-of-type {\n",
              "        vertical-align: middle;\n",
              "    }\n",
              "\n",
              "    .dataframe tbody tr th {\n",
              "        vertical-align: top;\n",
              "    }\n",
              "\n",
              "    .dataframe thead th {\n",
              "        text-align: right;\n",
              "    }\n",
              "</style>\n",
              "<table border=\"1\" class=\"dataframe\">\n",
              "  <thead>\n",
              "    <tr style=\"text-align: right;\">\n",
              "      <th></th>\n",
              "      <th>English</th>\n",
              "      <th>Indonesian</th>\n",
              "    </tr>\n",
              "  </thead>\n",
              "  <tbody>\n",
              "    <tr>\n",
              "      <th>0</th>\n",
              "      <td>Hi.</td>\n",
              "      <td>Hai.</td>\n",
              "    </tr>\n",
              "    <tr>\n",
              "      <th>1</th>\n",
              "      <td>Run!</td>\n",
              "      <td>Lari!</td>\n",
              "    </tr>\n",
              "    <tr>\n",
              "      <th>2</th>\n",
              "      <td>Run.</td>\n",
              "      <td>Lari!</td>\n",
              "    </tr>\n",
              "    <tr>\n",
              "      <th>3</th>\n",
              "      <td>Who?</td>\n",
              "      <td>Siapa?</td>\n",
              "    </tr>\n",
              "    <tr>\n",
              "      <th>4</th>\n",
              "      <td>Wow!</td>\n",
              "      <td>Wow!</td>\n",
              "    </tr>\n",
              "    <tr>\n",
              "      <th>...</th>\n",
              "      <td>...</td>\n",
              "      <td>...</td>\n",
              "    </tr>\n",
              "    <tr>\n",
              "      <th>37586</th>\n",
              "      <td>Only 0.028 g of some snakes? venom is strong e...</td>\n",
              "      <td>Bisa ular sebanyak 0,028 gram cukup untuk memb...</td>\n",
              "    </tr>\n",
              "    <tr>\n",
              "      <th>37587</th>\n",
              "      <td>It returned five of them and their families in...</td>\n",
              "      <td>Pyongyang mengembalikan lima dari mereka dan k...</td>\n",
              "    </tr>\n",
              "    <tr>\n",
              "      <th>37588</th>\n",
              "      <td>The increase was expected to be fueled by net ...</td>\n",
              "      <td>Dalam sebuah pernyataannya kepada Bursa Efek J...</td>\n",
              "    </tr>\n",
              "    <tr>\n",
              "      <th>37589</th>\n",
              "      <td>Four Pakistani paramilitary soldiers were inju...</td>\n",
              "      <td>Empat orang prajurit militer Pakistan, Minggu,...</td>\n",
              "    </tr>\n",
              "    <tr>\n",
              "      <th>37590</th>\n",
              "      <td>Publicly-listed plantation company PT Astra Ag...</td>\n",
              "      <td>PT Astra Agro Lestari Tbk AALI semester I 2008...</td>\n",
              "    </tr>\n",
              "  </tbody>\n",
              "</table>\n",
              "<p>37591 rows × 2 columns</p>\n",
              "</div>\n",
              "    <div class=\"colab-df-buttons\">\n",
              "\n",
              "  <div class=\"colab-df-container\">\n",
              "    <button class=\"colab-df-convert\" onclick=\"convertToInteractive('df-380fccf4-3f0d-45fd-974d-3e598e67ebba')\"\n",
              "            title=\"Convert this dataframe to an interactive table.\"\n",
              "            style=\"display:none;\">\n",
              "\n",
              "  <svg xmlns=\"http://www.w3.org/2000/svg\" height=\"24px\" viewBox=\"0 -960 960 960\">\n",
              "    <path d=\"M120-120v-720h720v720H120Zm60-500h600v-160H180v160Zm220 220h160v-160H400v160Zm0 220h160v-160H400v160ZM180-400h160v-160H180v160Zm440 0h160v-160H620v160ZM180-180h160v-160H180v160Zm440 0h160v-160H620v160Z\"/>\n",
              "  </svg>\n",
              "    </button>\n",
              "\n",
              "  <style>\n",
              "    .colab-df-container {\n",
              "      display:flex;\n",
              "      gap: 12px;\n",
              "    }\n",
              "\n",
              "    .colab-df-convert {\n",
              "      background-color: #E8F0FE;\n",
              "      border: none;\n",
              "      border-radius: 50%;\n",
              "      cursor: pointer;\n",
              "      display: none;\n",
              "      fill: #1967D2;\n",
              "      height: 32px;\n",
              "      padding: 0 0 0 0;\n",
              "      width: 32px;\n",
              "    }\n",
              "\n",
              "    .colab-df-convert:hover {\n",
              "      background-color: #E2EBFA;\n",
              "      box-shadow: 0px 1px 2px rgba(60, 64, 67, 0.3), 0px 1px 3px 1px rgba(60, 64, 67, 0.15);\n",
              "      fill: #174EA6;\n",
              "    }\n",
              "\n",
              "    .colab-df-buttons div {\n",
              "      margin-bottom: 4px;\n",
              "    }\n",
              "\n",
              "    [theme=dark] .colab-df-convert {\n",
              "      background-color: #3B4455;\n",
              "      fill: #D2E3FC;\n",
              "    }\n",
              "\n",
              "    [theme=dark] .colab-df-convert:hover {\n",
              "      background-color: #434B5C;\n",
              "      box-shadow: 0px 1px 3px 1px rgba(0, 0, 0, 0.15);\n",
              "      filter: drop-shadow(0px 1px 2px rgba(0, 0, 0, 0.3));\n",
              "      fill: #FFFFFF;\n",
              "    }\n",
              "  </style>\n",
              "\n",
              "    <script>\n",
              "      const buttonEl =\n",
              "        document.querySelector('#df-380fccf4-3f0d-45fd-974d-3e598e67ebba button.colab-df-convert');\n",
              "      buttonEl.style.display =\n",
              "        google.colab.kernel.accessAllowed ? 'block' : 'none';\n",
              "\n",
              "      async function convertToInteractive(key) {\n",
              "        const element = document.querySelector('#df-380fccf4-3f0d-45fd-974d-3e598e67ebba');\n",
              "        const dataTable =\n",
              "          await google.colab.kernel.invokeFunction('convertToInteractive',\n",
              "                                                    [key], {});\n",
              "        if (!dataTable) return;\n",
              "\n",
              "        const docLinkHtml = 'Like what you see? Visit the ' +\n",
              "          '<a target=\"_blank\" href=https://colab.research.google.com/notebooks/data_table.ipynb>data table notebook</a>'\n",
              "          + ' to learn more about interactive tables.';\n",
              "        element.innerHTML = '';\n",
              "        dataTable['output_type'] = 'display_data';\n",
              "        await google.colab.output.renderOutput(dataTable, element);\n",
              "        const docLink = document.createElement('div');\n",
              "        docLink.innerHTML = docLinkHtml;\n",
              "        element.appendChild(docLink);\n",
              "      }\n",
              "    </script>\n",
              "  </div>\n",
              "\n",
              "\n",
              "<div id=\"df-70ce6309-e081-48c6-83f7-a9bc06839007\">\n",
              "  <button class=\"colab-df-quickchart\" onclick=\"quickchart('df-70ce6309-e081-48c6-83f7-a9bc06839007')\"\n",
              "            title=\"Suggest charts\"\n",
              "            style=\"display:none;\">\n",
              "\n",
              "<svg xmlns=\"http://www.w3.org/2000/svg\" height=\"24px\"viewBox=\"0 0 24 24\"\n",
              "     width=\"24px\">\n",
              "    <g>\n",
              "        <path d=\"M19 3H5c-1.1 0-2 .9-2 2v14c0 1.1.9 2 2 2h14c1.1 0 2-.9 2-2V5c0-1.1-.9-2-2-2zM9 17H7v-7h2v7zm4 0h-2V7h2v10zm4 0h-2v-4h2v4z\"/>\n",
              "    </g>\n",
              "</svg>\n",
              "  </button>\n",
              "\n",
              "<style>\n",
              "  .colab-df-quickchart {\n",
              "      --bg-color: #E8F0FE;\n",
              "      --fill-color: #1967D2;\n",
              "      --hover-bg-color: #E2EBFA;\n",
              "      --hover-fill-color: #174EA6;\n",
              "      --disabled-fill-color: #AAA;\n",
              "      --disabled-bg-color: #DDD;\n",
              "  }\n",
              "\n",
              "  [theme=dark] .colab-df-quickchart {\n",
              "      --bg-color: #3B4455;\n",
              "      --fill-color: #D2E3FC;\n",
              "      --hover-bg-color: #434B5C;\n",
              "      --hover-fill-color: #FFFFFF;\n",
              "      --disabled-bg-color: #3B4455;\n",
              "      --disabled-fill-color: #666;\n",
              "  }\n",
              "\n",
              "  .colab-df-quickchart {\n",
              "    background-color: var(--bg-color);\n",
              "    border: none;\n",
              "    border-radius: 50%;\n",
              "    cursor: pointer;\n",
              "    display: none;\n",
              "    fill: var(--fill-color);\n",
              "    height: 32px;\n",
              "    padding: 0;\n",
              "    width: 32px;\n",
              "  }\n",
              "\n",
              "  .colab-df-quickchart:hover {\n",
              "    background-color: var(--hover-bg-color);\n",
              "    box-shadow: 0 1px 2px rgba(60, 64, 67, 0.3), 0 1px 3px 1px rgba(60, 64, 67, 0.15);\n",
              "    fill: var(--button-hover-fill-color);\n",
              "  }\n",
              "\n",
              "  .colab-df-quickchart-complete:disabled,\n",
              "  .colab-df-quickchart-complete:disabled:hover {\n",
              "    background-color: var(--disabled-bg-color);\n",
              "    fill: var(--disabled-fill-color);\n",
              "    box-shadow: none;\n",
              "  }\n",
              "\n",
              "  .colab-df-spinner {\n",
              "    border: 2px solid var(--fill-color);\n",
              "    border-color: transparent;\n",
              "    border-bottom-color: var(--fill-color);\n",
              "    animation:\n",
              "      spin 1s steps(1) infinite;\n",
              "  }\n",
              "\n",
              "  @keyframes spin {\n",
              "    0% {\n",
              "      border-color: transparent;\n",
              "      border-bottom-color: var(--fill-color);\n",
              "      border-left-color: var(--fill-color);\n",
              "    }\n",
              "    20% {\n",
              "      border-color: transparent;\n",
              "      border-left-color: var(--fill-color);\n",
              "      border-top-color: var(--fill-color);\n",
              "    }\n",
              "    30% {\n",
              "      border-color: transparent;\n",
              "      border-left-color: var(--fill-color);\n",
              "      border-top-color: var(--fill-color);\n",
              "      border-right-color: var(--fill-color);\n",
              "    }\n",
              "    40% {\n",
              "      border-color: transparent;\n",
              "      border-right-color: var(--fill-color);\n",
              "      border-top-color: var(--fill-color);\n",
              "    }\n",
              "    60% {\n",
              "      border-color: transparent;\n",
              "      border-right-color: var(--fill-color);\n",
              "    }\n",
              "    80% {\n",
              "      border-color: transparent;\n",
              "      border-right-color: var(--fill-color);\n",
              "      border-bottom-color: var(--fill-color);\n",
              "    }\n",
              "    90% {\n",
              "      border-color: transparent;\n",
              "      border-bottom-color: var(--fill-color);\n",
              "    }\n",
              "  }\n",
              "</style>\n",
              "\n",
              "  <script>\n",
              "    async function quickchart(key) {\n",
              "      const quickchartButtonEl =\n",
              "        document.querySelector('#' + key + ' button');\n",
              "      quickchartButtonEl.disabled = true;  // To prevent multiple clicks.\n",
              "      quickchartButtonEl.classList.add('colab-df-spinner');\n",
              "      try {\n",
              "        const charts = await google.colab.kernel.invokeFunction(\n",
              "            'suggestCharts', [key], {});\n",
              "      } catch (error) {\n",
              "        console.error('Error during call to suggestCharts:', error);\n",
              "      }\n",
              "      quickchartButtonEl.classList.remove('colab-df-spinner');\n",
              "      quickchartButtonEl.classList.add('colab-df-quickchart-complete');\n",
              "    }\n",
              "    (() => {\n",
              "      let quickchartButtonEl =\n",
              "        document.querySelector('#df-70ce6309-e081-48c6-83f7-a9bc06839007 button');\n",
              "      quickchartButtonEl.style.display =\n",
              "        google.colab.kernel.accessAllowed ? 'block' : 'none';\n",
              "    })();\n",
              "  </script>\n",
              "</div>\n",
              "\n",
              "  <div id=\"id_304e4245-bc7e-497b-8432-5b52f4695495\">\n",
              "    <style>\n",
              "      .colab-df-generate {\n",
              "        background-color: #E8F0FE;\n",
              "        border: none;\n",
              "        border-radius: 50%;\n",
              "        cursor: pointer;\n",
              "        display: none;\n",
              "        fill: #1967D2;\n",
              "        height: 32px;\n",
              "        padding: 0 0 0 0;\n",
              "        width: 32px;\n",
              "      }\n",
              "\n",
              "      .colab-df-generate:hover {\n",
              "        background-color: #E2EBFA;\n",
              "        box-shadow: 0px 1px 2px rgba(60, 64, 67, 0.3), 0px 1px 3px 1px rgba(60, 64, 67, 0.15);\n",
              "        fill: #174EA6;\n",
              "      }\n",
              "\n",
              "      [theme=dark] .colab-df-generate {\n",
              "        background-color: #3B4455;\n",
              "        fill: #D2E3FC;\n",
              "      }\n",
              "\n",
              "      [theme=dark] .colab-df-generate:hover {\n",
              "        background-color: #434B5C;\n",
              "        box-shadow: 0px 1px 3px 1px rgba(0, 0, 0, 0.15);\n",
              "        filter: drop-shadow(0px 1px 2px rgba(0, 0, 0, 0.3));\n",
              "        fill: #FFFFFF;\n",
              "      }\n",
              "    </style>\n",
              "    <button class=\"colab-df-generate\" onclick=\"generateWithVariable('df')\"\n",
              "            title=\"Generate code using this dataframe.\"\n",
              "            style=\"display:none;\">\n",
              "\n",
              "  <svg xmlns=\"http://www.w3.org/2000/svg\" height=\"24px\"viewBox=\"0 0 24 24\"\n",
              "       width=\"24px\">\n",
              "    <path d=\"M7,19H8.4L18.45,9,17,7.55,7,17.6ZM5,21V16.75L18.45,3.32a2,2,0,0,1,2.83,0l1.4,1.43a1.91,1.91,0,0,1,.58,1.4,1.91,1.91,0,0,1-.58,1.4L9.25,21ZM18.45,9,17,7.55Zm-12,3A5.31,5.31,0,0,0,4.9,8.1,5.31,5.31,0,0,0,1,6.5,5.31,5.31,0,0,0,4.9,4.9,5.31,5.31,0,0,0,6.5,1,5.31,5.31,0,0,0,8.1,4.9,5.31,5.31,0,0,0,12,6.5,5.46,5.46,0,0,0,6.5,12Z\"/>\n",
              "  </svg>\n",
              "    </button>\n",
              "    <script>\n",
              "      (() => {\n",
              "      const buttonEl =\n",
              "        document.querySelector('#id_304e4245-bc7e-497b-8432-5b52f4695495 button.colab-df-generate');\n",
              "      buttonEl.style.display =\n",
              "        google.colab.kernel.accessAllowed ? 'block' : 'none';\n",
              "\n",
              "      buttonEl.onclick = () => {\n",
              "        google.colab.notebook.generateWithVariable('df');\n",
              "      }\n",
              "      })();\n",
              "    </script>\n",
              "  </div>\n",
              "\n",
              "    </div>\n",
              "  </div>\n"
            ],
            "application/vnd.google.colaboratory.intrinsic+json": {
              "type": "dataframe",
              "variable_name": "df",
              "summary": "{\n  \"name\": \"df\",\n  \"rows\": 37591,\n  \"fields\": [\n    {\n      \"column\": \"English\",\n      \"properties\": {\n        \"dtype\": \"string\",\n        \"num_unique_values\": 36535,\n        \"samples\": [\n          \"It seems that we will be able to secure the flow of goods, he said.\",\n          \"I think it's dangerous for children to play in the pond.\",\n          \"He said the purchase agreement would not disrupt domestic sale and export business arrangement within BUMI.\"\n        ],\n        \"semantic_type\": \"\",\n        \"description\": \"\"\n      }\n    },\n    {\n      \"column\": \"Indonesian\",\n      \"properties\": {\n        \"dtype\": \"string\",\n        \"num_unique_values\": 36182,\n        \"samples\": [\n          \"Finalis Australia Terbuka Marcos Baghdatis menggantikan tempat Roger Federer yang tengah didera sakit perut di undian turnamen Kooyong Classic, seperti dinyatakan penyelenggara.\",\n          \"Asia sudah lama dirusak oleh skandal korupsi sepak bola.\",\n          \"Saya warga negara Kanada.\"\n        ],\n        \"semantic_type\": \"\",\n        \"description\": \"\"\n      }\n    }\n  ]\n}"
            }
          },
          "metadata": {},
          "execution_count": 4
        }
      ]
    },
    {
      "cell_type": "code",
      "source": [
        "df.drop(columns=['Javanese'], inplace=True)\n",
        "df"
      ],
      "metadata": {
        "id": "oy9miiN7VVgY",
        "outputId": "9b0a76b2-e960-46bb-e33e-42ea7469f4a2",
        "colab": {
          "base_uri": "https://localhost:8080/",
          "height": 423
        }
      },
      "execution_count": null,
      "outputs": [
        {
          "output_type": "execute_result",
          "data": {
            "text/plain": [
              "                                                 English  \\\n",
              "0                                                    Hi.   \n",
              "1                                                   Run!   \n",
              "2                                                   Run.   \n",
              "3                                                   Who?   \n",
              "4                                                   Wow!   \n",
              "...                                                  ...   \n",
              "13565  When she was finished ironing, Mary switched o...   \n",
              "13566  When he got up to make his speech, Tom's mind ...   \n",
              "13567  January, February, March, April, May, June, Ju...   \n",
              "13568  Irene Pepperberg, a researcher at Northwestern...   \n",
              "13569  If a person has not had a chance to acquire hi...   \n",
              "\n",
              "                                              Indonesian  \n",
              "0                                                   Hai.  \n",
              "1                                                  Lari!  \n",
              "2                                                  Lari!  \n",
              "3                                                 Siapa?  \n",
              "4                                                   Wow!  \n",
              "...                                                  ...  \n",
              "13565  Ketika dia sudah selesai menyetrika, Mary mema...  \n",
              "13566  Ketika Tom berdiri untuk pidato, pikirannya ti...  \n",
              "13567  Januari, Februari, Maret, April, Mei, Juni, Ju...  \n",
              "13568  Irene Pepperberg, seorang peneliti di Universi...  \n",
              "13569  Jika seseorang tidak berkesempatan untuk mengu...  \n",
              "\n",
              "[13570 rows x 2 columns]"
            ],
            "text/html": [
              "\n",
              "  <div id=\"df-72fe0210-6957-454f-b846-465016b801cd\" class=\"colab-df-container\">\n",
              "    <div>\n",
              "<style scoped>\n",
              "    .dataframe tbody tr th:only-of-type {\n",
              "        vertical-align: middle;\n",
              "    }\n",
              "\n",
              "    .dataframe tbody tr th {\n",
              "        vertical-align: top;\n",
              "    }\n",
              "\n",
              "    .dataframe thead th {\n",
              "        text-align: right;\n",
              "    }\n",
              "</style>\n",
              "<table border=\"1\" class=\"dataframe\">\n",
              "  <thead>\n",
              "    <tr style=\"text-align: right;\">\n",
              "      <th></th>\n",
              "      <th>English</th>\n",
              "      <th>Indonesian</th>\n",
              "    </tr>\n",
              "  </thead>\n",
              "  <tbody>\n",
              "    <tr>\n",
              "      <th>0</th>\n",
              "      <td>Hi.</td>\n",
              "      <td>Hai.</td>\n",
              "    </tr>\n",
              "    <tr>\n",
              "      <th>1</th>\n",
              "      <td>Run!</td>\n",
              "      <td>Lari!</td>\n",
              "    </tr>\n",
              "    <tr>\n",
              "      <th>2</th>\n",
              "      <td>Run.</td>\n",
              "      <td>Lari!</td>\n",
              "    </tr>\n",
              "    <tr>\n",
              "      <th>3</th>\n",
              "      <td>Who?</td>\n",
              "      <td>Siapa?</td>\n",
              "    </tr>\n",
              "    <tr>\n",
              "      <th>4</th>\n",
              "      <td>Wow!</td>\n",
              "      <td>Wow!</td>\n",
              "    </tr>\n",
              "    <tr>\n",
              "      <th>...</th>\n",
              "      <td>...</td>\n",
              "      <td>...</td>\n",
              "    </tr>\n",
              "    <tr>\n",
              "      <th>13565</th>\n",
              "      <td>When she was finished ironing, Mary switched o...</td>\n",
              "      <td>Ketika dia sudah selesai menyetrika, Mary mema...</td>\n",
              "    </tr>\n",
              "    <tr>\n",
              "      <th>13566</th>\n",
              "      <td>When he got up to make his speech, Tom's mind ...</td>\n",
              "      <td>Ketika Tom berdiri untuk pidato, pikirannya ti...</td>\n",
              "    </tr>\n",
              "    <tr>\n",
              "      <th>13567</th>\n",
              "      <td>January, February, March, April, May, June, Ju...</td>\n",
              "      <td>Januari, Februari, Maret, April, Mei, Juni, Ju...</td>\n",
              "    </tr>\n",
              "    <tr>\n",
              "      <th>13568</th>\n",
              "      <td>Irene Pepperberg, a researcher at Northwestern...</td>\n",
              "      <td>Irene Pepperberg, seorang peneliti di Universi...</td>\n",
              "    </tr>\n",
              "    <tr>\n",
              "      <th>13569</th>\n",
              "      <td>If a person has not had a chance to acquire hi...</td>\n",
              "      <td>Jika seseorang tidak berkesempatan untuk mengu...</td>\n",
              "    </tr>\n",
              "  </tbody>\n",
              "</table>\n",
              "<p>13570 rows × 2 columns</p>\n",
              "</div>\n",
              "    <div class=\"colab-df-buttons\">\n",
              "\n",
              "  <div class=\"colab-df-container\">\n",
              "    <button class=\"colab-df-convert\" onclick=\"convertToInteractive('df-72fe0210-6957-454f-b846-465016b801cd')\"\n",
              "            title=\"Convert this dataframe to an interactive table.\"\n",
              "            style=\"display:none;\">\n",
              "\n",
              "  <svg xmlns=\"http://www.w3.org/2000/svg\" height=\"24px\" viewBox=\"0 -960 960 960\">\n",
              "    <path d=\"M120-120v-720h720v720H120Zm60-500h600v-160H180v160Zm220 220h160v-160H400v160Zm0 220h160v-160H400v160ZM180-400h160v-160H180v160Zm440 0h160v-160H620v160ZM180-180h160v-160H180v160Zm440 0h160v-160H620v160Z\"/>\n",
              "  </svg>\n",
              "    </button>\n",
              "\n",
              "  <style>\n",
              "    .colab-df-container {\n",
              "      display:flex;\n",
              "      gap: 12px;\n",
              "    }\n",
              "\n",
              "    .colab-df-convert {\n",
              "      background-color: #E8F0FE;\n",
              "      border: none;\n",
              "      border-radius: 50%;\n",
              "      cursor: pointer;\n",
              "      display: none;\n",
              "      fill: #1967D2;\n",
              "      height: 32px;\n",
              "      padding: 0 0 0 0;\n",
              "      width: 32px;\n",
              "    }\n",
              "\n",
              "    .colab-df-convert:hover {\n",
              "      background-color: #E2EBFA;\n",
              "      box-shadow: 0px 1px 2px rgba(60, 64, 67, 0.3), 0px 1px 3px 1px rgba(60, 64, 67, 0.15);\n",
              "      fill: #174EA6;\n",
              "    }\n",
              "\n",
              "    .colab-df-buttons div {\n",
              "      margin-bottom: 4px;\n",
              "    }\n",
              "\n",
              "    [theme=dark] .colab-df-convert {\n",
              "      background-color: #3B4455;\n",
              "      fill: #D2E3FC;\n",
              "    }\n",
              "\n",
              "    [theme=dark] .colab-df-convert:hover {\n",
              "      background-color: #434B5C;\n",
              "      box-shadow: 0px 1px 3px 1px rgba(0, 0, 0, 0.15);\n",
              "      filter: drop-shadow(0px 1px 2px rgba(0, 0, 0, 0.3));\n",
              "      fill: #FFFFFF;\n",
              "    }\n",
              "  </style>\n",
              "\n",
              "    <script>\n",
              "      const buttonEl =\n",
              "        document.querySelector('#df-72fe0210-6957-454f-b846-465016b801cd button.colab-df-convert');\n",
              "      buttonEl.style.display =\n",
              "        google.colab.kernel.accessAllowed ? 'block' : 'none';\n",
              "\n",
              "      async function convertToInteractive(key) {\n",
              "        const element = document.querySelector('#df-72fe0210-6957-454f-b846-465016b801cd');\n",
              "        const dataTable =\n",
              "          await google.colab.kernel.invokeFunction('convertToInteractive',\n",
              "                                                    [key], {});\n",
              "        if (!dataTable) return;\n",
              "\n",
              "        const docLinkHtml = 'Like what you see? Visit the ' +\n",
              "          '<a target=\"_blank\" href=https://colab.research.google.com/notebooks/data_table.ipynb>data table notebook</a>'\n",
              "          + ' to learn more about interactive tables.';\n",
              "        element.innerHTML = '';\n",
              "        dataTable['output_type'] = 'display_data';\n",
              "        await google.colab.output.renderOutput(dataTable, element);\n",
              "        const docLink = document.createElement('div');\n",
              "        docLink.innerHTML = docLinkHtml;\n",
              "        element.appendChild(docLink);\n",
              "      }\n",
              "    </script>\n",
              "  </div>\n",
              "\n",
              "\n",
              "<div id=\"df-6b46bf48-cca1-488a-9472-8961723bfed4\">\n",
              "  <button class=\"colab-df-quickchart\" onclick=\"quickchart('df-6b46bf48-cca1-488a-9472-8961723bfed4')\"\n",
              "            title=\"Suggest charts\"\n",
              "            style=\"display:none;\">\n",
              "\n",
              "<svg xmlns=\"http://www.w3.org/2000/svg\" height=\"24px\"viewBox=\"0 0 24 24\"\n",
              "     width=\"24px\">\n",
              "    <g>\n",
              "        <path d=\"M19 3H5c-1.1 0-2 .9-2 2v14c0 1.1.9 2 2 2h14c1.1 0 2-.9 2-2V5c0-1.1-.9-2-2-2zM9 17H7v-7h2v7zm4 0h-2V7h2v10zm4 0h-2v-4h2v4z\"/>\n",
              "    </g>\n",
              "</svg>\n",
              "  </button>\n",
              "\n",
              "<style>\n",
              "  .colab-df-quickchart {\n",
              "      --bg-color: #E8F0FE;\n",
              "      --fill-color: #1967D2;\n",
              "      --hover-bg-color: #E2EBFA;\n",
              "      --hover-fill-color: #174EA6;\n",
              "      --disabled-fill-color: #AAA;\n",
              "      --disabled-bg-color: #DDD;\n",
              "  }\n",
              "\n",
              "  [theme=dark] .colab-df-quickchart {\n",
              "      --bg-color: #3B4455;\n",
              "      --fill-color: #D2E3FC;\n",
              "      --hover-bg-color: #434B5C;\n",
              "      --hover-fill-color: #FFFFFF;\n",
              "      --disabled-bg-color: #3B4455;\n",
              "      --disabled-fill-color: #666;\n",
              "  }\n",
              "\n",
              "  .colab-df-quickchart {\n",
              "    background-color: var(--bg-color);\n",
              "    border: none;\n",
              "    border-radius: 50%;\n",
              "    cursor: pointer;\n",
              "    display: none;\n",
              "    fill: var(--fill-color);\n",
              "    height: 32px;\n",
              "    padding: 0;\n",
              "    width: 32px;\n",
              "  }\n",
              "\n",
              "  .colab-df-quickchart:hover {\n",
              "    background-color: var(--hover-bg-color);\n",
              "    box-shadow: 0 1px 2px rgba(60, 64, 67, 0.3), 0 1px 3px 1px rgba(60, 64, 67, 0.15);\n",
              "    fill: var(--button-hover-fill-color);\n",
              "  }\n",
              "\n",
              "  .colab-df-quickchart-complete:disabled,\n",
              "  .colab-df-quickchart-complete:disabled:hover {\n",
              "    background-color: var(--disabled-bg-color);\n",
              "    fill: var(--disabled-fill-color);\n",
              "    box-shadow: none;\n",
              "  }\n",
              "\n",
              "  .colab-df-spinner {\n",
              "    border: 2px solid var(--fill-color);\n",
              "    border-color: transparent;\n",
              "    border-bottom-color: var(--fill-color);\n",
              "    animation:\n",
              "      spin 1s steps(1) infinite;\n",
              "  }\n",
              "\n",
              "  @keyframes spin {\n",
              "    0% {\n",
              "      border-color: transparent;\n",
              "      border-bottom-color: var(--fill-color);\n",
              "      border-left-color: var(--fill-color);\n",
              "    }\n",
              "    20% {\n",
              "      border-color: transparent;\n",
              "      border-left-color: var(--fill-color);\n",
              "      border-top-color: var(--fill-color);\n",
              "    }\n",
              "    30% {\n",
              "      border-color: transparent;\n",
              "      border-left-color: var(--fill-color);\n",
              "      border-top-color: var(--fill-color);\n",
              "      border-right-color: var(--fill-color);\n",
              "    }\n",
              "    40% {\n",
              "      border-color: transparent;\n",
              "      border-right-color: var(--fill-color);\n",
              "      border-top-color: var(--fill-color);\n",
              "    }\n",
              "    60% {\n",
              "      border-color: transparent;\n",
              "      border-right-color: var(--fill-color);\n",
              "    }\n",
              "    80% {\n",
              "      border-color: transparent;\n",
              "      border-right-color: var(--fill-color);\n",
              "      border-bottom-color: var(--fill-color);\n",
              "    }\n",
              "    90% {\n",
              "      border-color: transparent;\n",
              "      border-bottom-color: var(--fill-color);\n",
              "    }\n",
              "  }\n",
              "</style>\n",
              "\n",
              "  <script>\n",
              "    async function quickchart(key) {\n",
              "      const quickchartButtonEl =\n",
              "        document.querySelector('#' + key + ' button');\n",
              "      quickchartButtonEl.disabled = true;  // To prevent multiple clicks.\n",
              "      quickchartButtonEl.classList.add('colab-df-spinner');\n",
              "      try {\n",
              "        const charts = await google.colab.kernel.invokeFunction(\n",
              "            'suggestCharts', [key], {});\n",
              "      } catch (error) {\n",
              "        console.error('Error during call to suggestCharts:', error);\n",
              "      }\n",
              "      quickchartButtonEl.classList.remove('colab-df-spinner');\n",
              "      quickchartButtonEl.classList.add('colab-df-quickchart-complete');\n",
              "    }\n",
              "    (() => {\n",
              "      let quickchartButtonEl =\n",
              "        document.querySelector('#df-6b46bf48-cca1-488a-9472-8961723bfed4 button');\n",
              "      quickchartButtonEl.style.display =\n",
              "        google.colab.kernel.accessAllowed ? 'block' : 'none';\n",
              "    })();\n",
              "  </script>\n",
              "</div>\n",
              "    </div>\n",
              "  </div>\n"
            ],
            "application/vnd.google.colaboratory.intrinsic+json": {
              "type": "dataframe",
              "variable_name": "df",
              "summary": "{\n  \"name\": \"df\",\n  \"rows\": 13570,\n  \"fields\": [\n    {\n      \"column\": \"English\",\n      \"properties\": {\n        \"dtype\": \"string\",\n        \"num_unique_values\": 12559,\n        \"samples\": [\n          \"I'm still curious.\",\n          \"How old are you? \\\"I'm sixteen.\\\"\",\n          \"Tom should be back any second.\"\n        ],\n        \"semantic_type\": \"\",\n        \"description\": \"\"\n      }\n    },\n    {\n      \"column\": \"Indonesian\",\n      \"properties\": {\n        \"dtype\": \"string\",\n        \"num_unique_values\": 12218,\n        \"samples\": [\n          \"Aku punya teman yang bapaknya seorang pianis yang terkenal.\",\n          \"Kalau kamu tidak mau ketinggalan kereta, lebih baik kamu bergegas.\",\n          \"Dia bukan dokter, melainkan guru.\"\n        ],\n        \"semantic_type\": \"\",\n        \"description\": \"\"\n      }\n    }\n  ]\n}"
            }
          },
          "metadata": {},
          "execution_count": 5
        }
      ]
    },
    {
      "cell_type": "code",
      "source": [
        "output_file_path = '/content/english-indo.txt'\n",
        "df.to_csv(output_file_path, sep=\"\\t\", index=False, header=False)"
      ],
      "metadata": {
        "id": "kILXYw3aVtYj"
      },
      "execution_count": null,
      "outputs": []
    },
    {
      "cell_type": "markdown",
      "metadata": {
        "id": "4qw_b6AKU8-I"
      },
      "source": [
        "## Parsing the data\n",
        "\n",
        "Each line contains an English sentence and its corresponding Spanish sentence.\n",
        "The English sentence is the *source sequence* and Spanish one is the *target sequence*.\n",
        "Before adding the text to a list, we convert it to lowercase."
      ]
    },
    {
      "cell_type": "code",
      "source": [
        "import pathlib\n",
        "\n",
        "text_file = pathlib.Path(\"/content/english-indo.txt\")"
      ],
      "metadata": {
        "id": "Qp5FLZwJWavm"
      },
      "execution_count": null,
      "outputs": []
    },
    {
      "cell_type": "code",
      "execution_count": null,
      "metadata": {
        "id": "wS68fJAhU8-I"
      },
      "outputs": [],
      "source": [
        "with open(text_file) as f:\n",
        "    lines = f.read().split(\"\\n\")[:-1]\n",
        "text_pairs = []\n",
        "for line in lines:\n",
        "    eng, indo = line.split(\"\\t\")\n",
        "    eng = eng.lower()\n",
        "    indo = indo.lower()\n",
        "    text_pairs.append((eng, indo))"
      ]
    },
    {
      "cell_type": "markdown",
      "metadata": {
        "id": "Cf08QVSAU8-I"
      },
      "source": [
        "Here's what our sentence pairs look like:"
      ]
    },
    {
      "cell_type": "code",
      "execution_count": null,
      "metadata": {
        "id": "YNq4FHAeU8-I",
        "outputId": "e522c7ae-40a5-4bf2-9aca-b024c407e4b1",
        "colab": {
          "base_uri": "https://localhost:8080/"
        }
      },
      "outputs": [
        {
          "output_type": "stream",
          "name": "stdout",
          "text": [
            "('we also often hear the electric turning off in a region related to an occurrence in the transformer because that is electric distribution center around the area.', 'kita juga sering mendengar pemadaman listrik di suatu daerah dihubungkan dengan kejadian di suatu gardu, karena memang di gardu inilah pusat penyaluran listrik di daerah tersebut.')\n",
            "(\"tom says he isn't guilty.\", 'tom bilang dia tidak bersalah.')\n",
            "('the broad-based rise also stemmed from firm u.s. retail sales for march, commerce department data showed retail sales growing a stronger-than-expected 0.7 percent in march.', 'sebuah laporan pemerintah memperlihatkan bahwa penjualan ritel maret, sebagai kajian salah satu indikator kemakmuran ekonomi, melonjak lebih besar dari perkiraan 0,7 persen juga disambut positif para investor.')\n",
            "(\"wow! it's been a long time.\", 'wow! sudah sekian lama.')\n",
            "('according to the statement, some $41 million of the funds will go to a program to empower farmers through a farmers group capacity development scheme and to an agriculture-based grant program.', 'proyek tersebut akan segera dimulai pada mei 2007 dan sebagian pinjaman 41 juta dolar as akan digunakan untuk memperkuat penyampaian layanan pertanian melalui pembangunan kapasitas bagi kelompok-kelompok petani dan mendukung program hibah berbasis petani.')\n"
          ]
        }
      ],
      "source": [
        "for _ in range(5):\n",
        "    print(random.choice(text_pairs))"
      ]
    },
    {
      "cell_type": "markdown",
      "metadata": {
        "id": "pv4_JAr6U8-I"
      },
      "source": [
        "Now, let's split the sentence pairs into a training set, a validation set,\n",
        "and a test set."
      ]
    },
    {
      "cell_type": "code",
      "execution_count": null,
      "metadata": {
        "id": "uJbAZeKEU8-I",
        "outputId": "560e28dd-8e2f-47d9-97a0-8fbf4d5d5b4b",
        "colab": {
          "base_uri": "https://localhost:8080/"
        }
      },
      "outputs": [
        {
          "output_type": "stream",
          "name": "stdout",
          "text": [
            "37591 total pairs\n",
            "31953 training pairs\n",
            "5638 validation pairs\n"
          ]
        }
      ],
      "source": [
        "import random\n",
        "\n",
        "# Assuming text_pairs is defined elsewhere\n",
        "random.shuffle(text_pairs)\n",
        "num_val_samples = int(0.15 * len(text_pairs))\n",
        "num_train_samples = len(text_pairs) - num_val_samples\n",
        "train_pairs = text_pairs[:num_train_samples]\n",
        "val_pairs = text_pairs[num_train_samples:]\n",
        "\n",
        "print(f\"{len(text_pairs)} total pairs\")\n",
        "print(f\"{len(train_pairs)} training pairs\")\n",
        "print(f\"{len(val_pairs)} validation pairs\")\n"
      ]
    },
    {
      "cell_type": "markdown",
      "metadata": {
        "id": "m_NSoNQXU8-J"
      },
      "source": [
        "## Tokenizing the data\n",
        "\n",
        "We'll define two tokenizers - one for the source language (English), and the other\n",
        "for the target language (Spanish). We'll be using\n",
        "`keras_nlp.tokenizers.WordPieceTokenizer` to tokenize the text.\n",
        "`keras_nlp.tokenizers.WordPieceTokenizer` takes a WordPiece vocabulary\n",
        "and has functions for tokenizing the text, and detokenizing sequences of tokens.\n",
        "\n",
        "Before we define the two tokenizers, we first need to train them on the dataset\n",
        "we have. The WordPiece tokenization algorithm is a subword tokenization algorithm;\n",
        "training it on a corpus gives us a vocabulary of subwords. A subword tokenizer\n",
        "is a compromise between word tokenizers (word tokenizers need very large\n",
        "vocabularies for good coverage of input words), and character tokenizers\n",
        "(characters don't really encode meaning like words do). Luckily, KerasNLP\n",
        "makes it very simple to train WordPiece on a corpus with the\n",
        "`keras_nlp.tokenizers.compute_word_piece_vocabulary` utility."
      ]
    },
    {
      "cell_type": "code",
      "execution_count": null,
      "metadata": {
        "id": "cmSCY9f2U8-J"
      },
      "outputs": [],
      "source": [
        "\n",
        "def train_word_piece(text_samples, vocab_size, reserved_tokens):\n",
        "    word_piece_ds = tf_data.Dataset.from_tensor_slices(text_samples)\n",
        "    vocab = keras_nlp.tokenizers.compute_word_piece_vocabulary(\n",
        "        word_piece_ds.batch(1000).prefetch(2),\n",
        "        vocabulary_size=vocab_size,\n",
        "        reserved_tokens=reserved_tokens,\n",
        "    )\n",
        "    return vocab\n"
      ]
    },
    {
      "cell_type": "markdown",
      "metadata": {
        "id": "Nai8QhrIU8-J"
      },
      "source": [
        "Every vocabulary has a few special, reserved tokens. We have four such tokens:\n",
        "\n",
        "- `\"[PAD]\"` - Padding token. Padding tokens are appended to the input sequence\n",
        "length when the input sequence length is shorter than the maximum sequence length.\n",
        "- `\"[UNK]\"` - Unknown token.\n",
        "- `\"[START]\"` - Token that marks the start of the input sequence.\n",
        "- `\"[END]\"` - Token that marks the end of the input sequence."
      ]
    },
    {
      "cell_type": "code",
      "execution_count": null,
      "metadata": {
        "id": "yOTJKOSNU8-J"
      },
      "outputs": [],
      "source": [
        "reserved_tokens = [\"[PAD]\", \"[UNK]\", \"[START]\", \"[END]\"]\n",
        "\n",
        "eng_samples = [text_pair[0] for text_pair in train_pairs]\n",
        "eng_vocab = train_word_piece(eng_samples, ENG_VOCAB_SIZE, reserved_tokens)\n",
        "\n",
        "indo_samples = [text_pair[1] for text_pair in train_pairs]\n",
        "indo_vocab = train_word_piece(indo_samples, INDO_VOCAB_SIZE, reserved_tokens)"
      ]
    },
    {
      "cell_type": "markdown",
      "metadata": {
        "id": "Q1D9vWUQU8-J"
      },
      "source": [
        "Let's see some tokens!"
      ]
    },
    {
      "cell_type": "code",
      "execution_count": null,
      "metadata": {
        "id": "AYZIKcWuU8-J",
        "outputId": "2cb256e7-b6fd-47a8-d58b-897d6678bf56",
        "colab": {
          "base_uri": "https://localhost:8080/"
        }
      },
      "outputs": [
        {
          "output_type": "stream",
          "name": "stdout",
          "text": [
            "English Tokens:  ['[PAD]', '[UNK]', '[START]', '[END]', '!', '\"', '$', '%', '&', \"'\", '(', ')', '+', ',', '-', '.', '/', '0', '1', '2', '3', '4', '5', '6', '7', '8', '9', ':', ';', '<', '=', '?', '`', 'a', 'b', 'c', 'd', 'e', 'f', 'g', 'h', 'i', 'j', 'k', 'l', 'm', 'n', 'o', 'p', 'q', 'r', 's', 't', 'u', 'v', 'w', 'x', 'y', 'z', '¢', '©', '°', 'â', 'ã', 'the', 'to', 'of', 'in', 'and', 'is', 'on', 'said', '##s', 'that', 'for', 'was', 'he', 'with', 'it', 'by', 'at', 'from', 'as', 'this', 'be', 'you', 'tom', 'are', 'have', 'has', 'not', 'percent', 'will', 'an', 'which', 'we', 'were', 'had', 'his', 'its', '##ing', 'but', 'year', 'us', 'they', 'would', 'after', 'can', 'their', 'bank', 'one', 'who', '##ed', 'also', 'been', 'two', 'government', 'or', 'first', '##d', 'up', 'there', 'when', 'do', 'last', 'indonesia', 'more', 'time', 'what', 'she', '##a', 'state', 'all', '##e', '##ly', 'other', 'out', 'so', 'my', 'people', 'only', 'than', 'trillion', 'three', 'about', 'here', 'like', 'no', 'over', 'world', 'into', 'pt', 'don', 'me', 'new', '##n', 'second', 'rate', 'billion', 'could', '##er', 'still', 'if', 'very', 'against', '2007', '##i', '##y', 'some', 'because', 'minister', 'told', '##t', '##o', 'company', 'president', 'your', 'country', 'before', 'while', 'economic', 'market', 'since', 'wednesday', 'rupiah', 'foreign', 'just', '##r', 'now', 'million', 'them', 'tuesday', 'made', 'through', 'monday', 'years', 'per', 'between', 'where', 'know', 'points', 'want', 'her', 'oil', 'police', 'four', 'these', 'did', 'how', 'mary', 'our', 'day', 'dollar', 'home', '##l', 'development', 'go', 'such', 'thursday', 'set', 'capital', 'inflation', 'make', 'back', 'him', 'should', 'security', 'central', 'many', '2006', 'number', 'killed', 'system', 'united', '000', 'growth', 'used', '##es', 'under', '2008', 'increase', 'minutes', 'end', 'may', 'win', 'down', 'any', 'high', '10', 'month', 'well', 'expected', 'take', '##k', 'most', 'good', 'international', 'long', 're', 'old', '##al', 'five', 'north', 'third', 'final', 'indonesian', 'next', 'off', 'same', 'interest', 'think', 'during', 'meeting', 'week', 'iraq', 'get', 'rp9', 'financial', 'finance', 'friday', 'going', 'league', 'exchange', '##0', 'sunday', 'need', '##m', 'national', 'six', 'group', 'side', 'bi', 'game', 'japan', 'price', 'public', 'cup', 'according', 'use', 'match', 'quarter', 'water', 'around', 'due', 'team', '##an', 'being', 'director', 'won', 'economy', 'way', 'come', 'half', 'military', 'must', 'added', 'even', 'see', 'based', 'much', 'states', 'another', 'play', 'then', 'south', 'including', 'business', 'earlier', 'al', 'level', 'reached', 'statement', 'city', '##5', 'house', 'official', 'help', 'saturday', 'net', 'gas', 'however', 'left', 'nuclear', 'prices', 'several', 've', 'period', '##h', '##on', 'countries', 'investment', 'right', 'season', 'budget', 'called', '##th', 'car', 'troops', '##u', 'information', 'part', 'found', 'll', 'months', 'let', 'local', 'body', 'both', 'ministry', 'until', 'does', 'global', 'energy', 'place', 'total', 'forces', 'open', 'those', '30', 'officials', 'money', 'put', 'report', 'top', 'why', '##ers', 'early', 'process', 'late', 'real', 'round', 'sector', 'too', 'former', '##c', 'micro', '##ion', 'never', 'came', 'general', 'yet', '##ic', 'didn', 'work', '##en', 'goal', 'without', '##8', 'able', 'agency', '20', 'again', 'bonds', 'reach', '##p', 'reported', 'far', 'really', 'following', 'small', '15', 'banks', 'give', 'life', 'problem', '25', 'credit', 'plan', 'took', 'attack', 'air', 'target', 'already', 'french', 'technology', '##2', '##ting', 'later', 'lead', 'profit', 'talks', 'better', 'china', 'jakarta', 'power', 'area', '##7', 'war', 'days', 'non', 'spokesman', '11', 'every', 'say', 'shares', 'went', '100', 'different', 'result', '##3', 'held', 'support', '##in', 'each', 'prime', 'big', 'japanese', 'minute', 'among', '##6', '##us', 'iran', '##1', '##4', '##rs', 'change', 'food', 'income', 'news', 'korea', 'order', '##b', 'away', 'head', 'become', 'least', 'tax', '##re', 'party', 'times', 'control', 'today', 'got', 'strong', 'coach', 'palestinian', '##ment', 'near', '##ation', 'program', 'service', '2005', 'production', '12', '50', 'loans', 'shot', '##ry', 'funds', 'leaders', 'tbk', 'domestic', 'known', 'led', 'champions', 'companies', 'compared', 'eight', 'pressure', '##ive', 'start', '##le', 'east', 'form', 'free', 'industry', 'force', 'iraqi', 'region', 'fourth', 'please', 'lost', '##ted', 'am', 'main', 'behind', 'israeli', 'issue', 'loan', '##g', 'american', 'agreement', 'data', 'fuel', 'stock', 'victory', 'regional', '##able', '##or', 'attacks', 'meet', 'political', 'share', 'worth', '16', 'ahead', 'higher', 'given', 'hit', 'past', 'visit', 'doesn', 'march', 'played', 'seen', 'always', 'asked', 'important', 'investors', 'using', 'further', 'striker', 'various', 'best', 'chief', 'children', 'club', 'man', 'nine', 'office', 'secretary', 'men', 'seven', 'ago', 'banking', 'hope', 'human', 'meanwhile', 'peace', 'position', 'amount', 'possible', '##9', '##f', 'june', 'point', 'rose', 'enough', 'face', 'gave', 'major', 'something', '##ra', 'games', 'january', 'rice', 'saw', 'soon', 'west', 'taken', '##te', 'beat', 'clear', 'violence', '##ness', '21', 'baghdad', 'condition', 'died', 'lower', 'title', 'computer', 'law', 'night', 'services', 'within', 'fund', 'leave', 'low', 'reporters', '##se', '14', 'blood', 'continue', 'despite', 'done', 'fell', 'fire', 'move', 'room', 'light', 'although', 'goals', 'keep', 'little', 'own', 'source', 'southern', 'working', 'book', 'close', 'morning', 'previous', '##ge', '##ia', '##ri', 'increased', 'listed', 'project', 'whether', '##ty', 'isn', 'look', 'often', 'sources', 'credits', 'drop', 'israel', 'living', 'name', 'others', 'sales', '##ch', 'army', 'lot', '13', 'anything', 'decision', 'province', 'unit', '##z', 'few', '19', 'afghanistan', 'nations', 'record', 'rp1', 'seed', 'species', '##ble', '##ts', 'buy', 'december', 'difficult', 'draw', 'needs', 'owned', 'rating', 'special', 'find', 'hard', 'making', 'research', 'agreed', 'bomb', 'death', 'middle', 'run', '##tion', '##um', 'april', 'less', 'members', 'publicly', 'scored', 'similar', 'soldiers', 'started', 'value', 'above', 'cooperation', 'policy', 'return', 'saying', 'things', 'british', 'bush', 'eat', 'matches', 'once', 'study', '##less', 'australia', 'cannot', 'caused', 'media', 'might', 'natural', 'un', 'break', 'deal', 'stay', 'wounded', '##et', 'fact', 'forward', 'france', 'hours', 'midfielder', 'stop', '##ce', 'cause', 'chinese', 'conditions', 'crude', 'hamas', 'institution', 'internet', 'needed', 'problems', 'structure', 'term', 'weeks', '##led', 'almost', 'defence', 'impact', 'injured', 'sri', 'though', '17', '18', 'conference', 'efforts', 'players', 'provide', 'september', '##ity', 'chance', 'having', 'rise', 'signed', 'wanted', '500', 'bought', 'building', 'front', 'health', 'movement', 'positive', '##ine', '##ro', 'dead', 'live', 'sent', 'trying', 'usually', 'africa', 'african', 'current', 'increasing', 'namely', 'showed', '##est', '##ist', 'ever', 'recent', 'whose', '##el', '2004', 'certain', 'issued', 'means', 'risk', 'television', '##ling', 'believe', 'court', 'defeat', 'develop', 'future', 'management', 'recorded', 'role', 'semi', 'taliban', 'turn', '##man', '##st', '23', 'carried', 'fighting', 'finals', 'large', 'placed', 'school', 'show', 'trade', '##is', '22', 'announced', 'asian', 'doing', 'post', 'poverty', 'press', 'read', 'senior', 'taking', 'border', 'consumption', 'developed', 'february', 'india', 'product', 'raise', 'sea', '##ar', '##red', 'crisis', 'great', 'likely', 'playing', 'received', 'rp', 'tons', '40', 'cut', 'pay', 'russian', 'situation', 'try', 'women', 'young', '##ke', '##ne', 'corporate', 'failed', 'happy', 'line', 'pakistan', 'resources', 'tell', 'cells', 'earth', 'groups', 'inside', 'itself', 'leader', 'opening', 'series', '##ent', 'adding', 'aid', 'bayern', 'deficit', 'fifth', 'operation', 'planning', 'range', 'reports', '##ated', '##ma', '##ur', '26', 'division', 'fish', 'predicted', 'red', 'strengthen', 'thought', '##ter', '##v', '60', 'arab', 'australian', 'cell', 'continued', 'cost', 'debt', 'european', 'governor', 'july', 'october', 'remain', '##at', '200', 'below', 'champion', 'closed', 'outside', 'poor', 'products', 'strike', '##ring', '300', 'hour', 'land', 'met', 'mother', 'spot', 'station', 'therefore', 'thing', '##da', '##na', '##w', '2003', 'performance', 'site', 'sure', 'afp', 'august', 'average', 'biggest', 'considered', 'currency', 'player', 'rebels', 'stage', 'table', '##ate', '##x', 'believed', 'board', 'full', 'inter', 'nation', 'ready', 'union', 'yen', '##de', '##nt', 'across', 'began', 'bri', 'chemical', 'design', 'feel', 'korean', 'love', 'qaeda', 'says', 'vice', '##ance', '##ta', 'activities', 'decided', 'happened', 'hospital', 'reduce', 'train', 'weapons', '##cy', 'animal', 'asia', 'authorities', 'ball', 'dollars', 'ended', 'especially', 'father', 'figure', 'followed', 'key', 'king', 'network', 'produced', 'quite', 'released', 'serve', 'theory', 'wants', '##il', 'base', 'hand', 'kept', 'member', 'regulation', 'suicide', 'wait', '##ng', '2009', '24', 'abbas', 'action', 'birds', 'conducted', 'created', 'effort', 'fall', 'goods', 'kind', 'northern', 'projects', 'representatives', 'russia', 'semester', 'space', 'white', 'winner', '##ian', 'areas', 'boston', 'call', 'defender', 'dropped', 'grow', 'hold', 'leg', 'moved', 'speed', 'stable', 'tournament', '##nce', '2002', '31', 'arsenal', 'barrel', 'injury', 'looking', 'opposition', 'private', 'road', '##ant', '##ary', '##sa', '##va', 'airport', 'capacity', 'deputy', 'evolution', 'gdp', 'happen', 'longer', 'nothing', 'step', 'students', 'tried', 'washington', 'wrong', 'yesterday', '##as', 'claimed', 'everything', 'family', 'heavy', 'islamic', 'job', 'launched', 'nature', 'question', 'scientists', 'sides', 'together', 'town', '##id', '##ise', '##ized', 'access', 'actually', 'bodies', 'district', 'fired', 'improve', 'largest', 'operations', 'premier', 'short', 'workers', '##to', '##ton', 'age', 'alone', 'arrested', 'available', 'contract', 'english', 'german', 'germany', 'matter', 'operating', 'planned', 'produce', 'understand', 'america', 'armed', 'britain', 'community', 'cross', 'estimated', 'event', 'finished', 'java', 'loss', 'parts', 'reason', 'suffered', 'tomorrow', '##ies', 'climate', 'committee', 'currently', 'extra', 'milan', 'monetary', 'named', 'phone', 'projected', 'provided', 'rights', 'serious', 'thus', '##age', '##ial', '##land', 'along', 'changes', 'coming', 'either', 'getting', 'lyon', 'material', 'millions', 'parties', 'person', 'previously', 'rest', 'seems', 'ten', 'tokyo', '##ally', '##ating', '##ct', '##ence', '##it', '##ors', 'affairs', 'born', 'broke', 'carry', 'chelsea', 'council', 'firm', 'institutions', 'iranian', 'italian', 'remaining', 'surface', 'thousands', '##ful', '##rd', '35', 'basis', 'case', 'demand', 'joint', 'looks', 'november', 'paper', 'plant', 'quality', '##di', '##me', 'aimed', 'allowed', 'answer', 'assets', 'bond', 'fast', 'immediately', 'medium', 'oxygen', 'penalty', 'plans', 'prevent', 'seeded', 'stood', 'thanks', '##ding', '##dy', '##ll', '##ual', 'boost', 'certainly', 'door', 'europe', 'fight', 'financing', 'ground', 'island', 'limited', 'looked', 'opened', 'rates', 'twice', 'university', 'balance', 'customers', 'gross', 'incident', 'killing', 'lebanon', 'madrid', 'militants', 'paid', 'present', 'race', 'software', '##am', '##ged', '##tor', '28', 'bad', 'daily', 'electricity', 'england', 'football', 'indian', 'makes', 'quoted', 'radio', 'send', 'winning', '##ction', '##ization', '75', 'beijing', 'besides', 'coal', 'comes', 'goalkeeper', 'ice', 'initial', 'involved', 'mulyani', 'parliament', 'probably', 'raised', 'somalia', 'test', 'towards', 'traffic', 'turned', 'wasn', 'weekend', 'western', 'wings', '##ka', '##ve', 'administration', 'anti', 'bring', 'cellular', 'competition', 'controlled', 'eggs', 'function', 'latest', 'medco', 'privatization', 'relations', 'rp2', 'saddam', 'via', 'waiting', 'web', 'woman', '##ki', '##nd', '##ure', 'afghan', 'bird', 'bottom', 'confirmed', 'construction', 'exports', 'forced', 'history', 'nearly', 'programs', 'speak', 'vehicle', 'advantage', 'bni', 'brazilian', 'brought', 'developing', 'drink', 'eastern', 'existence', 'fossil', 'friend', 'lives', 'nigeria', 'release', 'researchers', 'size', 'talk', '##ised', '##la', '##les', '##ping', '32', 'became', 'civilians', 'coast', 'easily', 'effect', 'focus', 'himself', 'progress', 'results', 'trip', '##ba', '##im', '##ous', 'additional', 'ban', 'becomes', 'books', 'campaign', 'department', 'evidence', 'factors', 'fatah', 'fixed', 'flight', 'grew', 'haven', 'included', 'newspaper', 'optimistic', 'pass', 'presidential', 'transaction', 'website', '##ck', '##ni', '27', 'brother', 'course', 'distribution', 'election', 'example', 'export', 'facilities', 'friends', 'mission', 'normal', 'potential', 'rain', 'shareholders', 'stadium', '##ded', '##ns', '##ze', '29', '70', 'approach', 'civil', 'electric', 'interesting', 'maintain', 'manager', 'reaching', 'reserves', 'sun', 'tour', '##ious', '##ps', 'arrived', 'brain', 'cabinet', 'designed', 'experience', 'expressed', 'eye', 'felt', 'field', 'issues', 'liverpool', 'mandiri', 'missing', 'paris', 'picture', 'plants', 'programme', 'ratings', 'reduced', 'required', 'save', 'singapore', 'spanish', 'struck', 'summit', 'sunni', 'suspected', 'training', 'whole', '##der', '##ions', '##line', 'animals', 'ask', 'chances', 'compound', 'create', 'directly', 'getafe', 'green', 'header', 'john', 'particularly', 'pefindo', 'recently', 'saudi', 'temperature', 'themselves', 'weather', 'york', '##cing', '##ming', 'assistance', 'cancer', 'complex', 'creatures', 'difference', 'evening', 'everyone', 'eyes', 'facility', 'feet', 'gaza', 'hundreds', 'kick', 'leading', 'letter', 'losing', 'mining', 'offer', 'plane', 'protect', 'ratio', 'rivals', 'sell', 'village', 'works', '##go', '##ks', '##li', '##sh', '39', '400', 'afternoon', 'antam', 'application', 'bacteria', 'creation', 'debts', 'double', 'explosion', 'formed', 'heard', 'heart', 'highest', 'infrastructure', 'method', 'muslim', 'negotiations', 'pacific', 'shiite', 'sixth', 'sleep', 'stability', 'stated', 'tie', 'tv', 'whereas', '##ging', '##ie', '45', 'attention', 'chairman', 'cold', 'completed', 'draft', 'drive', 'finish', 'follow', 'george', 'message', 'opportunity', 'possibility', 'related', 'remember', 'revised', 'street', 'student', 'units', 'wide', 'wife', '##ad', '##ir', '##med', '##ny', '##ung', '2001', 'accused', 'build', 'bus', 'education', 'equipment', 'fly', 'intelligence', 'italy', 'lebanese', 'ltd', 'malaysia', 'nobody', 'occurred', 'powerful', 'protection', 'receipts', 'remained', 'slow', 'sold', 'starting', 'strategic', 'systems', 'terms', 'watch', '##ier', '##ize', '##om', '##son', 'allow', 'bps', 'care', 'charge', 'conflict', 'damage', 'details', 'discuss', 'doctor', 'easy', 'extraordinary', 'grand', 'likes', 'mainly', 'mechanism', 'moving', 'offered', 'population', 'scale', 'significant', 'spain', 'success', 'teams', 'video', '##hip', '##ning', '2000', '2010', '80', 'activity', 'causing', 'center', 'common', 'david', 'disease', 'electronic', 'expenditures', 'hoped', 'language', 'perfect', 'policies', 'rather', 'scoring', 'soldier', 'speaking', 'steps', 'takes', 'tennis', 'travel', 'zone', '##ical', '##way', 'abdullah', 'championship', 'closer', 'coalition', 'computers', 'decrease', 'headed', 'helped', 'materials', 'modern', 'relatively', 'response', 'retail', 'reuters', 'sectors', 'seventh', '##ics', '##pe', '##rate', 'amid', 'appeared', 'barcelona', 'businesses', 'career', 'cash', 'communication', 'deposits', 'eating', 'environment', 'established', 'gone', 'knows', 'remains', 'science', 'score', 'securities', 'separate', 'session', 'sign', 'social', 'solution', 'son', 'stake', 'true', 'trust', 'weight', '37', 'abe', 'active', 'admitted', 'basic', 'carbon', 'casualties', 'contributed', 'discussed', 'embassy', 'federer', 'funding', 'god', 'implementation', 'learn', 'lose', 'palestinians', 'rules', 'shows', 'subsidy', 'summer', 'thank', 'tired', 'toll', '##ca', '##ha', '##ile', '##ration', '##uring', 'accident', 'anymore', 'arms', 'bit', 'changed', 'de', 'diplomatic', 'fiscal', 'giving', 'interested', 'internal', 'interview', 'islamist', 'keeper', 'mean', 'michael', 'online', 'park', 'port', 'quickly', 'reactor', 'rebel', 'river', 'single', 'skin', 'strengthened', 'surplus', 'wing', '##ism', '##lo', '##nes', '##rating', '##tive', '##ver', '34', 'battery', 'cars', 'clashes', 'coffee', 'corner', 'effective', 'expensive', 'forms', 'growing', 'improving', 'include', 'insurance', 'marseille', 'moment', 'munich', 'nato', 'proposed', 'rp3', 'sale', 'shown', 'smoke', 'supply', 'supported', 'type', 'ways', 'worked', '##ay', '##ium', '##ko', '##ms', '##ped', 'afraid', 'carrying', 'centre', 'deposit', 'described', 'die', 'eventually', 'host', 'hot', 'imports', 'industries', 'lake', 'ligue', 'macro', 'majority', 'music', 'necessary', 'negative', 'notes', 'operational', 'parents', 'payment', 'performing', 'posted', 'ran', 'revenues', 'satellite', 'scheme', 'sevilla', 'trend', 'types', 'warned', '##cted', '##ible', '##king', '##ments', '##ned', '##ses', '##ties', '41', 'accept', 'achieve', 'blast', 'cards', 'charged', 'cover', 'decline', 'digital', 'egypt', 'elections', 'engineering', 'fresh', 'fully', 'glass', 'gunmen', 'hopes', 'huge', 'injuries', 'instead', 'join', 'km', 'layer', 'liquidity', 'manchester', 'missed', 'olmert', 'plastic', 'questions', 'reading', 'rich', 'rival', 'robert', 'sometimes', 'sound', 'strategy', 'tamil', 'telephone', 'throughout', 'ties', 'urged', '##ap', '##co', '##ide', '##ten', '##ut', '##ution', '65', '90', 'ability', 'account', 'advanced', 'annual', 'association', 'birthday', 'black', 'bombs', 'covered', 'darfur', 'expect', 'fed', 'fighters', 'girl', 'hurt', 'index', 'interior', 'joined', 'lens', 'managed', 'officers', 'protests', 'pyongyang', 'relegation', 'scheduled', 'secure', 'smoking', 'syariah', 'talking', 'tight', 'upon', 'users', 'valencia', 'wish', '##do', '##ds', '##ically', '##ld', '##ls', '##res', '##ul', 'analyst', 'argentine', 'authority', 'begin', 'box', 'child', 'completely', 'congress', 'dog', 'expand', 'governments', 'idea', 'import', 'metres', 'moon', 'purpose', 'responsibility', 'returned', 'rising', 'row', 'seeking', 'shut', 'squad', 'straight', 'strength', 'subsidiary', 'teacher', 'transfer', '##j', '##mi', '##ol', '##out', '##tic', '##una', '##ving', '33', '36', 'adb', 'astra', 'backed', 'battle', 'beaten', 'blue', 'captain', 'cheney', 'civilian', 'complete', 'contact', 'creature', 'direct', 'euro', 'everybody', 'faced', 'factor', 'fellow', 'insects', 'investigation', 'lending', 'list', 'meant', 'multi', 'noted', 'officer', 'payments', 'places', 'plantation', 'refused', 'reserve', 'rule', 'someone', 'stages', 'stopped', 'technical', 'transactions', '##ak', '##ey', '##ient', '##ries', '##side', '##sion', '##ute', '##ves', 'act', 'add', 'alive', 'beating', 'bill', 'bundesliga', 'businessmen', 'commission', 'considering', 'darwin', 'delta', 'driver', 'edge', 'existing', 'facing', 'fans', 'finding', 'grant', 'hike', 'holding', 'identified', 'knowledge', 'london', 'machine', 'passed', 'purchase', 'rally', 'reaction', 'rp4', 'ruling', 'running', 'seconds', 'self', 'selling', 'signals', 'slightly', 'society', 'somali', 'strengthening', 'tiger', 'vehicles', 'volume', 'yudhoyono', '##bi', '##ja', '##no', '##ulate', '##wi', 'acquisition', 'appreciation', 'argentina', 'avoid', 'bicycle', 'challenge', 'clean', 'dangerous', 'dark', 'denied', 'else', 'ethiopian', 'fine', 'google', 'ii', 'insurgents', 'issuance', 'legs', 'lived', 'mark', 'mexico', 'mid', 'miles', 'milk', 'mind', 'promised', 'published', 'resolution', 'rocket', 'search', 'selection', 'supporters', 'tanks', 'tariff', 'threat', 'winners', 'worst', '##ish', '##ite', '##one', '##ss', '##ster', '##wa', '54', '55', 'affected', 'agree', 'anyone', 'bambang', 'beautiful', 'bid', 'capability', 'caught', 'commercial', 'confidence', 'connection', 'detained', 'dinner', 'direction', 'dpr', 'dutch', 'enterprises', 'explain', 'external', 'faster', 'forget', 'friendly', 'hezbollah', 'hole', 'implemented', 'individual', 'james', 'leaving', 'maximum', 'measures', 'mobile', 'nickel', 'pakistani', 'robot', 'shape', 'soil', 'starts', 'status', 'tehran', 'terrorist', 'tough', 'trading', 'transportation', 'uses', 'write', '##ah', '##be', '##ches', '##ges', '##ists', '##lin', '##pa', '##rt', '##un', '##up', '##ya', '##zed', '58', '99', 'address', 'atmosphere', 'beginning', 'bombing', 'bureau', 'busy', 'cat', 'class', 'consecutive', 'corruption', 'customs', 'deep', 'distributed', 'elements', 'evolutionary', 'exactly', 'favorite', 'greenback', 'hear', 'islamists', 'kidnapped', 'lack', 'markets', 'medical', 'memory', 'mfi', 'minus', 'monitor', 'moreover', 'muscles', 'olympic', 'origin', 'personnel', 'racing', 'respectively', 'safe', 'sick', 'soccer', 'store', 'task', 'telkomsel', 'terrorism', 'unable', 'victims', 'view', 'writing', '##ain', '##bility', '##ga', '##io', '##ked', '##ud', '##ward', '150', '42', '57', '59', 'accounts', 'assumed', 'barca', 'benchmark', 'bigger', 'bordeaux', 'couldn', 'declined', 'enter', 'explained', 'figures', 'fought', 'gold', 'greater', 'hair', 'hands', 'heat', 'hotel', 'hungry', 'independent', 'kilometres', 'laptop', 'located', 'married', 'microsoft', 'mine', 'mutations', 'outlook', 'overall', 'overcome', 'prison', 'regions', 'scientist', 'sectarian', 'spread', 'stand', 'star', 'steel', 'supporting', 'tigers', 'tree', 'trouble', 'wall', '##ama', '##ari', '##atic', '##ip', '##ons', '##rn', '##sed', '##tation', '##ti', '##tors', '51', 'agents', 'aircraft', 'allah', 'angry', 'applied', 'arabia', 'bangladesh', 'berlin', 'block', 'boy', 'bremen', 'causes', 'clash', 'co', 'comment', 'commitment', 'concern', 'date', 'demands', 'distance', 'drew', 'duty', 'expenditure', 'generally', 'genetic', 'hamburg', 'helicopters', 'helping', 'hosts', 'indicated', 'interim', 'journalists', 'kim', 'knew', 'legal', 'mega', 'murray', 'plays', 'prepared', 'pretty', 'processing', 'producing', 'professional', 'protein', 'qualifying', 'reflected', 'simple', 'sister', 'slam', 'smaller', 'spokesperson', 'stronger', 'sudan', 'sulawesi', 'telkom', 'trial', 'uefa', 'unity', 'user', 'van', 'virus', 'worried', '##by', '##ee', '##field', '##han', '##ification', '##ination', '##men', '##ron', '##vation', '##weight', '46', '47', 'affect', 'agricultural', 'ambassador', 'attempt', 'bapepam', 'bilateral', 'card', 'careful', 'cities', 'claim', 'complicated', 'content', 'crowd', 'deaths', 'doubt', 'extended', 'faces', 'flow', 'focused', 'gets', 'guilty', 'handed', 'illegal', 'increases', 'institute', 'intended', 'jsx', 'linked', 'losses', 'maybe', 'militant', 'miss', 'model', 'numbers', 'obtained', 'operator', 'operators', 'plus', 'principle', 'producer', 'provides', 'qatar', 'regime', 'resulted', 'risks', 'rp8', 'saving', 'secret', 'speech', 'statistics', 'sumatra', 'swim', 'visitors', 'waters', '##au', '##ef', '##gan', '##ins', '##ner', '##ple', '##table', '##tes', '##ulated', '##ved', '##zing', '38', '43', 'addition', 'agencies', 'ali', 'amounting', 'boss', 'buying', 'calls', 'commander', 'critical', 'damaged', 'doubles', 'fun', 'gradually', 'highly', 'impossible', 'insect', 'jan', 'jumped', 'kill', 'knee', 'levels', 'mohamed', 'newly', 'organization', 'outstanding', 'palm', 'protesters', 'providing', 'push', 'ranked', 'sanctions', 'seemed', 'ship', 'signs', 'soe', 'spending', 'story', 'substitute', 'surgery', 'tank', 'totally', 'understanding', 'witnesses', 'worries', '##ana', '##cation', '##ched', '##ency', '##ets', '##ities', '##jo', '##mo', '##ose', '04', '250', '49', '53', '56', '71', 'appearance', 'aren', 'benefits', 'boediono', 'brazil', 'broken', 'burhanuddin', 'camp', 'capable', 'captured', 'check', 'clock', 'controversial', 'costs', 'count', 'display', 'dr', 'driven', 'ease', 'eighth', 'ending', 'engine', 'enjoy', 'executive', 'fair', 'famous', 'features', 'female', 'fernando', 'guards', 'hasn', 'household', 'hydrogen', 'ida', 'improved', 'independence', 'insurgency', 'liquid', 'los', 'magazine', 'minimum', 'mosque', 'olympique', 'overseas', 'perform', 'phenomenon', 'provision', 'regarding', 'replaced', 'residents', 'returning', 'rp7', 'serie', 'sharia', 'shots', 'sky', 'song', 'st', 'standing', 'stored', 'streets', 'stroke', 'subject', 'substance', 'surabaya', 'susilo', 'suspended', 'syria', 'telecommunication', 'therapy', 'triggered', 'truck', 'werder', 'widely', 'winter', 'yellow', '##ang', '##ations', '##ever', '##ified', '##iling', '##ker', '##ris', '##vic', '48', '61', '62', '95', 'ac', 'accepted', 'alleged', 'alternative', 'americans', 'angeles', 'atletico', 'attacked', 'bed', 'comments', 'concept', 'continues', 'core', 'cpo', 'defense', 'democratic', 'device', 'dolphin', 'ensure', 'era', 'extend', 'fee', 'forgot', 'formation', 'gives', 'gulf', 'hopefully', 'imposed', 'indeed', 'industrial', 'influence', 'invasion', 'lanka', 'launch', 'learning', 'leaves', 'location', 'mountain', 'navy', 'nice', 'note', 'opportunities', 'passengers', 'protest', 'psg', 'raising', 'reaches', 'regulations', 'secured', 'seized', 'singles', 'spent', 'staff', 'surprise', 'targeted', 'technique', 'thailand', 'touch', 'treatment', 'twenty', 'uranium', 'warming', 'warning', 'weakened', 'window', 'written', '##als', '##ants', '##cent', '##ered', '##ley', '##oa', '##ong', '##orn', '##per', '##pt', '##ria', '##sm', '##uel', '##ws', '63', '68', '72', 'abroad', 'assumption', 'bappenas', 'benefit', 'bridge', 'cats', 'channel', 'cheap', 'combat', 'commodities', 'concerned', 'consists', 'converted', 'correct', 'defeated', 'developments', 'diseases', 'dominated', 'dozens', 'dream', 'efficient', 'energi', 'everton', 'expansion', 'experts', 'farmers', 'flying', 'generation', 'goes', 'halftime', 'hussein', 'isaf', 'kg', 'larger', 'launching', 'mahmoud', 'maker', 'mass', 'meantime', 'meetings', 'meters', 'mistake', 'mogadishu', 'monitoring', 'neighbouring', 'oic', 'ok', 'ownership', 'paul', 'popular', 'property', 'radical', 'reasons', 'republic', 'request', 'roger', 'seriously', 'significantly', 'simply', 'sit', 'standard', 'struggle', 'survive', 'thirty', 'whatever', 'word', 'younger', '##ative', '##bs', '##ez', '##ght', '##gi', '##ify', '##ings', '##ix', '##oo', '##ou', '##rable', '##rated', '##sing', '##tan', '##time', '##tory', '##ue', '##ys', '1997', '44', 'atomic', 'aware', 'banned', 'blamed', 'built', 'century', 'color', 'consumer', 'conventional', 'coordinating', 'counter', 'crashed', 'customer', 'danamon', 'davydenko', 'disappointed', 'discussions', 'environmental', 'excise', 'explosives', 'federal', 'finally', 'foot', 'forecast', 'frequently', 'functions', 'gates', 'grenade', 'holes', 'includes', 'indosat', 'initiative', 'interbank', 'iraqis', 'kuznetsova', 'la', 'lift', 'limit', 'nadal', 'offensive', 'offering', 'opponent', 'par', 'plantations', 'pull', 'raw', 'responsible', 'rp5', 'seek', 'sending', 'sharp', 'sorry', 'spokeswoman', 'sports', 'sufficient', 'survey', 'targets', 'thomas', 'thousand', 'threatened', 'toni', 'tottenham', 'universe', 'wave', 'wearing', 'wenger', 'wind', 'yourself', '##ard', '##art', '##bar', '##cal', '##ching', '##ians', '##indo', '##ler', '##logical', '##ore', '##ric', '##yed', '120', '52', 'agriculture', 'analysts', 'approved', 'believes', 'biological', 'camera', 'collected', 'confirm', 'danger', 'determined', 'dialogue', 'dortmund', 'egyptian', 'electrical', 'empty', 'enable', 'entered', 'execution', 'families', 'feed', 'forum', 'gap', 'ghana', 'heading', 'holders', 'husband', 'improvement', 'jankovic', 'keeps', 'liga', 'lunch', 'metal', 'missile', 'monthly', 'mortgage', 'mostly', 'movie', 'nasa', 'observed', 'offices', 'older', 'operate', 'opinion', 'pace', 'picked', 'planet', 'presence', 'pressures', 'prior', 'pro', 'quartet', 'receive', 'recovered', 'reducing', 'referring', 'rejected', 'religious', 'royal', 'san', 'sbi', 'schalke', 'served', 'signing', 'snow', 'soft', 'stayed', 'structures', 'studies', 'swimming', 'swiss', 'toward', 'turkish', 'unfortunately', 'unless', 'villa', 'violent', 'vote', 'warm', 'worry', '##ack', '##ans', '##den', '##ese', '##hi', '##ipe', '##kes', '##lines', '##llo', '##mination', '##my', '##ord', '##our', '##ram', '##rian', '##shed', '##ship', '##tle', '##ulation', '##uted', '##uting', '02', '1998', 'acquired', 'aggregate', 'apart', 'asean', 'aside', 'automatically', 'bakrie', 'birdies', 'bringing', 'budi', 'characteristics', 'conduct', 'conte', 'corporation', 'discovered', 'dragonfly', 'entering', 'entire', 'equal', 'examples', 'failure', 'fear', 'feature', 'fields', 'fit', 'frenchman', 'guard', 'hat', 'hill', 'indicators', 'indrawati', 'investor', 'juventus', 'kevin', 'lie', 'links', 'maintained', 'marine', 'matters', 'mature', 'ministers', 'motor', 'observer', 'obvious', 'onto', 'organs', 'outer', 'patient', 'pentagon', 'percents', 'poll', 'possibly', 'proved', 'pulled', 'quit', 'regular', 'relationship', 'requires', 'ring', 'roddick', 'roma', 'safety', 'saved', 'savings', 'slipped', 'successful', 'sugar', 'termites', 'ton', 'wake', 'watching', 'weak', 'websites', 'williams', 'windows', 'wine', 'withdrawal', '##ail', '##ator', '##bc', '##bia', '##een', '##ek', '##gas', '##izing', '##ji', '##mer', '##os', '##raft', '##ress', '##tch', '##ular', '##ulating', '##ury', '##vated', '##wards', '##ye', '1999', '64', '67', 'acid', 'ahmed', 'alliance', 'andy', 'appeal', 'assistant', 'baby', 'bag', 'barrels', 'bat', 'betis', 'birth', 'bombings', 'bones', 'branch', 'breaking', 'carlos', 'cement', 'comfortable', 'component', 'condoleezza', 'consider', 'creating', 'decades', 'decide', 'defending', 'demanded', 'deployment', 'destroyed', 'divided', 'djokovic', 'document', 'drug', 'drunk', 'eaten', 'enjoyed', 'exist', 'explanation', 'exploded', 'exploration', 'feb', 'floor', 'gain', 'giant', 'guided', 'height', 'integrated', 'kinds', 'kostaman', 'mallorca', 'ocean', 'organisation', 'prepare', 'primera', 'provincial', 'qualifier', 'reality', 'reptiles', 'requirement', 'roads', 'senegal', 'sensitive', 'sets', 'stars', 'succeeded', 'suspects', 'switzerland', 'track', 'turkey', 'villarreal', 'visiting', '##50', '##bo', '##chi', '##des', '##ened', '##ery', '##fa', '##istic', '##ited', '##ky', '##lan', '##nts', '##ot', '##ova', '##ph', '##sen', '##si', '##tt', '##uing', '##ying', '00', '66', '76', 'adopted', 'assessment', 'associated', 'attend', 'au', 'autonomy', 'bees', 'billions', 'bomber', 'ceiling', 'charges', 'clubs', 'committed', 'contribution', 'couple', 'crackdown', 'crime', 'crimes', 'declared', 'directorate', 'discussion', 'dividends', 'dna', 'drilling', 'driving', 'emergency', 'feathers', 'fiorentina', 'forming', 'fossils', 'gained', 'headquarters', 'healthy', 'houses', 'hundred', 'instruments', 'invest', 'involvement', 'ivory', 'joining', 'languages', 'library', 'maliki', 'mentioned', 'missiles', 'moscow', 'mutation', 'nearby', 'neither', 'nor', 'option', 'ordered', 'peacekeepers', 'pertamina', 'pictures', 'planted', 'pratama', 'pre', 'prey', 'projection', 'prospects', 'pte', 'receiving', 'reforms', 'refugees', 'regard', 'rescue', 'revenue', 'review', 'roberto', 'rp15', 'sadr', 'scientific', 'sense', 'serving', 'shortly', 'showing', 'sites', 'solar', 'square', 'surge', 'territory', 'tsunami', 'visited', 'volatile', 'weakening', 'wouldn', 'zimbabwe', '##ano', '##aya', '##ber', '##ena', '##ening', '##erate', '##hy', '##inho', '##ink', '##ncy', '##ology', '##ran', '##rily', '##tal', '##ther', '##ture', '##uated', '##ura', '##wed', '78', '800', 'acquire', 'anybody', 'approval', 'arrest', 'atp', 'auction', 'bar', 'blocked', 'cameroon', 'canada', 'canadian', 'claims', 'colombia', 'combined', 'compete', 'consisted', 'contains', 'crash', 'criminal', 'cry', 'culture', 'deadly', 'denominated', 'depends', 'deployed', 'drawn', 'educational', 'flew', 'flower', 'foreigners', 'fundamental', 'generated', 'girlfriend', 'glad', 'honey', 'humanitarian', 'identify', 'individuals', 'interests', 'ipo', 'knocked', 'laughing', 'laws', 'lawyer', 'le', 'liberation', 'listen', 'lots', 'lowering', 'miranda', 'molecule', 'movements', 'muhammad', 'nancy', 'nepal', 'occasion', 'offspring', 'olympics', 'ones', 'otherwise', 'particular', 'periods', 'phase', 'piece', 'predict', 'proposal', 'quick', 'rare', 'relating', 'ruled', 'screen', 'seeing', 'seem', 'ships', 'shooting', 'shouldn', 'signal', 'sleeping', 'soaring', 'specific', 'spend', 'strip', 'struggling', 'stuttgart', 'suffering', 'tankers', 'taxes', 'technologies', 'terrorists', 'tested', 'tin', 'tonight', 'upset', 'useful', 'vision', 'walk', 'weapon', 'welcome', 'words', '##ball', '##cle', '##ens', '##fer', '##ft', '##fy', '##gh', '##hed', '##hood', '##ig', '##lis', '##ock', '##od', '##off', '##pers', '##pted', '##rain', '##sis', '##ude', '##uk', '##ulates', '##ulous', '##well', '##yan', '##za', '1991', '600', '96', 'achieved', 'activists', 'amounts', 'ancient', 'appointed', 'artificial', 'astronomy', 'atm', 'bali', 'beyond', 'burning', 'characteristic', 'chocolate', 'clothes', 'command', 'connected', 'criticism', 'crying', 'darwinism', 'deals', 'diego', 'dioxide', 'disaster', 'dozen', 'drinking', 'egg', 'emerged', 'encourage', 'equalised', 'eto', 'exceed', 'executed', 'expanded', 'expenses', 'extremely', 'falling', 'fan', 'flies', 'frank', 'fueled', 'fulham', 'gun', 'guys', 'image', 'involving', 'kalimantan', 'laptops', 'lay', 'lee', 'leverkusen', 'license', 'lk', 'lowered', 'lungs', 'manage', 'marketing', 'meaning', 'medicine', 'merely', 'mistakes', 'mohammad', 'muscle', 'nicolas', 'officially', 'pair', 'partner', 'patients', 'pilgrims', 'policemen', 'presented', 'primary', 'pushed', 'realized', 'referred', 'reform', 'replace', 'resident', 'shi', 'sinaga', 'solid', 'spaniard', 'sporting', 'stress', 'strongly', 'strugglers', 'succeed', 'successive', 'super', 'superb', 'supplies', 'surely', 'surprised', 'survival', 'thick', 'threw', 'titles', 'tony', 'torn', 'unknown', 'vietnam', 'wounding', 'zaragoza', '##ache', '##adi', '##aging', '##asing', '##bel', '##board', '##ced', '##cting', '##date', '##fied', '##ii', '##ire', '##light', '##min', '##ories', '##ov', '##ral', '##ried', '##ural', '##urs', '##vin', '##ware', '##zation', '01', '11th', '1980s', '69', '85', '93', 'absolutely', 'aggressive', 'allegedly', 'analysis', 'apple', 'apples', 'applications', 'apply', 'arm', 'assist', 'assumptions', 'ate', 'beach', 'beirut', 'breakfast', 'cairo', 'cambrian', 'candidates', 'catch', 'championships', 'choice', 'closing', 'composition', 'conducive', 'cooperative', 'coordination', 'counterpart', 'crucial', 'currencies', 'debentures', 'difficulties', 'dismissed', 'dogs', 'earning', 'employee', 'encounter', 'enrichment', 'entrance', 'error', 'establishment', 'events', 'expectations', 'expert', 'factions', 'fat', 'fate', 'feeling', 'findings', 'fitch', 'fled', 'frequency', 'fruit', 'genes', 'guinea', 'hate', 'hearing', 'henin', 'hong', 'ill', 'impacts', 'increasingly', 'initially', 'kalla', 'ki', 'killings', 'kiloliters', 'kong', 'lying', 'manner', 'marked', 'martin', 'niger', 'object', 'occur', 'omar', 'opponents', 'originally', 'participants', 'pattern', 'peaceful', 'phones', 'pitch', 'pointed', 'positions', 'preparing', 'priority', 'processes', 'raid', 'realization', 'remote', 'respect', 'revealed', 'rockets', 'seat', 'sensor', 'sentiment', 'seoul', 'serb', 'settle', 'shinzo', 'soybean', 'spoke', 'stations', 'studied', 'style', 'suggest', 'suggested', 'supervision', 'taiwan', 'tear', 'testing', 'traded', 'tribal', 'trillions', 'truth', 'unrest', 'voice', 'vowed', 'wear', 'woods', 'yield', '##ada', '##af', '##ai', '##bbed', '##bour', '##cks', '##erry', '##iled', '##ility', '##ini', '##ips', '##itation', '##ito', '##itra', '##lana', '##lation', '##logy', '##lum', '##mb', '##mes', '##mist', '##ney', '##ode', '##ood', '##ory', '##ound', '##pped', '##ray', '##rict', '##rise', '##sure', '##tis', '##ua', '##uit', '##ven', '##vo', '##west', '##where', '##yu', '03', '10th', '17th', '1994', '700', '73', '81', '88', '98', 'abandoned', 'advance', 'advice', 'aged', 'agent', 'ally', 'attended', 'basra', 'bca', 'beings', 'bii', 'bin', 'borders', 'borrow', 'buildings', 'california', 'colleagues', 'competitive', 'concrete', 'condemned', 'constant', 'contain', 'contrary', 'contrast', 'corresponding', 'crossing', 'czech', 'daniel', 'delayed', 'delegation', 'delivery', 'earn', 'efficiency', 'ehud', 'equipped', 'eta', 'etc', 'euros', 'experiment', 'fabio', 'fears', 'flag', 'grants', 'guerrillas', 'happens', 'helmand', 'hitting', 'holds', 'hurry', 'identity', 'implement', 'insisted', 'jose', 'judge', 'kerosene', 'kids', 'lowest', 'mail', 'manufacturing', 'measure', 'minority', 'monitors', 'mouth', 'myself', 'nevertheless', 'nigerian', 'observation', 'occurs', 'ongoing', 'owner', 'pain', 'participation', 'patrol', 'peacekeeping', 'perfectly', 'personal', 'pieces', 'planes', 'pollution', 'powered', 'powers', 'purposes', 'questioned', 'referee', 'relation', 'relevant', 'representative', 'represented', 'resistance', 'rully', 'scores', 'sealed', 'setting', 'sex', 'sharapova', 'shipping', 'shock', 'shop', 'smell', 'spider', 'standings', 'stoppage', 'subsidiaries', 'supervisory', 'telling', 'tests', 'thayib', 'transport', 'treated', 'trick', 'wells', 'whom', 'wolfsburg', '##00', '##60', '##aries', '##cate', '##cture', '##dition', '##ean', '##era', '##fi', '##gro', '##he', '##holder', '##iation', '##ima', '##ina', '##inate', '##ising', '##ivated', '##las', '##lies', '##lle', '##logist', '##lon', '##nal', '##nder', '##oe', '##over', '##ow', '##po', '##ren', '##rial', '##ribe', '##rison', '##sson', '##uation', '##ues', '##ug', '##urse', '##use', '##ust', '##val', '##vi', '##wan', '##zy', '94', 'abducted', 'abduction', 'abu', 'acts', 'agenda', 'allows', 'angola', 'appreciate', 'arrive', 'asset', 'attract', 'automotive', 'basically', 'bear', 'becoming', 'blew', 'blind', 'bumi', 'cable', 'cake', 'cases', 'ceasefire', 'cgi', 'character', 'circulation', 'citing', 'climb', 'colony', 'commanders', 'commissioner', 'compatriot', 'concentration', 'consisting', 'consolidated', 'contest', 'continuously', 'cool', 'daughter', 'dawn', 'dividend', 'doctors', 'ear', 'edwin', 'element', 'employees', 'enemy', 'engaged', 'epa', 'facilitate', 'fishing', 'fix', 'fluctuations', 'freed', 'freedom', 'girondins', 'gnat', 'golf', 'handling', 'harm', 'henry', 'hikes', 'hoping', 'hotspur', 'howard', 'immediate', 'imported', 'inspired', 'installed', 'intervene', 'intervention', 'jordan', 'juan', 'jumping', 'kenya', 'knife', 'lies', 'lps', 'managers', 'mechanisms', 'metz', 'mugabe', 'nano', 'nerve', 'netherlands', 'newcastle', 'nova', 'nusantara', 'objective', 'occupied', 'organ', 'organizations', 'ousted', 'overnight', 'package', 'palace', 'parliamentary', 'partnership', 'performed', 'perhaps', 'polymer', 'possess', 'practice', 'proof', 'protecting', 'pulp', 'purchasing', 'qualify', 'rafael', 'rapidly', 'rebounds', 'recognize', 'rp10', 'sacked', 'sanchez', 'schools', 'semen', 'sheikh', 'shell', 'shoes', 'sitting', 'sounds', 'sport', 'stands', 'stocks', 'subscribers', 'sudanese', 'tall', 'trap', 'treasury', 'tunisia', 'unidentified', 'unique', 'unseeded', 'vessels', 'vfl', 'villages', 'waste', 'willing', 'withdraw', '##89', '##act', '##aked', '##ates', '##back', '##bled', '##bling', '##bly', '##bon', '##cs', '##ech', '##ect', '##eh', '##ents', '##fall', '##fly', '##gar', '##gation', '##gic', '##gments', '##ied', '##ipped', '##jan', '##ledge', '##lim', '##ob', '##oes', '##og', '##osing', '##oy', '##pose', '##posed', '##print', '##pu', '##rts', '##tin', '##ube', '##ume', '08', '110', '1996', '77', '84', '86', 'accord', 'aim', 'allocation', 'appear', 'appropriate', 'art', 'assault', 'bbc', 'blow', 'booked', 'calling', 'challenges', 'cited', 'clearly', 'communist', 'complained', 'confused', 'consumers', 'controlling', 'controls', 'convinced', 'cooking', 'curb', 'davis', 'debut', 'decade', 'delivered', 'democrats', 'demonstrators', 'desk', 'diplomat', 'disappeared', 'downward', 'equaliser', 'equity', 'ethiopia', 'eu', 'fa', 'faction', 'federation', 'fighter', 'firms', 'flu', 'forgive', 'fungi', 'gene', 'germain', 'girls', 'guess', 'hall', 'halt', 'hopanoid', 'iaea', 'imf', 'incentives', 'indicate', 'indicates', 'innocent', 'ivanovic', 'journal', 'jump', 'juve', 'lamp', 'locked', 'lucky', 'luis', 'magnitude', 'male', 'managing', 'mars', 'massive', 'metre', 'middlesbrough', 'mike', 'mineral', 'mount', 'negotiator', 'oldest', 'page', 'passing', 'paying', 'pln', 'portfolio', 'portsmouth', 'portugal', 'preventing', 'qualification', 'rebound', 'referendum', 'refugee', 'repeatedly', 'restore', 'revolutionary', 'sat', 'saudara', 'sentenced', 'sheet', 'solve', 'stolen', 'stressed', 'studying', 'suddenly', 'sumatera', 'supposed', 'sustained', 'syrian', 'taxi', 'temporary', 'tended', 'tends', 'thin', 'thinking', 'threats', 'ticket', 'tool', 'transferred', 'typically', 'umbrella', 'understood', 'upper', 'upward', 'usd', 'vessel', 'victim', 'vital', 'walls', 'wen', 'wins', 'worker', '##45', '##ability', '##ase', '##ast', '##bed', '##cated', '##cious', '##cular', '##del', '##em', '##ering', '##ermo', '##ern', '##ess', '##form', '##gue', '##hale', '##hing', '##hips', '##iate', '##ibility', '##ience', '##ino', '##ius', '##km', '##let', '##lf', '##lined', '##mark', '##mic', '##namic', '##nia', '##oid', '##ond', '##oured', '##port', '##que', '##rant', '##rit', '##room', '##ssed', '##stan', '##stic', '##ters', '##tional', '##tling', '##uate', '##uddin', '##ued', '##zer', '130', '18th', '1970s', '350', '82', '83', '91', '92', 'abductions', 'accompanied', 'accurate', 'actions', 'adrift', 'alert', 'allies', 'anonymity', 'anticipate', 'appears', 'asleep', 'assembly', 'assigned', 'attached', 'attempts', 'bayer', 'bee', 'ben', 'blair', 'boycott', 'bread', 'burns', 'businessman', 'capitalist', 'capitalization', 'ceremony', 'chain', 'choose', 'clay', 'cloud', 'collision', 'commodity', 'components', 'composed', 'concluded', 'continuing', 'cottbus', 'crew', 'danish', 'declining', 'deflation', 'delay', 'detect', 'dinosaurs', 'diplomacy', 'disarmament', 'dispute', 'drugs', 'dry', 'dust', 'earned', 'earnings', 'el', 'elbaradei', 'enables', 'equivalent', 'erupted', 'espanyol', 'establish', 'estimate', 'examine', 'explosive', 'extremists', 'fees', 'filled', 'finalists', 'floods', 'fluid', 'forcing', 'forest', 'funded', 'gathering', 'gerrard', 'gresik', 'guarantee', 'haniya', 'harmful', 'heavily', 'homes', 'homework', 'housing', 'ideas', 'implementing', 'instructions', 'instrument', 'intensive', 'internasional', 'ireland', 'islands', 'ite', 'jail', 'jam', 'jaya', 'jersey', 'jerusalem', 'jewish', 'kingdom', 'laugh', 'layers', 'lifted', 'lights', 'malaysian', 'membrane', 'miami', 'minor', 'moves', 'mutual', 'narrow', 'nationals', 'nervous', 'none', 'nucleus', 'objects', 'operated', 'paskah', 'peter', 'pgn', 'pick', 'pleased', 'pole', 'produces', 'productive', 'prompted', 'protected', 'provinces', 'recording', 'records', 'reference', 'rely', 'remarkable', 'remarks', 'replacement', 'researcher', 'resigned', 'resolve', 'restaurant', 'resumed', 'roadside', 'rp500', 'runs', 'rusman', 'samples', 'satisfied', 'scene', 'sentence', 'settlement', 'shocked', 'shops', 'simultaneously', 'slowdown', 'southeast', 'spring', 'spurs', 'substances', 'superior', 'suspension', 'taxation', 'tissues', 'totaling', 'troubled', 'truce', 'underground', 'villagers', 'vitamin', 'winger', 'zealand', '##53', '##ace', '##aded', '##ala', '##ape', '##apped', '##ara', '##ars', '##ats', '##berg', '##bian', '##bic', '##bilities', '##bing', '##bit', '##book', '##che', '##ci', '##cking', '##cope', '##cover', '##ders', '##dited', '##du', '##fined', '##gged', '##hs', '##iawan', '##ik', '##imo', '##ira', '##ita', '##iting', '##iya', '##lly', '##nis', '##op', '##pare', '##pass', '##quent', '##rail', '##rand', '##rea', '##right', '##riving', '##rus', '##so', '##sts', '##tent', '##tering', '##ured', '##usa', '##uts', '##ville', '119', '13th', '140', '15th', '160', '170', '97', 'accordance', 'acting', 'alleviation', 'allowing', 'announcement', 'anywhere', 'article', 'asking', 'assists', 'athletic', 'badly', 'begins', 'behavior', 'bike', 'boat', 'bone', 'bottle', 'breaks', 'brings', 'burned', 'calm', 'camel', 'camps', 'capitalism', 'carefully', 'carrier', 'category', 'cia', 'circumstances', 'citizens', 'collapsed', 'composite', 'conservative', 'consortium', 'conversion', 'cook', 'crazy', 'croatia', 'cutting', 'dam', 'davenport', 'dealers', 'decree', 'differences', 'discovery', 'disorder', 'dolphins', 'earthquake', 'elected', 'emirates', 'envoy', 'evolutionists', 'exercise', 'expects', 'favourites', 'feared', 'fenerbahce', 'firing', 'formal', 'fragile', 'generate', 'genocide', 'gmt', 'heads', 'hectares', 'helicopter', 'hide', 'hive', 'hobby', 'hu', 'humans', 'idb', 'impoverished', 'invited', 'iron', 'ismail', 'justice', 'jusuf', 'kabul', 'khan', 'koeman', 'laden', 'laid', 'lazio', 'ldr', 'learned', 'length', 'levante', 'locations', 'ltte', 'maria', 'mccormack', 'mecca', 'militia', 'militias', 'mitsubishi', 'mohammed', 'molecules', 'mouse', 'muamalat', 'mubarak', 'museum', 'negara', 'nest', 'niaga', 'normally', 'panel', 'pato', 'payable', 'penalties', 'pga', 'playmaker', 'principal', 'principles', 'procedures', 'profile', 'profitability', 'proper', 'proteins', 'quarters', 'raids', 'railway', 'raul', 'realize', 'recognition', 'reconciliation', 'recover', 'reduction', 'reiterated', 'requirements', 'resignation', 'resume', 'ringgit', 'rivers', 'ronald', 'rp14', 'rp6', 'salt', 'seeds', 'sees', 'selected', 'senate', 'sensors', 'separately', 'serves', 'somebody', 'sparked', 'speaker', 'standards', 'storm', 'stupid', 'sub', 'subprime', 'surprising', 'taller', 'tally', 'tarantula', 'teenager', 'tensions', 'thinks', 'tongue', 'torres', 'vegetables', 'venture', 'wealth', 'welfare', 'wisdom', 'worse', '##12', '##75', '##88', '##ao', '##arc', '##ater', '##base', '##cc', '##chemical', '##cker', '##culated', '##dan', '##don', '##ebrates', '##eo', '##ero', '##ex', '##ff', '##gen', '##gonal', '##icate', '##ication', '##icial', '##iest', '##imately', '##int', '##isation', '##its', '##jah', '##late', '##lated', '##lative', '##lic', '##lied', '##lled', '##mann', '##marked', '##mine', '##mp', '##net', '##ntry', '##old', '##ome', '##ono', '##oral', '##oro', '##outs', '##pi', '##q', '##race', '##read', '##ree', '##ressed', '##rew', '##ride', '##rine', '##rix', '##rom', '##rted', '##rupt', '##sad', '##sition', '##sy', '##tained', '##uses', '##ux', '##vable', '##vise', '##western', '##xidant', '##yah', '##yanto', '##zi', '##zo', '06', '105', 'adhi', 'advantages', 'aging', 'ahmadinejad', 'angle', 'antara', 'anthony', 'anticipation', 'apparent', 'arrival', 'aspect', 'aspects', 'baghdatis', 'bandung', 'bilbao', 'bolton', 'brief', 'briefing', 'brothers', 'bukit', 'bullying', 'burden', 'buried', 'burn', 'calculation', 'capabilities', 'cargo', 'categories', 'chair', 'chamber', 'chicago', 'clouds', 'code', 'combustion', 'complexity', 'constitution', 'contribute', 'convoy', 'crown', 'currents', 'debate', 'dec', 'definitely', 'degrees', 'delhi', 'derby', 'disappointment', 'districts', 'djalil', 'documents', 'drove', 'dwelling', 'effectively', 'effects', 'emergence', 'emerging', 'enemies', 'eradication', 'evolutionist', 'excess', 'explosions', 'factory', 'failing', 'falls', 'fault', 'favorable', 'fierce', 'flat', 'flights', 'foundation', 'framework', 'galaxy', 'garden', 'hanging', 'himpunan', 'hydrocarbon', 'inflationary', 'instruction', 'integration', 'intelligent', 'intention', 'intermediate', 'introduced', 'invested', 'investigate', 'involve', 'javier', 'keeping', 'kilometers', 'labor', 'largely', 'leads', 'letters', 'loves', 'luca', 'mancini', 'melbourne', 'memorandum', 'mercurius', 'methods', 'midway', 'moderate', 'motorcycle', 'moya', 'names', 'netted', 'newest', 'norway', 'npl', 'observers', 'obstacles', 'obtain', 'offers', 'opposite', 'optimism', 'orbit', 'originated', 'overcame', 'panin', 'participate', 'partners', 'peak', 'peninsula', 'portuguese', 'postponed', 'poultry', 'productivity', 'programmes', 'promises', 'promote', 'prompting', 'quake', 'radiation', 'rains', 'reactive', 'reasonable', 'receives', 'reconstruction', 'responded', 'revolution', 'robots', 'rp11', 'rush', 'sad', 'sailors', 'santander', 'sept', 'severe', 'shift', 'singh', 'slowly', 'sluggish', 'smes', 'speaks', 'steve', 'stick', 'stomach', 'streak', 'structural', 'struggled', 'stuck', 'stunning', 'successfully', 'sudden', 'suffer', 'supports', 'telecom', 'territories', 'terror', 'tiny', 'tools', 'tourist', 'traditional', 'transitional', 'travelling', 'tropical', 'tsvangirai', 'turmoil', 'turning', 'understands', 'universities', 'unlikely', 'vfb', 'volley', 'voted', 'waves', 'weaken', 'wonder', 'yes', '##20', '##30', '##37', '##86', '##92', '##abilize', '##acked', '##acular', '##ading', '##ash', '##asi', '##ath', '##ather', '##ato', '##bang', '##bition', '##bm', '##cating', '##cco', '##chen', '##cies', '##com', '##con', '##cts', '##dam', '##day', '##dicating', '##down', '##east', '##ebrate', '##erial', '##fuse', '##gate', '##ger', '##heimer', '##hen', '##here', '##idation', '##ided', '##iers', '##ired', '##ison', '##iter', '##lame', '##lving', '##meter', '##mission', '##ners', '##night', '##nounced', '##ok', '##ological', '##oring', '##orm', '##ounced', '##point', '##rage', '##rave', '##reas', '##rible', '##rio', '##rize', '##road', '##rown', '##rry', '##rta', '##sia', '##sions', '##sive', '##stream', '##tate', '##tered', '##tial', '##ub', '##uck', '##ui', '##urious', '##utan', '##vert', '##vity', '##warded', '##yer', '050', '07', '16th', '20th', '74', 'actively', 'actor', 'agreements', 'ahmad', 'aims', 'alonso', 'anniversary', 'approached', 'aqsa', 'architecture', 'argument', 'attacking', 'attending', 'automatic', 'backhand', 'basel', 'beer', 'belonged', 'benzema', 'biomass', 'biotechnology', 'blasts', 'bochum', 'borussia', 'boyfriend', 'brantas', 'briefly', 'bright', 'calendar', 'canal', 'carries', 'catania', 'changing', 'channeled', 'channeling', 'charles', 'chasing', 'christmas', 'cigarettes', 'citizen', 'classic', 'cleared', 'collapse', 'collect', 'conceded', 'concentrate', 'concerns', 'confident', 'consequences', 'consequently', 'consistent', 'contained', 'contributing', 'courts', 'covering', 'crater', 'dakar', 'danareksa', 'delighted', 'deserved', 'destroy', 'determine', 'dick', 'doubled', 'downtown', 'drogba', 'ensuing', 'enterprise', 'essential', 'ethnic', 'evolved', 'ex', 'examined', 'except', 'excuse', 'exists', 'experienced', 'fallen', 'fasting', 'favourite', 'file', 'fill', 'flanking', 'flawless', 'flexible', 'flowers', 'follows', 'forehand', 'format', 'formula', 'francisco', 'gathered', 'georgia', 'governors', 'granted', 'grown', 'gunfire', 'guns', 'guy', 'hassan', 'highway', 'hunting', 'iata', 'ideal', 'identical', 'indication', 'insurgent', 'intend', 'intense', 'ions', 'islam', 'islamabad', 'isolated', 'jailed', 'joking', 'journalist', 'kadin', 'kashmir', 'kidding', 'lakers', 'lankan', 'lasted', 'latter', 'levelled', 'lied', 'machines', 'mahut', 'mans', 'marines', 'meat', 'mechanical', 'monarch', 'mottaki', 'mudflow', 'mukherjee', 'muslims', 'nerves', 'obviously', 'offset', 'opens', 'organic', 'organisms', 'pan', 'permanent', 'phyla', 'physical', 'piano', 'piled', 'polar', 'policeman', 'ppn', 'prevented', 'procedure', 'processed', 'prosperity', 'proud', 'provider', 'putin', 'quell', 'raining', 'random', 'rapid', 'regarded', 'regularly', 'repeated', 'restrictions', 'ribery', 'riot', 'riyadh', 'roles', 'rubber', 'rural', 'safely', 'santoro', 'saves', 'scared', 'schedule', 'senator', 'sharing', 'shopping', 'shoulder', 'sidelines', 'sight', 'siro', 'slip', 'smart', 'sochaux', 'sony', 'sought', 'stealing', 'stepped', 'stones', 'strange', 'string', 'sv', 'sydney', 'tackle', 'taste', 'tea', 'teaching', 'telecommunications', 'temperatures', 'tender', 'text', 'throw', 'tiebreak', 'tissue', 'tourists', 'trained', 'transparent', 'troop', 'unbeaten', 'urban', 'valladolid', 'varied', 'version', 'views', 'watched', 'waziristan', 'wound', 'wrote', 'zis', 'zoo', '##42', '##93', '##acking', '##ady', '##ailed', '##air', '##airs', '##alid', '##ances', '##ani', '##are', '##asa', '##ax', '##berto', '##bil', '##bourg', '##bration', '##burg', '##can', '##card', '##ces', '##clusive', '##ctor', '##dal', '##ear', '##ees', '##els', '##endra', '##eous', '##equence', '##eri', '##eric', '##ew', '##forced', '##ford', '##ganda', '##gies', '##gling', '##gs', '##har', '##heat', '##ho', '##ica', '##ien', '##ift', '##igit', '##ils', '##ily', '##ining', '##ith', '##ives', '##iz', '##lash', '##lates', '##logists', '##lta', '##lves', '##mas', '##nary', '##nces', '##nese', '##nic', '##nted', '##nto', '##oon', '##ordinated', '##ost', '##ota', '##paration', '##pies', '##pper', '##pression', '##rained', '##rat', '##rator', '##redible', '##redo', '##rel', '##reme', '##ret', '##ributor', '##rid', '##rin', '##rture', '##rum', '##ser', '##set', '##sp', '##sv', '##tar', '##tel', '##the', '##tions', '##tta', '##ucks', '##umped', '##umping', '##unan', '##unch', '##une', '##unggal', '##uration', '##urb', '##uri', '##vour', '##work', '14th', '1967', '1980', '1990', '2013', '900', 'admit', 'advised', 'agus', 'allocated', 'amendments', 'angel', 'announce', 'anticipated', 'appointment', 'attitude', 'background', 'begun', 'belongs', 'benjamin', 'boring', 'breakthrough', 'breast', 'campbell', 'candidate', 'capture', 'celtic', 'cent', 'centers', 'certificates', 'chad', 'chaos', 'cheese', 'chest', 'chicken', 'chris', 'christopher', 'circle', 'cisse', 'classified', 'clearance', 'cleveland', 'climbed', 'clinched', 'closely', 'closest', 'cnn', 'coastal', 'coincidence', 'colonel', 'commonly', 'communications', 'conducting', 'congressional', 'consideration', 'constitutional', 'contingent', 'copy', 'coup', 'creator', 'critics', 'crossed', 'crowded', 'custody', 'cycle', 'damascus', 'dealing', 'decisions', 'defend', 'del', 'democracy', 'demolished', 'destruction', 'detailed', 'detected', 'dictator', 'dimension', 'disbursement', 'disclosed', 'displaced', 'disrupt', 'distinct', 'divestment', 'diving', 'dominant', 'drivers', 'dying', 'eased', 'economists', 'edged', 'efek', 'effectiveness', 'emission', 'empowerment', 'ends', 'engagement', 'engines', 'establishing', 'exceeded', 'excellent', 'existed', 'expanding', 'farma', 'fertilizer', 'fifa', 'flexibility', 'flour', 'generator', 'glasses', 'goalless', 'greatest', 'grenades', 'haj', 'ham', 'heriawan', 'hiding', 'hitzfeld', 'holy', 'hostage', 'ignored', 'imagine', 'inflow', 'inflows', 'informed', 'intel', 'introduce', 'investigating', 'investments', 'israelis', 'jambi', 'jobs', 'karya', 'keen', 'kevlar', 'kilograms', 'lasting', 'laughed', 'liberalization', 'lille', 'link', 'lippo', 'lutein', 'mahmud', 'manuel', 'marathon', 'master', 'masters', 'mathematics', 'maturity', 'migration', 'mirror', 'mixed', 'mortar', 'mountains', 'movies', 'murcia', 'native', 'networks', 'npls', 'nuri', 'observe', 'occupation', 'offshore', 'orange', 'orders', 'organisers', 'outcome', 'output', 'oxide', 'paddy', 'paramilitary', 'particles', 'partly', 'pemeringkat', 'pen', 'penetration', 'peru', 'petroleum', 'photos', 'pilot', 'polls', 'prefecture', 'proceeds', 'promotion', 'proven', 'putting', 'qualified', 'quoting', 'qur', 'rahman', 'ramos', 'rangers', 'ranks', 'react', 'recognise', 'recreativo', 'reggina', 'registered', 'relatives', 'renault', 'resign', 'resistant', 'retina', 'reverse', 'rfid', 'risen', 'roh', 'ronaldo', 'rounds', 'royalties', 'rp12', 'rp50', 'runner', 'schiavone', 'scotland', 'seal', 'sekuritas', 'sentiments', 'shaped', 'shirt', 'simon', 'sing', 'sophisticated', 'stade', 'stakes', 'strel', 'stronghold', 'suitable', 'suspicion', 'swap', 'tasks', 'tend', 'thermal', 'trigger', 'trophy', 'unclear', 'unlike', 'upcoming', 'variety', 'veteran', 'violation', 'wash', 'wigan', 'wood', 'xi', 'yearly', 'yonhap', 'yusuf', '##70', '##71', '##79', '##ably', '##ado', '##ahar', '##ake', '##all', '##and', '##andhi', '##ann', '##aru', '##ata', '##attled', '##bage', '##ban', '##bf', '##care', '##cement', '##cher', '##cked', '##cl', '##ctment', '##ctured', '##dams', '##dation', '##dicated', '##dies', '##dn', '##dul', '##ecular', '##ein', '##emic', '##ender', '##eration', '##eria', '##ert', '##etti', '##fe', '##firmed', '##flies', '##fying', '##gates', '##gations', '##gement', '##ghi', '##gio', '##gle', '##hane', '##harto', '##hat', '##ibly', '##ice', '##ick', '##ifying', '##ill', '##iment', '##inal', '##inated', '##ingly', '##inted', '##ior', '##ires', '##ished', '##ites', '##ition', '##ivity', '##izards', '##ju', '##ket', '##lain', '##lar', '##lide', '##lish', '##long', '##lore', '##low', '##lt', '##lter', '##lve', '##minate', '##mining', '##more', '##nant', '##ncing', '##ndo', '##netic', '##nian', '##nium', '##odied', '##oland', '##olation', '##ologist', '##ologists', '##ored', '##orse', '##oul', '##pelled', '##phone', '##plane', '##ply', '##pp', '##ption', '##rah', '##rame', '##rass', '##rayed', '##rero', '##ril', '##rises', '##rising', '##rno', '##rov', '##rush', '##sist', '##tain', '##tality', '##ths', '##toric', '##trated', '##tting', '##tunate', '##ualities', '##uard', '##uised', '##ulatory', '##ullah', '##ulls', '##ult', '##vate', '##verage', '##vez', '##vian', '##vist', '##yo', '09', '103', '104', '114', '157', '275', '79', '87', '89', 'absence', 'absorption', 'achievement', 'acknowledged', 'adviser', 'answered', 'antonio', 'apexindo', 'arch', 'arena', 'aspirin', 'astonishing', 'atoms', 'attempted', 'battles', 'bauxite', 'beauty', 'belgian', 'belonging', 'bhp', 'billiton', 'birmingham', 'blame', 'borrowed', 'bpr', 'breeding', 'broadcast', 'butter', 'button', 'calleri', 'catalyst', 'cautious', 'cheaper', 'christian', 'classes', 'coached', 'college', 'commerce', 'comprehensive', 'computing', 'consist', 'continent', 'convicted', 'convince', 'corp', 'criteria', 'cuba', 'curfew', 'dad', 'dated', 'debtors', 'decreased', 'deliver', 'demanding', 'demonstration', 'deny', 'depend', 'deploy', 'desert', 'deserve', 'detail', 'dictionary', 'diet', 'difficulty', 'diplomats', 'directors', 'disappointing', 'disasters', 'discussing', 'disputed', 'distribute', 'divisions', 'donor', 'dropping', 'duties', 'easing', 'email', 'enforcement', 'engineer', 'errors', 'evaluate', 'eve', 'excessive', 'exit', 'expectation', 'experiments', 'fail', 'fairly', 'farm', 'fastest', 'files', 'fingers', 'finishing', 'focusing', 'formally', 'frankfurt', 'frozen', 'fundamentals', 'gang', 'generations', 'governance', 'governmental', 'grade', 'greece', 'guatemala', 'guerrilla', 'guitar', 'habitat', 'hanover', 'happening', 'hardly', 'hertha', 'hugged', 'humanity', 'hunt', 'ihsanoglu', 'importance', 'improvements', 'inco', 'indofood', 'inspectors', 'instance', 'intake', 'intermediary', 'ivan', 'jelena', 'jena', 'joke', 'journey', 'juice', 'julio', 'kaka', 'karim', 'karzai', 'khartoum', 'kidnapping', 'kidnappings', 'klose', 'koreas', 'kuwait', 'lawmakers', 'liked', 'limits', 'llodra', 'logic', 'lopez', 'luck', 'maintaining', 'mali', 'map', 'mauritania', 'medics', 'melt', 'membership', 'mention', 'mickelson', 'mt', 'musharraf', 'mystery', 'naval', 'negotiating', 'nikolay', 'ninth', 'nose', 'novel', 'numerous', 'objections', 'obligation', 'obligations', 'observing', 'opener', 'opposed', 'organism', 'organized', 'owing', 'pages', 'painting', 'passage', 'passenger', 'path', 'pelosi', 'photo', 'photographer', 'pizza', 'platform', 'plunge', 'plunged', 'poison', 'portal', 'porto', 'possibilities', 'prediction', 'presidency', 'professor', 'prospect', 'psychological', 'pursue', 'radicals', 'rahmat', 'rallies', 'ramallah', 'ranking', 'recovery', 'remove', 'repay', 'reportedly', 'represent', 'rescued', 'riding', 'rings', 'rock', 'rome', 'root', 'route', 'rp40', 'rushed', 'saint', 'sampdoria', 'scandal', 'scenario', 'seminar', 'sexual', 'shanghai', 'shared', 'sharply', 'shootout', 'siniora', 'skills', 'slept', 'slower', 'smile', 'smooth', 'sms', 'snatched', 'solutions', 'somewhat', 'sort', 'specially', 'speculation', 'split', 'stance', 'steer', 'steven', 'storage', 'strikes', 'subjects', 'submitted', 'survived', 'suspicious', 'talked', 'tariffs', 'taxpayers', 'teachers', 'tendency', 'tens', 'thai', 'thrown', 'till', 'timor', 'traits', 'transformation', 'transmission', 'trapped', 'trees', 'twelve', 'unchanged', 'uncle', 'undergoing', 'unveiled', 'urgent', 'valued', 'venezuela', 'waited', 'walked', 'wars', 'welcomed', 'wet', 'wounds', 'wrapped', 'xl', 'yemeni', 'yongbyon', 'yours', 'zenit', 'zia', '##15', '##72', '##95', '##aches', '##ads', '##ages', '##ahana', '##ald', '##ali', '##anto', '##aptors', '##atility', '##ave', '##avier', '##bank', '##bin', '##bination', '##canic', '##car', '##cative', '##ception', '##chu', '##cio', '##ctors', '##cturer', '##dded', '##dding', '##dle', '##dou', '##dze', '##ec', '##ecting', '##eld', '##elka', '##ently', '##etic', '##eus', '##fd', '##fication', '##fusing', '##fusion', '##gades', '##gage', '##graph', '##hiro', '##hor', '##hua', '##iad', '##iang', '##iber', '##iced', '##ico', '##ider', '##if', '##ild', '##ili', '##inger', '##iously', '##ipulated', '##isa', '##ishment', '##ivation', '##ivid', '##ivities', '##jected', '##jection', '##juddin', '##kat', '##lee', '##lement', '##lence', '##lice', '##liest', '##lip', '##lus', '##lution', '##marine', '##mble', '##nik', '##nko', '##novation', '##oad', '##oist', '##onest', '##onic', '##ora', '##pect', '##pm', '##pping', '##productive', '##pth', '##radable', '##rade', '##rams', '##ream', '##rect', '##rey', '##rger', '##ribes', '##rilling', '##rm', '##rna', '##roe', '##ronic', '##ruct', '##ruising', '##sam', '##sation', '##ski', '##sky', '##state', '##sted', '##system', '##tage', '##tories', '##try', '##tto', '##tu', '##tz', '##uad', '##uba', '##ugged', '##uish', '##uji', '##uki', '##ulia', '##ull', '##umi', '##uming', '##ump', '##unce', '##und', '##unted', '##uo', '##ures', '##urn', '##ush', '##utes', '##uz', '##vations', '##vy', '##war', '##we', '##wn', '##xt', '##yor', '##zad', '101', '117', '12th', '135', '180', '1982', '1984', '1995', '2011', '21st', 'absorb', 'accounted', 'accuse', 'aces', 'adjustment', 'administered', 'adopt', 'adult', 'adults', 'advertising', 'affecting', 'affirmed', 'aggression', 'alves', 'amazing', 'amendment', 'amman', 'andrew', 'answers', 'ants', 'apol', 'apparently', 'arif', 'arsene', 'aston', 'attackers', 'attracted', 'attractive', 'awareness', 'basque', 'batteries', 'bay', 'beckham', 'bej', 'belief', 'bench', 'beshir', 'birdie', 'blake', 'blasted', 'bolivia', 'bombers', 'briton', 'burst', 'bv', 'camara', 'cancelled', 'carl', 'casillas', 'certificate', 'channels', 'chavez', 'chennai', 'cigarette', 'circuit', 'clever', 'closure', 'clot', 'coaches', 'collecting', 'colombian', 'colombo', 'com', 'comeback', 'commit', 'complaints', 'conakry', 'conglomerate', 'constantly', 'constructed', 'consumed', 'continuous', 'coverage', 'covers', 'crack', 'cream', 'creates', 'crushed', 'cure', 'cuts', 'dallas', 'defensive', 'delicious', 'dementieva', 'denmark', 'describing', 'deserves', 'desktop', 'destroying', 'detention', 'diesel', 'disbursed', 'doha', 'doll', 'dramatic', 'duisburg', 'eelam', 'eintracht', 'eliminated', 'empoli', 'encouraged', 'encouraging', 'exchanges', 'expecting', 'experiences', 'express', 'extending', 'extension', 'fc', 'featured', 'fermentation', 'financed', 'fixing', 'floating', 'fluctuation', 'fluids', 'foods', 'founded', 'franck', 'freely', 'frogs', 'fuels', 'garcia', 'goeltom', 'governing', 'grandfather', 'grip', 'hamper', 'han', 'harry', 'hewitt', 'hicks', 'holiday', 'hosni', 'impressive', 'incidents', 'ingredients', 'inspiration', 'instantly', 'intact', 'intensity', 'intervened', 'invention', 'investigators', 'invitation', 'jihad', 'jones', 'joseph', 'keegan', 'keita', 'knowing', 'laboratory', 'landed', 'lane', 'larvae', 'laudrup', 'laurent', 'lawyers', 'lieutenant', 'lines', 'lipid', 'listening', 'lng', 'login', 'loud', 'lpg', 'lubricating', 'makmur', 'mamby', 'mammals', 'manhattan', 'manpower', 'manufacturers', 'maoists', 'marco', 'marcos', 'marga', 'margin', 'mario', 'marion', 'mauresmo', 'mdc', 'meets', 'merkel', 'metals', 'meter', 'mexican', 'mice', 'mikhail', 'motion', 'ms', 'multilateral', 'murder', 'murdered', 'napoli', 'neighbors', 'neighbours', 'newspapers', 'notably', 'nts', 'nuremberg', 'occurrence', 'opec', 'organisations', 'originate', 'ottmar', 'outfit', 'owns', 'panic', 'pencil', 'penguins', 'permit', 'phil', 'physically', 'pledged', 'plenary', 'plenty', 'pool', 'pounds', 'prefer', 'pregnant', 'preliminary', 'prevailing', 'prevention', 'prima', 'prof', 'promise', 'promising', 'providers', 'qualifiers', 'quiet', 'rallied', 'ranging', 'recognized', 'recovering', 'reflects', 'relegated', 'replied', 'representing', 'reproduction', 'reptile', 'retired', 'revive', 'richard', 'romania', 'roses', 'rovers', 'rp200', 'satonda', 'scrap', 'searching', 'section', 'separated', 'serbia', 'serbian', 'serial', 'server', 'sheep', 'shortage', 'similarly', 'skull', 'slot', 'smallest', 'softwares', 'sofyan', 'sole', 'solved', 'spell', 'sponsored', 'spots', 'statements', 'steam', 'stunned', 'surrender', 'surrounding', 'suzetta', 'swadesi', 'sweden', 'swept', 'symptoms', 'synthesis', 'synthetic', 'targeting', 'teach', 'teeth', 'temple', 'termite', 'texas', 'thirsty', 'tied', 'timber', 'tomori', 'toronto', 'tower', 'tpt', 'trafficking', 'traveling', 'tries', 'tsonga', 'twin', 'umkm', 'unacceptable', 'uncertain', 'underwent', 'unemployment', 'upgraded', 'utilization', 'valenciennes', 'variation', 'variations', 'viewed', 'visits', 'vladimir', 'walcott', 'walking', 'warnings', 'watchdog', 'wawrinka', 'weakness', 'weekly', 'wished', 'workshop', 'worldwide', 'yahoo', '##!', '##\"', '##$', '##%', '##&', \"##'\", '##(', '##)', '##+', '##,', '##-', '##.', '##/', '##:', '##;', '##<', '##=', '##?', '##`', '##¢', '##©', '##°', '##â', '##ã']\n",
            "Indo Tokens:  ['[PAD]', '[UNK]', '[START]', '[END]', '!', '\"', '$', '%', '&', \"'\", '(', ')', '*', '+', ',', '-', '.', '/', '0', '1', '2', '3', '4', '5', '6', '7', '8', '9', ':', ';', '<', '=', '?', '[', ']', '_', '`', 'a', 'b', 'c', 'd', 'e', 'f', 'g', 'h', 'i', 'j', 'k', 'l', 'm', 'n', 'o', 'p', 'q', 'r', 's', 't', 'u', 'v', 'w', 'x', 'y', 'z', '~', '¯', '°', '¼', 'â', 'ã', 'yang', 'dan', 'di', 'itu', 'pada', 'dengan', 'dari', 'untuk', 'ini', 'dalam', 'tidak', '##nya', 'akan', 'ke', 'tom', 'mereka', 'tersebut', 'aku', 'saya', 'tahun', 'kata', 'persen', 'as', 'lebih', 'telah', 'dia', 'menjadi', 'juga', 'bahwa', 'orang', 'adalah', 'oleh', 'karena', 'mengatakan', 'kami', 'satu', 'ada', 'bisa', '##an', 'setelah', 'dapat', 'negara', '##kan', 'ia', 'pemerintah', 'atau', 'atas', 'sebagai', 'indonesia', 'saat', 'dua', 'apa', 'dolar', 'kamu', 'pertandingan', 'kita', 'bank', '##i', 'kepada', 'melakukan', 'ketika', 'masih', 'lalu', 'katanya', 'sudah', '##s', 'secara', 'besar', 'harus', 'namun', 'seorang', 'hari', 'beberapa', 'para', 'bagi', 'sebuah', '##a', 'tim', 'pertama', 'sangat', 'seperti', '2007', 'kedua', 'baru', 'hanya', 'terhadap', 'mencapai', 'triliun', 'pemain', 'dunia', 'lain', 'banyak', 'sebesar', 'merupakan', 'hal', 'memiliki', 'tiga', '##t', 'per', 'selama', 'terjadi', 'sehingga', 'waktu', '##n', 'membuat', 'miliar', 'lagi', 'pt', 'sama', 'antara', 'sedang', 'hingga', 'baik', 'jakarta', 'tak', 'bulan', 'ekonomi', 'angka', 'sekitar', 'sementara', 'kembali', 'pasar', 'amerika', 'luar', 'perusahaan', 'menit', 'tetapi', 'ingin', 'rupiah', 'menurut', 'sebelumnya', '##e', 'negeri', 'serangan', 'akhir', 'belum', 'irak', 'kelompok', '##k', 'harga', 'menteri', 'gol', 'juta', '##l', 'presiden', 'semua', 'anak', 'berada', 'bi', 'apakah', 'saham', 'sejak', 'dilakukan', '##mu', 'melalui', 'tinggi', 'tempat', 'serta', 'mengenai', 'rabu', '##o', '2006', 'jepang', '##m', 'bagian', 'tahu', '##r', 'keuangan', 'tetap', 'anda', 'salah', 'pertumbuhan', 'selasa', '##ku', 'poin', 'senin', 'minyak', 'rumah', 'kali', 'sampai', 'petenis', '2008', 'mungkin', 'tengah', 'pasukan', 'pergi', 'bermain', 'mary', 'polisi', 'kemenangan', 'menyatakan', 'sistem', 'depan', 'sebelum', 'inflasi', 'utara', 'empat', '10', '##h', 'pernah', 'lainnya', 'masalah', 'kau', 'saja', 'pejabat', 'sendiri', 'kamis', 'sedangkan', 'kredit', 'kota', 'daerah', '##d', 'bawah', 'benar', 'bukan', 'bunga', 'selatan', 'suatu', 'demikian', 'inggris', 'menggunakan', 'mulai', 'liga', 'cukup', 'utama', 'jika', 'pekan', 'rp9', '##u', 'keamanan', 'kemudian', 'serikat', 'terus', 'jumlah', 'masyarakat', 'musim', 'naik', 'ketiga', 'awal', 'minggu', 'termasuk', 'tewas', 'lima', 'mana', 'sumber', 'diri', 'program', 'hidup', 'air', 'internasional', 'melihat', 'memberikan', 'usaha', 'pihak', 'turun', 'dana', 'terakhir', '000', 'militer', '##g', 'hasil', '##0', 'laporan', 'enam', 'malam', 'sekarang', 'israel', 'suka', 'tapi', 'kenaikan', 'nasional', 'tentang', 'uang', 'mengalami', 'punya', 'wilayah', 'agar', 'kecil', 'pun', 'tanpa', 'bersama', 'meningkat', 'tentara', 'korea', 'anggota', 'mata', 'sini', 'bola', 'melawan', 'paling', 'tbk', 'al', 'sejumlah', 'iran', 'keras', 'akibat', 'cara', 'china', 'jam', 'prancis', 'jalan', 'perseroan', 'laba', 'posisi', 'suku', 'makan', 'pertemuan', 'babak', 'mampu', 'nilai', '##y', 'jumat', 'berbagai', 'diperkirakan', 'asing', 'piala', 'pemimpin', 'sektor', '##5', 'lama', '##si', 'bertemu', 'perbankan', '##p', 'menunjukkan', 'setiap', 'juara', 'tingkat', 'maka', 'semakin', 'bahan', 'bersih', 'digunakan', 'seluruh', '##lah', 'cedera', 'mendapat', 'masuk', 'palestina', 'proses', 'udara', '##ng', 'klub', 'sabtu', '30', 'membantu', 'pinjaman', 'dekat', 'investasi', 'perang', 'umum', 'upaya', 'mengalahkan', 'pelatih', 'yaitu', 'bom', 'lembaga', '15', 'bekerja', 'afrika', 'perlu', 'rata', 'rencana', 'pembangunan', 'kalau', 'teknologi', 'senjata', '##er', '##on', '20', 'peringkat', 'komputer', 'dibandingkan', 'memberi', 'bantuan', 'masing', 'mobil', 'badan', 'berhasil', 'berusia', 'kerja', 'masa', 'urutan', 'bentuk', 'jauh', 'kepala', 'dibanding', 'kondisi', 'perubahan', 'proyek', '##2', 'mencetak', 'sel', 'warga', 'asal', 'kantor', 'timur', '##ya', '25', 'australia', 'energi', 'informasi', 'berlangsung', 'buku', 'penting', 'gas', 'kalah', 'meningkatkan', 'modal', 'obligasi', 'adanya', 'bagaimana', 'periode', 'cepat', 'industri', 'menang', '##8', 'menghadapi', 'operasi', 'total', '11', 'bahasa', 'burung', 'pbb', '100', 'kuat', 'tubuh', 'jangan', 'pernyataan', 'direktur', 'mantan', 'terlalu', 'perundingan', 'membawa', 'mendapatkan', 'siapa', 'nuklir', 'perdana', 'sekali', 'hampir', 'laut', 'segera', 'tinggal', 'unggulan', '12', 'meski', 'pusat', 'sebagian', 'datang', 'gawang', 'kebijakan', 'mikro', '##1', 'barat', 'listrik', 'manusia', '##3', '##da', 'jurubicara', 'peningkatan', 'tanah', 'bahkan', 'jadi', 'sebanyak', 'gelar', 'putaran', '##4', 'berbeda', 'berusaha', 'kemungkinan', '##at', 'pesawat', 'berapa', 'data', 'permainan', 'rusia', 'wartawan', '##ta', 'korban', 'perdamaian', 'selalu', '##7', '##is', '##6', '##c', 'mau', 'menemukan', 'penjualan', 'sakit', 'surat', 'terbuka', 'guna', 'membeli', 'tendangan', 'alam', 'bagus', 'memenangi', 'penurunan', '50', 'januari', 'jerman', 'tekanan', '2005', 'jenis', 'mendukung', 'asia', 'turnamen', '16', 'berat', 'kehilangan', 'menarik', 'terbesar', 'hubungan', 'produk', 'final', 'terutama', 'berdasarkan', 'darah', 'langkah', 'merasa', 'pagi', 'produksi', 'target', 'biasa', 'kawasan', 'kini', 'set', 'kapal', 'bertahan', 'rakyat', '##ra', 'lapangan', 'delapan', 'prajurit', '##ah', '##en', 'eropa', 'global', 'mengambil', 'terlihat', 'langsung', 'memimpin', 'partai', 'selain', 'india', 'peluang', 'kesepakatan', 'bumi', 'juni', 'kompetisi', 'maju', 'makhluk', 'biaya', 'memang', 'menjelang', 'pajak', '##ing', 'arab', 'jatuh', 'pelaku', 'setempat', 'barang', 'berita', 'pertahanan', 'politik', '##al', '21', 'berbicara', 'jelas', 'maupun', '##us', 'menerima', '##9', 'hewan', 'khusus', 'sesuatu', '##as', '14', 'bidang', 'keempat', 'lanjut', 'mempunyai', 'sedikit', 'striker', 'tiba', 'disebut', 'ibukota', 'laki', 'terdiri', 'jaringan', 'kurang', 'mudah', 'pakistan', '##in', 'arah', 'efek', 'kementerian', 'makanan', 'menambahkan', 'pemberontak', '##ia', '##na', 'mendorong', 'meninggalkan', 'meskipun', 'sepanjang', 'spanyol', 'hati', 'panjang', '##ar', '17', 'begitu', 'meraih', 'nomor', 'tampil', 'utang', '##tan', '13', 'desember', '##han', 'alat', 'menewaskan', 'rendah', '##b', 'dimana', 'gagal', 'maret', 'pendapatan', '##man', '##ri', 'bergerak', 'mati', 'sana', 'situs', 'tujuh', '##ma', 'diharapkan', 'kegiatan', 'nama', 'sulit', '18', 'anggaran', 'sayap', '##ik', '19', 'baghdad', 'italia', 'kedudukan', 'lakukan', 'meminta', 'menunggu', 'unit', 'aksi', 'biasanya', 'kemampuan', 'kendaraan', 'mengurangi', 'menjelaskan', 'suara', '##f', 'keadaan', 'ledakan', 'provinsi', 'bursa', 'keluar', 'media', 'mencoba', 'perkembangan', 'tumbuh', '##sa', 'afghanistan', 'dikenal', 'ditemukan', 'perekonomian', 'sri', 'terdapat', 'tolong', '##es', 'daripada', 'kaki', 'kandang', 'kira', 'klasemen', 'panas', 'rp1', 'ton', 'akhirnya', 'berakhir', 'sembilan', 'sering', 'yakin', 'berjalan', 'dampak', 'menyebabkan', 'pengembangan', 'berharap', 'mei', 'mendatang', 'menguat', '##z', 'ekspor', 'internet', 'kesempatan', 'ketua', 'menghasilkan', 'real', 'tepat', 'wakil', 'bebas', 'dukungan', 'kebutuhan', 'mengapa', 'pihaknya', 'rate', 'rp', 'september', 'sisi', 'terbaik', 'unggul', '##ir', '##to', 'februari', 'lebanon', 'luka', 'pembicaraan', 'seharusnya', 'televisi', 'transaksi', 'wanita', 'berasal', 'bush', 'evolusi', 'memperoleh', 'perdagangan', 'sesuai', '##asi', '##ti', 'april', 'menuju', 'rasa', 'tidur', 'investor', 'layanan', 'minum', 'tembakan', 'the', '##di', 'menciptakan', 'meninggal', 'penerimaan', 'sebenarnya', 'faktor', 'gerakan', 'membuka', 'penjaga', 'satunya', 'jarak', 'lawan', '##ak', '23', 'hamas', 'penalti', 'somalia', 'kekerasan', 'parlemen', 'cadangan', 'oktober', 'pimpinan', 'sekolah', 'ikan', 'pemilihan', 'pukul', 'semester', 'senilai', 'tangan', 'membukukan', 'pembiayaan', '##lan', 'belanja', 'bila', 'dimulai', 'islam', 'mencari', 'mengakhiri', 'positif', '##or', 'antar', 'berjuang', 'dasar', 'hujan', 'membutuhkan', 'menambah', 'resmi', 'sipil', '##el', '##ka', 'hak', 'perbatasan', 'raja', 'sisa', 'terbang', '##ni', 'dulu', 'fasilitas', 'ilmuwan', 'jangka', 'kuartal', 'menyusul', 'milik', 'pasti', 'rapat', '##re', '2004', '22', 'alasan', 'bumn', 'hukum', 'konsumsi', 'penduduk', 'timnya', '##ur', '500', 'agustus', 'bersenjata', 'dewan', 'gedung', 'kasus', 'lewat', 'melakukannya', 'mengatasi', 'menyebutkan', 'muncul', 'pemegang', 'tindakan', 'yen', '##ga', '##ran', '2009', '26', 'belakang', 'bisnis', 'boleh', 'kematian', 'menjaga', 'menolak', 'percaya', 'kemarin', 'krisis', 'lokal', 'mari', 'mengakui', 'undang', 'pria', 'saling', 'selanjutnya', 'senang', 'tambahan', '40', 'fosil', 'kunjungan', 'level', 'non', 'perempuan', 'pers', 'ribu', 'ahli', 'apbn', 'belajar', 'berubah', 'daya', 'game', 'imbang', 'kendati', 'keputusan', 'kerjasama', 'mengakibatkan', 'mengetahui', 'penelitian', '200', '60', 'gubernur', 'penyakit', 'pertanyaan', 'tujuan', 'juli', 'kapan', 'lubang', 'memanfaatkan', 'membaca', 'peneliti', 'perjanjian', 'terkait', 'berkembang', 'buruk', 'gambar', 'kesalahan', 'lingkungan', 'makin', 'menghentikan', 'merah', 'petugas', 'spesies', 'taliban', 'tukar', '##tor', 'bayern', 'berhenti', 'hukuman', 'menaikkan', 'mencatat', 'new', 'pantai', 'pula', 'bakar', 'departemen', 'dpr', 'menyelesaikan', 'sedikitnya', 'siap', '##ce', '##ro', '300', 'amat', 'berencana', 'kemiskinan', 'kimia', 'membentuk', 'memperkirakan', 'mempertahankan', 'meter', 'ruang', 'tugas', '2003', 'angkatan', 'bej', 'bukti', 'kekuatan', 'kereta', 'kesehatan', 'lumba', 'melancarkan', 'memasuki', 'memutuskan', 'mesin', 'nanti', 'teori', 'tertentu', '##et', '##ter', 'barel', 'kartu', 'menkeu', 'usai', '##do', '##uk', 'defisit', 'kalian', 'kejadian', 'lihat', 'mengembangkan', 'pengadilan', 'peraturan', 'pikir', 'pulang', 'tentu', '24', 'bergabung', 'bri', 'ii', 'mentah', 'menurunkan', 'sifat', 'struktur', 'tempo', 'tenaga', 'ujarnya', '##isasi', 'kekalahan', 'kelima', 'laga', 'luas', 'mengumumkan', 'mesir', 'nigeria', 'terlibat', '##ung', '##v', 'bunuh', 'kalinya', 'kebanyakan', 'keluarga', 'kilometer', 'muda', 'qaeda', 'sebelah', 'serius', 'tambahnya', 'tampaknya', '##kah', 'membunuh', 'pendidikan', 'tuan', 'ulang', 'washington', '##ba', '##uan', '##w', 'berarti', 'didukung', 'dingin', 'divisi', 'laju', 'mencegah', 'permintaan', 'yakni', 'year', '##la', '##um', 'abbas', 'api', 'berikutnya', 'brazil', 'diperlukan', 'dokter', 'kenapa', 'melaporkan', 'membangun', 'mengeluarkan', 'mengungkapkan', 'pekerjaan', 'pembayaran', 'pukulan', 'seseorang', 'situasi', '##ang', '##il', '##it', '##te', 'boston', 'dirinya', 'domestik', 'kekuasaan', 'kontrak', 'mendekati', 'of', 'permukaan', 'putih', 'resiko', 'sempurna', 'sepak', 'tanda', 'teman', 'tokyo', '##aan', '##ikan', '##ton', 'champions', 'ditahan', 'garis', 'lapisan', 'memungkinkan', 'semifinal', 'senior', 'sungai', '##le', '2002', 'argentina', 'desa', 'diketahui', 'impor', 'mengumpulkan', 'menyamakan', 'nya', 'pembentukan', 'pendukung', '31', '35', 'bangsa', 'bentrokan', 'berbahaya', 'diberikan', 'duduk', 'es', 'itulah', 'kalangan', 'katakan', 'melewati', 'organisasi', 'otot', 'stabil', 'tua', 'gerilyawan', 'kehidupan', 'kertas', 'mengikuti', 'pekerja', 'penerbitan', 'perancis', 'perjalanan', 'seekor', 'tahap', '##ko', '##un', 'kulit', 'mulyani', 'penggunaan', 'pengusaha', 'sekretaris', 'telur', 'united', '##ut', 'batas', 'harapan', 'iklim', 'jasa', 'lyon', 'menahan', 'miskin', 'muslim', 'pembelian', 'pertempuran', 'sehari', 'semuanya', 'seri', 'stasiun', 'tenis', 'tunggal', '##gi', 'aman', 'an', 'arsenal', 'berkata', 'dianggap', 'ditangkap', 'diterima', 'keuntungan', 'menjalani', 'menyerang', 'milan', 'beijing', 'besok', 'chelsea', 'disebabkan', 'kasih', 'khususnya', 'mendesak', 'menurutnya', 'menutup', 'oksigen', 'rancangan', 'servis', 'triwulan', '##ne', 'bangunan', 'berkaitan', 'bulu', 'dilaporkan', 'memenuhi', 'mengadakan', 'pdb', 'pelaksanaan', 'syariah', 'tamil', '##ja', '##ki', 'bbm', 'hilang', 'kecepatan', 'mandiri', 'menguasai', 'penuh', 'tertinggi', '##akan', '##id', '##mi', '28', 'aset', 'dikeluarkan', 'kan', 'madrid', 'membayar', 'mengirim', 'pemerintahan', 'ruangan', 'saddam', 'saudara', 'sempat', 'zat', '##ck', '##x', 'afp', 'apabila', 'bilang', 'malaysia', 'melaksanakan', 'memainkan', 'membahas', 'pelanggan', 'pembalap', 'pengguna', 'penutupan', 'realisasi', 'serangga', 'subsidi', 'tarif', '##bi', '##tas', '27', 'anti', 'gunung', 'jawa', 'kecelakaan', 'kepemilikan', 'menangkap', 'menekan', 'misi', 'pejuang', 'peristiwa', 'sebagaimana', 'tangga', 'terima', '##ek', 'beli', 'bps', 'contoh', 'diduga', 'ibu', 'ikut', 'jawab', 'keseluruhan', 'matahari', 'mengubah', 'menimbulkan', 'on', 'pembunuhan', 'penculikan', 'sasaran', 'sejarah', 'syiah', '##ai', '##annya', '29', '32', 'cuaca', 'kerusuhan', 'kinerja', 'konferensi', 'kucing', 'melindungi', 'memastikan', 'menempatkan', 'menyampaikan', 'menyediakan', 'murah', 'oposisi', 'pefindo', 'peran', 'puncak', 'studi', 'tercatat', 'umpan', '##pun', 'detik', 'dibuat', 'jalur', 'keduanya', 'kelas', 'memerlukan', 'memperlihatkan', 'menandatangani', 'mengajukan', 'menyarangkan', 'november', 'pesan', 'rp2', 'sebab', 'tajam', '##gan', '##nan', '##ngan', '70', 'ahad', 'apalagi', 'bakteri', 'berupa', 'bni', 'darat', 'diciptakan', 'dimiliki', 'euro', 'kapasitas', 'macan', 'memilih', 'memperkuat', 'pendapat', 'sinyal', 'tuduhan', '##ic', '##pan', '##wa', '##wan', '75', 'ancaman', 'apapun', 'batu', 'dilaksanakan', 'keterangan', 'melepaskan', 'mutasi', 'namanya', 'olimpiade', 'pintu', 'publik', 'selamat', 'senyawa', 'tadi', 'tingginya', 'titik', 'uni', 'warna', '##hkan', '##ian', '##lkan', '##tar', 'agak', 'antam', 'arus', 'asumsi', 'basis', 'bintang', 'disebutkan', 'kesulitan', 'lepas', 'melaju', 'membaik', 'memperbaiki', 'merokok', 'pernyataannya', 'perolehan', 'pulau', 'ribuan', 'selesai', 'sungguh', '##tik', 'belanda', 'berenang', 'buah', 'fatah', 'harian', 'kepolisian', 'kerusakan', 'mahasiswa', 'mendengar', 'mengingat', 'menjual', 'moneter', 'rekaman', 'saudi', 'sekaligus', 'sepeda', 'sunni', 'tulang', 'video', '##ahan', '##ch', 'aliran', 'berpikir', 'bertanding', 'dinyatakan', 'keenam', 'kiper', 'lahir', 'lokasi', 'lolos', 'lunak', 'memicu', 'meningkatnya', 'otak', 'paru', 'perangkat', 'perbaikan', 'sepenuhnya', 'tanggal', 'tank', 'teknik', 'ternyata', 'tubuhnya', 'universitas', 'york', '##bat', '##tif', '00', 'anjing', 'cenderung', 'helikopter', 'kisaran', 'liverpool', 'memahami', 'menengah', 'optimis', 'paris', 'perhatian', 'protes', 'robot', 'turki', '##itas', '##rkan', 'akses', 'bersalah', 'grup', 'harap', 'kekhawatiran', 'kualitas', 'menderita', 'menginginkan', 'menuduh', 'mirip', 'nuklirnya', 'penampilan', 'pertamanya', 'rice', 'sepuluh', 'volume', '##de', '##tasi', '39', 'allah', 'bertambah', 'bisakah', 'gaza', 'george', 'ialah', 'kanan', 'ketat', 'kurs', 'marah', 'medco', 'meja', 'memulai', 'menentukan', 'menetapkan', 'menurun', 'pegolf', 'pertanian', 'pilihan', 'rangka', 'ratusan', 'regional', 'ringan', 'suhu', 'tepi', 'unsur', '##co', '##ed', '##im', '##jang', '##pa', '##san', 'bandara', 'benda', 'berwarna', 'cukai', 'efektif', 'fungsi', 'gelombang', 'getafe', 'inilah', 'jenderal', 'john', 'keunggulan', 'manajer', 'melemah', 'penjara', 'privatisasi', 'roket', 'sanksi', 'singapura', 'swiss', 'terpisah', 'toko', '##son', '##uh', '80', 'acara', 'analis', 'aplikasi', 'atom', 'cahaya', 'diperoleh', 'gempa', 'infrastruktur', 'kaca', 'khawatir', 'ltd', 'menegaskan', 'mengirimkan', 'mundur', 'pangkalan', 'pelayanan', 'persoalan', 'rasio', 'riil', 'sejauh', 'terjadinya', 'terletak', 'tumbuhan', 'zona', '##ok', '##th', '45', 'aturan', 'danau', 'dibebaskan', 'didorong', 'elektronik', 'ilmu', 'kanker', 'komponen', 'menentang', 'obat', 'pabrik', 'pemboman', 'perlombaan', 'puluh', 'risiko', 'sehat', 'sentral', 'setuju', 'sore', 'stadion', 'teroris', 'ukuran', '##ry', '##va', '##wi', '2001', '400', 'baterai', 'catatan', 'dipimpin', 'ethiopia', 'kemajuan', 'kepentingan', 'komunikasi', 'meledak', 'mengejutkan', 'menulis', 'merebut', 'milisi', 'minta', 'nyata', 'pelanggaran', 'pengalaman', 'penjelasan', 'radio', 'rekor', 'sarang', 'suriah', 'swasta', 'telepon', 'terkenal', 'usia', 'ya', '##ci', '##rd', '2000', 'abdullah', 'berkurang', 'dihasilkan', 'dituduh', 'ditutup', 'foto', 'inti', 'justru', 'penerbangan', 'perempatfinal', 'rayap', 'signifikan', 'sun', 'terbatas', 'ujar', '##me', '##no', '37', 'david', 'diikuti', 'hitam', 'kedutaan', 'lalat', 'lebah', 'mahal', 'manajemen', 'melanjutkan', 'mengunjungi', 'padaku', 'perlindungan', 'rekan', 'semula', 'setengah', 'takut', '##kkan', '##li', '##ol', '##ong', '##tu', 'barcelona', 'depkeu', 'diberi', 'gelap', 'gen', 'kanada', 'kejahatan', 'ketujuh', 'koalisi', 'kongres', 'maaf', 'mekanisme', 'menerbitkan', 'mengatur', 'musik', 'operator', 'pengetahuan', 'perintah', 'perkiraan', 'protein', 'stabilitas', 'strategis', 'sudan', 'tampak', 'tandang', '##ain', '##ul', '2010', '65', 'and', 'bukanlah', 'deputi', 'devisa', 'dijadwalkan', 'inter', 'international', 'kelihatannya', 'konflik', 'lampu', 'lintas', 'logam', 'lupa', 'melibatkan', 'membuatnya', 'menangis', 'menembak', 'pembebasan', 'penawaran', 'pendekatan', 'pertengahan', 'prospek', 'relatif', 'semacam', 'tahan', 'tambah', 'tergantung', 'thailand', 'ucapnya', '##isi', '##tkan', 'abe', 'afganistan', 'ayah', 'dikutip', 'ditanya', 'golf', 'kamar', 'komisi', 'komitmen', 'london', 'mayat', 'memperingatkan', 'menawarkan', 'menuntut', 'merusak', 'michael', 'munich', 'nato', 'pemberian', 'pemeriksaan', 'persatuan', 'personil', 'potensi', 'putra', 'reaksi', 'rumit', 'rusak', 'sepertinya', 'sikap', 'soal', 'strategi', 'teratas', 'terpaut', 'umkm', 'umumnya', '##era', '34', 'aktif', 'bangladesh', 'butuh', 'federer', 'gagasan', 'insiden', 'komite', 'lanka', 'memakan', 'mematahkan', 'mengangkat', 'menyebut', 'padahal', 'penyelidikan', 'penyerang', 'perkebunan', 'pos', 'putri', 'pyongyang', 'rp3', 'satelit', 'serupa', 'siang', 'tahapan', 'tempur', 'terbentuk', 'virus', '##am', '##der', '36', 'alih', 'bertujuan', 'denganmu', 'dikembangkan', 'diterbitkan', 'gangguan', 'grand', 'hutan', 'induk', 'intelijen', 'jawaban', 'jiwa', 'kabinet', 'kapten', 'melepas', 'memakai', 'mengaku', 'menguntungkan', 'menjawab', 'menyetujui', 'modern', 'motor', 'olmert', 'pangan', 'pengaruh', 'penyelesaian', 'pohon', 'sang', 'segala', 'selisih', 'sensor', 'sevilla', 'spot', 'surplus', 'turut', 'wawancara', 'web', '##land', '##mo', '90', 'ban', 'berikut', 'berlaku', 'beroperasi', 'bersifat', 'bertanggung', 'de', 'demi', 'dibawa', 'emas', 'ganda', 'gejolak', 'guru', 'kotak', 'kupu', 'makro', 'markas', 'marseille', 'memaksa', 'menggantikan', 'mengharapkan', 'normal', 'papan', 'pengungsi', 'perbedaan', 'persetujuan', 'planet', 'plastik', 'ponsel', 'resolusi', 'telekomunikasi', 'terlebih', '##ad', '##ge', '##ley', '##rat', '##uri', 'adb', 'akuisisi', 'angin', 'balik', 'berikan', 'berlanjut', 'daftar', 'dahulu', 'darfur', 'dicapai', 'dipakai', 'ditempatkan', 'ditujukan', 'diumumkan', 'fiskal', 'jantung', 'kaya', 'kiri', 'lkm', 'manchester', 'menembus', 'menghancurkan', 'mengutip', 'metode', 'pasien', 'pemanasan', 'penerapan', 'pengawasan', 'reaktor', 'rudal', 'semen', 'seringkali', 'tambang', 'tanaman', 'tertarik', 'tv', '##go', '##gu', '##lat', '33', '41', '54', 'agen', 'aktivitas', 'angkasa', 'cairan', 'cina', 'diculik', 'fed', 'kabar', 'keberadaan', 'kejuaraan', 'kendali', 'kenyataan', 'ketentuan', 'kualifikasi', 'latihan', 'meksiko', 'mematikan', 'mengerti', 'menjadikan', 'menyadari', 'menyerukan', 'mitra', 'model', 'pemenang', 'pemeringkat', 'pengganti', 'peringatan', 'petinju', 'pola', 'pribadi', 'rekannya', 'sbi', 'serangkaian', 'sibuk', 'sosial', 'tokoh', '##ara', '##atan', '##dang', '##gas', '##if', '##lin', '##ver', '55', '99', 'baku', 'bappenas', 'beban', 'beras', 'berfungsi', 'berjanji', 'bertahap', 'besaran', 'boediono', 'buatan', 'ciri', 'diambil', 'dividen', 'fenomena', 'google', 'granat', 'hotel', 'jabatan', 'kaum', 'lawannya', 'menggambarkan', 'menyumbang', 'molekul', 'musuh', 'negatif', 'online', 'padamu', 'pasangan', 'pasokan', 'pelabuhan', 'perempat', 'perpanjangan', 'peserta', 'robert', 'saksi', 'sebaliknya', 'sisanya', 'siswa', 'valencia', '##gkan', '##ha', '##inya', '##jak', '##ukan', 'apel', 'bayi', 'bermasalah', 'bruto', 'burhanuddin', 'darwin', 'direncanakan', 'film', 'laporannya', 'mengendalikan', 'menghabiskan', 'menyerah', 'merasakan', 'minus', 'mulut', 'nasabah', 'nikel', 'pembangkit', 'penarikan', 'penemuan', 'pengiriman', 'penyebab', 'permasalahan', 'republik', 'setahun', 'software', 'tentunya', 'website', '##ahkan', '##arkan', '##hi', '##ion', '##ji', '##kat', '##tis', '150', '51', 'area', 'bangkit', 'batubara', 'bea', 'beda', 'cheney', 'diam', 'dibawah', 'dibutuhkan', 'gembira', 'kopi', 'kuning', 'layar', 'leg', 'masuknya', 'mayoritas', 'memegang', 'mengandung', 'menyimpan', 'misalnya', 'parah', 'paruh', 'pengamat', 'rahasia', 'rp4', 'solusi', 'tetangga', 'tuntutan', 'walaupun', '##ca', '##lang', '##ot', '##ty', 'astra', 'bangun', 'berhadapan', 'berisi', 'calon', 'dananya', 'diplomatik', 'distrik', 'ekor', 'gabungan', 'internal', 'kebakaran', 'kerajaan', 'korupsi', 'majalah', 'menempati', 'mengancam', 'menonton', 'menyambut', 'penumpang', 'penyisihan', 'perairan', 'pergerakan', 'persaingan', 'pokok', 'prinsip', 'reformasi', 'sederhana', 'sekalipun', 'seleksi', 'sepakat', 'serbia', 'setara', 'teluk', 'terkena', 'terlambat', 'tersisa', 'truk', '##bu', '##eri', '##isme', '##ita', '##rah', '##se', '##ting', '57', '59', 'abad', 'bapepam', 'belakangan', 'berangkat', 'berturut', 'besarnya', 'bordeaux', 'digital', 'dinilai', 'disampaikan', 'ditetapkan', 'hijau', 'hussein', 'indeks', 'isaf', 'isi', 'jelasnya', 'jendela', 'kajian', 'karbon', 'kontribusi', 'lah', 'madu', 'meliputi', 'mempertimbangkan', 'mengawali', 'mengenakan', 'menilai', 'neraca', 'padanya', 'pandangan', 'piranti', 'puluhan', 'tenggara', 'terluka', '##au', '##bang', '##ie', '##j', '##sikan', 'antaranya', 'apbnp', 'asuransi', 'bersedia', 'berwenang', 'bicara', 'binatang', 'bremen', 'delta', 'demokrat', 'dengannya', 'digelar', 'dinding', 'gencatan', 'generasi', 'hutang', 'ingat', 'istilah', 'james', 'kepercayaan', 'kerugian', 'ketimbang', 'kompleks', 'konsumen', 'lapar', 'lemah', 'mega', 'memberitahu', 'memproduksi', 'menikmati', 'menyukai', 'penambahan', 'penonton', 'penyaluran', 'peralihan', 'percobaan', 'remaja', 'roma', 'securities', 'sinar', 'sudut', 'syarat', 'teheran', 'usahanya', '##asan', '##ay', '##ium', '##ler', '##nis', '##ny', '##ss', '##tal', '##ui', '##za', '42', '58', '71', 'anaknya', 'asap', 'bencana', 'berkat', 'berkunjung', 'bertindak', 'birdie', 'dewasa', 'diadakan', 'diajukan', 'forum', 'gaya', 'gula', 'hasilnya', 'jarang', 'komandan', 'kontak', 'kosong', 'lambat', 'maksimal', 'membaiknya', 'membuktikan', 'mencederai', 'mengejar', 'menjalankan', 'menyelamatkan', 'microsoft', 'nepal', 'peduli', 'pendek', 'pph', 'rasanya', 'samping', 'sebentar', 'sekutu', 'setidaknya', 'simpanan', 'slam', 'sumatera', 'tahunan', 'tercapai', 'tur', '##ala', '##dy', '##ksi', '##ron', '##ua', '47', '48', '61', '72', 'absen', 'ac', 'acuan', 'artinya', 'at', 'bambang', 'capung', 'coba', 'didirikan', 'dikatakan', 'dikuasai', 'dilarang', 'halaman', 'ida', 'indah', 'jari', 'kamp', 'keinginan', 'kim', 'lantai', 'lelah', 'likuiditas', 'melebihi', 'melukai', 'membicarakan', 'mencakup', 'menghindari', 'negaranya', 'operasional', 'organ', 'pembuka', 'pengelolaan', 'petani', 'ppn', 'rusman', 'siaran', 'sidang', 'status', 'susu', 'terbukti', 'terpuruk', 'tipis', 'tunggu', 'uefa', '##ap', '##cu', '##dul', '##men', '##up', '250', '43', '53', '62', 'aneh', 'aparat', 'bahagia', 'bandar', 'berbentuk', 'berlin', 'bertugas', 'betina', 'biru', 'city', 'dilanda', 'diluncurkan', 'diplomat', 'diselenggarakan', 'halnya', 'hibah', 'hizbullah', 'indikator', 'izin', 'jaminan', 'jumlahnya', 'kamera', 'korut', 'lahan', 'melihatnya', 'memasukkan', 'mempengaruhi', 'mencerminkan', 'merosot', 'murray', 'otomatis', 'otonomi', 'panitia', 'peledak', 'pemilik', 'pendanaan', 'pengacara', 'pengeluaran', 'proyeksi', 'rapbn', 'raya', 'reli', 'reuters', 'sahamnya', 'senegal', 'servisnya', 'tantangan', 'telkomsel', 'tertutup', 'tiap', 'uji', 'ukm', 'van', 'wapres', '##cang', '##dik', '##fa', '##gar', '##gung', '##ini', '##ll', '##lu', '38', '49', '52', '63', '68', 'ali', 'ambil', 'barca', 'berdiri', 'berkuasa', 'berpeluang', 'bersamaan', 'bertanya', 'bunganya', 'cuma', 'degradasi', 'dibentuk', 'dijadikan', 'dirancang', 'disalurkan', 'ditandatangani', 'eksplorasi', 'kecewa', 'kecuali', 'kelelawar', 'kemanusiaan', 'kilogram', 'komersial', 'korporasi', 'los', 'material', 'memetik', 'menampilkan', 'mengantisipasi', 'menjamin', 'olahraga', 'pasifik', 'pelaksana', 'perencanaan', 'perpajakan', 'racing', 'riset', 'rp8', 'sawit', 'sejalan', 'sendirian', 'tabung', 'tabungan', 'tata', 'teknis', 'telkom', 'tikus', '##ard', '##ban', '##gen', '##mat', '##oa', '##oda', '##rak', '##ris', '##taan', '04', '46', '56', '67', '95', 'berperan', 'bolehkah', 'bus', 'cabang', 'cantik', 'cinta', 'dialog', 'diantaranya', 'dihentikan', 'duta', 'enak', 'era', 'evolusionis', 'fernando', 'fokus', 'hamburg', 'hangat', 'harganya', 'ide', 'iii', 'isu', 'kabupaten', 'kelebihan', 'ketinggian', 'komunitas', 'kritis', 'larangan', 'lens', 'medis', 'melatih', 'menerus', 'mengarah', 'menghadiri', 'mengincar', 'menyiapkan', 'mewujudkan', 'meyakinkan', 'miranda', 'mogadishu', 'olympique', 'padat', 'perawatan', 'perhitungan', 'pidato', 'plus', 'pojok', 'reptilia', 'rp7', 'rumahnya', 'salju', 'sesudah', 'sesungguhnya', 'sulawesi', 'surabaya', 'tembak', 'terasa', 'terbakar', 'terorisme', 'thomas', 'tutup', 'urusan', 'wajib', '##ati', '##du', '##ena', '##eng', '##ih', '##ina', '##jakan', '##jam', '##ket', '##lo', '##nt', '##om', '1980', '66', '76', 'agama', 'alternatif', 'angeles', 'asam', 'atletico', 'atmosfer', 'bakal', 'berbohong', 'bercanda', 'bernama', 'beruntung', 'bilateral', 'blok', 'diminta', 'faksi', 'gading', 'genetik', 'ghana', 'golnya', 'hidrogen', 'instrumen', 'ipo', 'jajak', 'kebetulan', 'kunci', 'kursi', 'laptop', 'melainkan', 'melayani', 'meluncurkan', 'memeriksa', 'meminjam', 'memori', 'memperpanjang', 'mendominasi', 'mengganggu', 'mengundurkan', 'menjatuhkan', 'nadal', 'npl', 'pembakaran', 'pengawas', 'persahabatan', 'pertambangan', 'perwakilan', 'posisinya', 'produsen', 'qatar', 'radikal', 'raksasa', 'roger', 'saluran', 'semesta', 'st', 'staf', 'tamu', 'terancam', 'terbuat', 'utusan', 'uu', '##ama', '##eka', '##jo', '##kannya', '##ld', '##lik', '##nkan', '##ser', 'alami', 'aspek', 'banjir', 'berhubungan', 'danamon', 'deposito', 'development', 'dijelaskan', 'dilihat', 'dipandang', 'dirjen', 'diselesaikan', 'ditembak', 'djokovic', 'dr', 'ekspansi', 'everton', 'indosat', 'jum', 'keberatan', 'keberhasilan', 'komoditas', 'kutub', 'layak', 'lomba', 'mail', 'massa', 'memperhatikan', 'menargetkan', 'mengklaim', 'menjamu', 'menyangkut', 'mesti', 'militan', 'nyaris', 'oki', 'paul', 'pembuatan', 'pembuluh', 'penangkapan', 'pesta', 'polusi', 'portugal', 'prioritas', 'psg', 'sela', 'seluler', 'statistik', 'sundulan', 'terbaru', 'tersangka', 'tertawa', 'tiang', 'villa', 'wenger', 'yahudi', 'zimbabwe', '##den', '##fi', '##ho', '##ifikasi', '##ks', '##min', '##st', '##yah', '##ye', '1997', '44', '64', '85', 'abu', 'anggur', 'asuhan', 'ataupun', 'badai', 'banking', 'berbahasa', 'berguna', 'berlari', 'berurutan', 'citra', 'darurat', 'davydenko', 'dibangun', 'dikirim', 'dimaksudkan', 'dirut', 'ditentukan', 'ditunda', 'gadis', 'hadiah', 'hadir', 'hanyalah', 'jutaan', 'kadang', 'kandungan', 'kelahiran', 'kerangka', 'kevin', 'kolombia', 'komentar', 'kostaman', 'kroasia', 'kuznetsova', 'la', 'lagu', 'mahmoud', 'main', 'melonjak', 'memburu', 'menikah', 'menunjuk', 'menyenangkan', 'menyulut', 'net', 'par', 'paskah', 'pegawai', 'peluru', 'pembahasan', 'pengolahan', 'resources', 'san', 'schalke', 'sebaiknya', 'seiring', 'silakan', 'sukses', 'temuan', 'tenang', 'tertekan', 'tottenham', 'usul', 'waktunya', 'werder', '##50', '##aran', '##asa', '##bar', '##be', '##bel', '##bia', '##bur', '##fer', '##knya', '##les', '##mbang', '##mer', '##rasi', '##skan', '##stan', '##tian', '##til', '##yangkan', '78', 'baja', 'berani', 'berpengaruh', 'bersaing', 'bersihnya', 'betis', 'biarkan', 'buta', 'cocok', 'conte', 'cpo', 'dijual', 'dini', 'dokumen', 'dortmund', 'finance', 'gates', 'gila', 'ham', 'indrawati', 'intervensi', 'istana', 'jankovic', 'jinjing', 'katak', 'kategori', 'kayu', 'kedelapan', 'kelihatan', 'konsep', 'konstruksi', 'koran', 'kuartet', 'langit', 'lembar', 'lipat', 'lk', 'malah', 'masjid', 'meledakkan', 'membuatku', 'menangani', 'mendirikan', 'mengingatkan', 'menyaksikan', 'menyeberang', 'mohamed', 'nyamuk', 'padi', 'patah', 'pindah', 'pro', 'rumahsakit', 'satuan', 'sewaktu', 'susilo', 'tahunnya', 'terburuk', 'timah', 'toni', 'us', 'wasit', '##anya', '##ari', '##askan', '##bon', '##by', '##dan', '##duk', '##ez', '##gang', '##kali', '##kap', '##kas', '##ke', '##ker', '##kur', '##ngi', '##os', '##ov', '##ps', '##ret', '##rian', '##tin', '##ts', '##yu', '02', '120', '1998', '69', 'agregat', 'atm', 'awan', 'bahaya', 'bau', 'bekas', 'berbasis', 'berdua', 'beruntun', 'celah', 'delegasi', 'denmark', 'dihadapi', 'dipercaya', 'efisien', 'emisi', 'frekuensi', 'ilmiah', 'juru', 'juventus', 'karya', 'kewajiban', 'km', 'komposisi', 'konvensional', 'kuarter', 'ligue', 'macam', 'mallorca', 'membersihkan', 'membiarkan', 'mendengarkan', 'mengantungi', 'mengerjakan', 'mengizinkan', 'menko', 'menyelidiki', 'menyerahkan', 'milyar', 'monitor', 'muhammad', 'pakar', 'pedesaan', 'pembagian', 'penempatan', 'pengaturan', 'pentagon', 'peralatan', 'pertamina', 'perwira', 'pintunya', 'pipa', 'pratama', 'pulih', 'rencananya', 'revolusi', 'sadr', 'sebulan', 'segi', 'sengaja', 'sengketa', 'singkat', 'standar', 'taman', 'tas', 'tersebar', 'transfer', 'transportasi', 'tulis', 'vietnam', 'yudhoyono', '##batan', '##ble', '##bung', '##dera', '##ei', '##erah', '##jar', '##ment', '##ngkan', '##nia', '##ning', '##pi', '##rt', '##sir', '##takan', '##ve', '##zi', '73', 'akal', 'antariksa', 'belas', 'berbuat', 'berjangka', 'berpenduduk', 'bes', 'betapa', 'bii', 'buat', 'bundesliga', 'buruh', 'carlos', 'debitur', 'dengar', 'dilanjutkan', 'ditjen', 'diungkapkan', 'eksternal', 'epa', 'fakta', 'fitch', 'flu', 'fund', 'gerak', 'hakim', 'hambatan', 'ilegal', 'istri', 'jembatan', 'kantung', 'karirnya', 'kecenderungan', 'kegagalan', 'kemerdekaan', 'kenya', 'kepalanya', 'ketinggalan', 'lelaki', 'mabuk', 'materi', 'membantah', 'membuahkan', 'mempelajari', 'mengisi', 'mengkonfirmasi', 'merujuk', 'otoritas', 'panin', 'pembuat', 'pembukaan', 'pemungutan', 'penciptaan', 'penguatan', 'persiapan', 'polimer', 'profesional', 'red', 'ri', 'rp15', 'rp5', 'seberapa', 'sentimen', 'sepakbola', 'sesama', 'swedia', 'tahanan', 'takkan', 'terkemuka', 'tersingkir', 'tertinggal', 'thayib', 'time', 'vitamin', 'williams', '##bc', '##dasi', '##ela', '##em', '##kai', '##kar', '##kop', '##ling', '##nal', '##pang', '##pu', '##put', '##rs', '##ual', '03', '77', '88', 'adik', 'agreement', 'akibatnya', 'andy', 'asean', 'asisten', 'asosiasi', 'atp', 'awalnya', 'bali', 'beragam', 'betul', 'biologi', 'buka', 'burhanudin', 'condoleezza', 'dalamnya', 'demonstran', 'derajat', 'diatur', 'diperkuat', 'distribusi', 'dna', 'edwin', 'fiorentina', 'imf', 'inggeris', 'kaitan', 'kecaman', 'kedelai', 'komisaris', 'konsolidasi', 'kunjungannya', 'le', 'lemak', 'liar', 'maliki', 'membalas', 'membebaskan', 'membiayai', 'menabrak', 'menculik', 'meneruskan', 'menganggap', 'merencanakan', 'migas', 'nasa', 'penahanan', 'pencarian', 'penyediaan', 'perlawanan', 'perumahan', 'perut', 'porsi', 'retail', 'roberto', 'roddick', 'semi', 'si', 'stroke', 'stuttgart', 'tanker', 'temannya', 'terbiasa', 'terkejut', 'turunnya', 'uranium', 'usulan', '##aga', '##alan', '##aya', '##bo', '##dal', '##dian', '##ean', '##ee', '##ght', '##jah', '##ju', '##kala', '##las', '##lir', '##ndang', '##ndo', '##ner', '##onal', '##rang', '##ria', '##ru', '##tion', '1999', '800', '81', 'adil', 'adu', 'astronomi', 'bendera', 'berjumlah', 'berlaga', 'berteriak', 'budaya', 'budi', 'cgi', 'damai', 'dipilih', 'diserang', 'disiarkan', 'diterapkan', 'fisik', 'for', 'grant', 'henry', 'iaea', 'in', 'inginkan', 'jaman', 'jeruk', 'kakinya', 'kamerun', 'kecolongan', 'kekacauan', 'kelemahan', 'ketegangan', 'kubu', 'lancar', 'lebaran', 'leverkusen', 'melahirkan', 'membahayakan', 'mempercepat', 'mempersiapkan', 'memukul', 'menekankan', 'mengguncang', 'mengkaji', 'menjanjikan', 'menundukkan', 'menyeru', 'menyesuaikan', 'minuman', 'multi', 'nancy', 'pantas', 'pasir', 'pelatihan', 'pemberontakan', 'pemikiran', 'pencapaian', 'penembakan', 'penentuan', 'pengayaan', 'penulis', 'penyelamatan', 'perjuangan', 'potensial', 'propinsi', 'pte', 'referendum', 'sayangnya', 'sedemikian', 'semalam', 'sempit', 'sumur', 'susah', 'taiwan', 'tender', 'terbunuh', 'timnas', 'tsunami', 'up', '##ana', '##bah', '##chi', '##eksi', '##ensi', '##gal', '##ial', '##ip', '##itan', '##lie', '##lus', '##nda', '##pk', '##rna', '##sm', '##ten', '##usi', '##yang', '01', '08', '93', 'agresif', 'ahmed', 'alokasi', 'anggapan', 'arsitektur', 'barunya', 'benua', 'berdasar', 'berharga', 'berkisar', 'bertahun', 'bin', 'bodoh', 'botol', 'daging', 'dibahas', 'dicurigai', 'dinosaurus', 'dipicu', 'diubah', 'diyakini', 'duakali', 'ekonominya', 'federal', 'finansial', 'guinea', 'hebat', 'hill', 'ibunya', 'insentif', 'ion', 'istrinya', 'jual', 'kairo', 'kapitalis', 'kekurangan', 'lee', 'lintasan', 'logistik', 'matematika', 'melarang', 'meletus', 'memecahkan', 'memotong', 'mengarahkan', 'mengelola', 'mengemukakan', 'mengenal', 'mengungkap', 'menyalurkan', 'minat', 'mobile', 'mobilnya', 'nantinya', 'nasi', 'nasib', 'pacific', 'paket', 'pelajar', 'pembantu', 'pemilu', 'pemogokan', 'pemrotes', 'pengurangan', 'petunjuk', 'prosedur', 'punggung', 'rahmat', 'rokok', 'ruu', 'sambil', 'senegaranya', 'super', 'tebal', 'tegas', 'teror', 'terpaksa', 'tersedia', 'to', 'umur', 'unta', 'xi', 'zaragoza', '##60', '##able', '##age', '##aku', '##barkan', '##din', '##esi', '##kp', '##mar', '##mari', '##mata', '##mbangkan', '##my', '##net', '##ping', '##ren', '##ring', '##so', '##tangan', '##tikan', '##tuk', '##uhkan', '##ulang', '##unan', '##usa', '##usan', '##wn', '##yo', '07', '1991', '1994', '700', '84', '92', '94', 'agus', 'antioksidan', 'ayahnya', 'ayo', 'bakrie', 'banyaknya', 'barisan', 'beralih', 'berbahan', 'berdampak', 'berhati', 'berpotensi', 'bersatu', 'bersiap', 'berumur', 'biologis', 'cair', 'cerita', 'dijatuhi', 'dimanfaatkan', 'dirawat', 'ditargetkan', 'donor', 'efisiensi', 'eto', 'event', 'fulham', 'fundamental', 'gambaran', 'gebrakan', 'gejala', 'gigi', 'hadapan', 'harapkan', 'howard', 'jamur', 'janji', 'kambrium', 'karyawan', 'kebun', 'kedatangan', 'keluarganya', 'keyakinan', 'kontroversial', 'landasan', 'lengkap', 'lumpur', 'maksimum', 'manfaat', 'medan', 'melarikan', 'memandang', 'memikirkan', 'menanggapi', 'mendanai', 'menduga', 'mengamati', 'menggerakkan', 'menyarankan', 'mustahil', 'naiknya', 'niger', 'omar', 'pakaian', 'park', 'patroli', 'penanaman', 'penyerapan', 'penyesuaian', 'perpustakaan', 'perserikatan', 'pisau', 'pln', 'premier', 'puas', 'ramah', 'rendahnya', 'restoran', 'roti', 'rumahku', 'sains', 'sampah', 'sangatlah', 'saraf', 'sarana', 'sebut', 'sengit', 'seni', 'sepatu', 'sesi', 'sinaga', 'suratkabar', 'susunan', 'tanggung', 'terang', 'terapi', 'terbawah', 'tony', 'tuhan', 'tunisia', 'ujung', 'unggas', 'utamanya', 'wajah', 'warganegara', 'yaman', 'yunani', '##abel', '##bak', '##baran', '##cal', '##cur', '##dah', '##daya', '##ding', '##erry', '##ey', '##gat', '##ine', '##jangan', '##lai', '##maan', '##mpa', '##nd', '##pkan', '##pt', '##res', '##rik', '##tnya', '09', '98', 'agung', 'aktivis', 'ayahku', 'ayam', 'bara', 'bek', 'belgia', 'bereaksi', 'berlawanan', 'berminat', 'berpendapat', 'bertandang', 'berukuran', 'berulang', 'bpr', 'bukit', 'campuran', 'canggih', 'ceko', 'cincin', 'corporation', 'daniel', 'diego', 'dilancarkan', 'dilengkapi', 'dimensi', 'ditawarkan', 'energy', 'eta', 'federasi', 'financial', 'georgia', 'helmand', 'henin', 'jose', 'jumpa', 'kabel', 'kalender', 'kalimantan', 'karir', 'kehadiran', 'kemampuannya', 'kenyataannya', 'ki', 'koordinasi', 'lanjutnya', 'lelang', 'lensa', 'liat', 'loan', 'manufaktur', 'marinir', 'masalahnya', 'melanggar', 'membakar', 'membentur', 'menakjubkan', 'mengabaikan', 'mengagumkan', 'mengawasi', 'menghilangkan', 'menghormati', 'mengidentifikasi', 'mengira', 'menyeluruh', 'menyerbu', 'menyingkirkan', 'metz', 'mortgage', 'nano', 'newcastle', 'nicolas', 'norwegia', 'nota', 'nyaman', 'pangsa', 'paus', 'pembunuh', 'pemuda', 'penanggulangan', 'penghasil', 'penghasilan', 'pengumuman', 'pentingnya', 'peranan', 'populasi', 'produktif', 'rebound', 'rp10', 'rp500', 'rp6', 'rully', 'rupslb', 'sanchez', 'segalanya', 'sehubungan', 'seminggu', 'seoul', 'sharapova', 'skala', 'system', 'taksi', 'telinga', 'temperatur', 'tetangganya', 'times', 'tulisan', 'tunai', 'ujian', 'valas', 'variasi', 'wisata', 'wolfsburg', '##89', '##awan', '##ber', '##bol', '##bungan', '##cah', '##curan', '##dakan', '##dar', '##ech', '##ef', '##eter', '##etik', '##iya', '##jal', '##jangkau', '##jat', '##jikan', '##jukan', '##lam', '##lit', '##nik', '##ns', '##olah', '##port', '##sh', '##tah', '##ulkan', '##umi', '##ura', '##utan', '##uti', '##vi', '##waan', '##ward', '##yak', '##yi', '1970', '1990', '600', '82', '96', 'adikku', 'agenda', 'ah', 'ajang', 'angola', 'asasi', 'au', 'basra', 'bbc', 'beirut', 'benci', 'berevolusi', 'berkekuatan', 'berkumpul', 'berlatih', 'berpusat', 'berupaya', 'bis', 'bos', 'car', 'caranya', 'darwinisme', 'dasawarsa', 'diakui', 'diberlakukan', 'dibunuh', 'dikemukakan', 'dikhawatirkan', 'dilakukannya', 'dimasukkan', 'diplomasi', 'diproduksi', 'diserahkan', 'disimpan', 'disusul', 'ehud', 'el', 'enzim', 'fabio', 'favorit', 'fee', 'filum', 'frank', 'gresik', 'habis', 'haji', 'hotspur', 'ibadah', 'insinyur', 'irlandia', 'jeda', 'juan', 'kemacetan', 'keprihatinan', 'ketahui', 'kg', 'kimiawi', 'kriminal', 'kuatnya', 'kunang', 'lapis', 'lari', 'larva', 'lebar', 'lps', 'majelis', 'mark', 'martin', 'melambat', 'melebar', 'melompat', 'memberitahuku', 'memberlakukan', 'memerangi', 'memfokuskan', 'memperluas', 'memulihkan', 'menerapkan', 'mengembalikan', 'mengemudi', 'menghalangi', 'mengundang', 'mengusulkan', 'mengutuk', 'menutupi', 'merayakan', 'merugikan', 'miami', 'minoritas', 'mitsubishi', 'mohammad', 'moskow', 'murid', 'nenek', 'nova', 'nusantara', 'padang', 'paham', 'pelaut', 'pembatasan', 'penentu', 'pengakuan', 'pengamatan', 'penjamin', 'percepatan', 'pertambahan', 'pikiran', 'portofolio', 'ragu', 'rambut', 'segar', 'sekelompok', 'sektarian', 'sekuritas', 'semata', 'senapan', 'seolah', 'seraya', 'shinzo', 'sofyan', 'street', 'tawaran', 'terdekat', 'tindak', 'tuturnya', 'venezuela', 'vfl', 'west', '##abar', '##adaan', '##angan', '##apan', '##bin', '##brak', '##carkan', '##cing', '##dung', '##eh', '##enang', '##gah', '##galkan', '##gap', '##hat', '##ii', '##ika', '##indo', '##lisasi', '##log', '##logi', '##lok', '##mas', '##mis', '##ola', '##one', '##oro', '##orong', '##ou', '##oy', '##pr', '##rea', '##rin', '##rit', '##rk', '##rom', '##sakan', '##sana', '##sia', '##teksi', '##tir', '##tur', '##ud', '##uhan', '##uli', '##urkan', '##ven', '##well', '##ze', '##zon', '1996', 'acak', 'afghan', 'akar', 'analisis', 'asli', 'astronot', 'austria', 'bergantung', 'bergolak', 'beri', 'bermaksud', 'bermanfaat', 'bermotor', 'bolivia', 'capital', 'cokelat', 'dasarnya', 'deflasi', 'dibagikan', 'digantikan', 'dihukum', 'dijaga', 'dipastikan', 'dipecat', 'disamping', 'disetujui', 'ditambah', 'diturunkan', 'ekonom', 'elemen', 'espanyol', 'germain', 'girondins', 'gratis', 'hancur', 'himpunan', 'hong', 'hopanoid', 'idb', 'independen', 'individu', 'indofood', 'ivanovic', 'kadar', 'kebebasan', 'kehabisan', 'kejutan', 'keseimbangan', 'kesembilan', 'komunis', 'kondusif', 'konsentrasi', 'koperasi', 'kotor', 'kuda', 'lanjutan', 'lautan', 'lengan', 'liter', 'luis', 'malu', 'marga', 'mars', 'match', 'me', 'memadai', 'memasak', 'memasang', 'membran', 'membuang', 'memburuk', 'memelihara', 'menduduki', 'meneliti', 'menemui', 'mengendarai', 'menggelar', 'menghidupkan', 'mengontrol', 'menyerupai', 'middlesbrough', 'mil', 'minimum', 'mohammed', 'mugabe', 'niaga', 'novel', 'olah', 'optimal', 'pawai', 'pecah', 'pemakaian', 'pemelihara', 'penanganan', 'pencegahan', 'pengunduran', 'penyandang', 'penyelamat', 'perguruan', 'persyaratan', 'peru', 'pesat', 'petempur', 'pga', 'pm', 'port', 'pp', 'rafael', 'rating', 'regulasi', 'rincian', 'ritel', 'romania', 'saingan', 'segmen', 'seks', 'senat', 'silang', 'suaminya', 'subprime', 'survei', 'tabrakan', 'tanggapan', 'telefon', 'temanku', 'tentaranya', 'terkadang', 'tertua', 'tes', 'ujicoba', 'undangan', 'undian', 'villarreal', 'wen', '##ab', '##ada', '##ani', '##asikan', '##atkan', '##bik', '##bunyi', '##cangan', '##car', '##cy', '##del', '##dra', '##een', '##ega', '##erasi', '##ero', '##est', '##etak', '##field', '##garan', '##gor', '##he', '##hen', '##iat', '##iki', '##ink', '##iran', '##jen', '##kal', '##lia', '##ly', '##mam', '##nci', '##ob', '##oksida', '##ologi', '##oo', '##op', '##ota', '##pon', '##por', '##q', '##ral', '##ras', '##sel', '##tarkan', '##tb', '##ted', '##uskan', '##vin', '170', '350', '83', '86', '91', 'banding', 'batang', 'bekerjasama', 'ben', 'bepergian', 'berbatasan', 'berdarah', 'berdekatan', 'berfokus', 'berlebihan', 'bersikap', 'bertelur', 'bertolak', 'besi', 'blair', 'bukankah', 'bukunya', 'cia', 'davenport', 'dekade', 'desain', 'dibaca', 'dibayar', 'dibiayai', 'didasarkan', 'dikenakan', 'dikurangi', 'dilepaskan', 'dimungkinkan', 'dinas', 'diperdagangkan', 'disepakati', 'eksekutif', 'fa', 'fenerbahce', 'fish', 'format', 'garam', 'gerilya', 'gerrard', 'haniya', 'heriawan', 'hidrokarbon', 'hidupnya', 'iklan', 'implementasi', 'intermediasi', 'iv', 'jantan', 'jaya', 'jenazah', 'jet', 'juve', 'kadin', 'kampanye', 'kandas', 'kapitalisasi', 'keahlian', 'kebingungan', 'kelapa', 'kerjanya', 'kesadaran', 'khas', 'kilo', 'komando', 'kong', 'konglomerat', 'konservatif', 'kontrol', 'kurangnya', 'lamban', 'landas', 'melbourne', 'membubung', 'memecat', 'memerintah', 'memprotes', 'menandai', 'meneg', 'menelan', 'menelepon', 'menerobos', 'mengakuisisi', 'mengandalkan', 'mengangkut', 'mengecam', 'menghantam', 'menghilang', 'menghimpun', 'menguatnya', 'mengusir', 'menolong', 'menyalahkan', 'menyembunyikan', 'menyukainya', 'mimpi', 'muamalat', 'museum', 'nampak', 'npi', 'orde', 'outlook', 'peluncuran', 'pemadam', 'penandatanganan', 'penghematan', 'pengunjuk', 'penundaan', 'peredaran', 'perlahan', 'petang', 'peziarah', 'pgn', 'polandia', 'profitabilitas', 'public', 'ramai', 'rangkaian', 'raul', 'rekening', 'rp14', 'samudra', 'saran', 'sekjen', 'senator', 'seruan', 'seusai', 'skema', 'skotlandia', 'spurs', 'surya', 'tampilan', 'tarantula', 'telecom', 'terpengaruh', 'tren', 'wajar', 'zaman', '##45', '##ade', '##aha', '##akkan', '##ano', '##ansi', '##arta', '##ary', '##awa', '##berg', '##bs', '##bungi', '##buran', '##but', '##cam', '##can', '##cl', '##dari', '##ein', '##ello', '##eraksi', '##eral', '##eras', '##ers', '##esis', '##gakan', '##gel', '##ida', '##ier', '##ili', '##iti', '##lasi', '##masi', '##masukan', '##mbung', '##mkan', '##mpat', '##od', '##ovic', '##pas', '##pis', '##rama', '##sen', '##sisi', '##ski', '##sp', '##tama', '##tang', '##tes', '##tra', '##ucu', '##urus', '##utkan', '##ville', '##zer', '130', '160', '97', 'aali', 'aktor', 'armada', 'arsip', 'atlantik', 'awak', 'back', 'baghdatis', 'bangga', 'basah', 'bca', 'berkualitas', 'bernilai', 'bersembunyi', 'cerdas', 'chicago', 'ciptaan', 'cottbus', 'dagang', 'dakar', 'davis', 'demokrasi', 'dibuka', 'dicuri', 'dijalankan', 'dikalahkan', 'dikembalikan', 'dikendalikan', 'dilatih', 'dimainkan', 'dimulainya', 'dioksida', 'dipasang', 'diperbaiki', 'diragukan', 'diskusi', 'dugaan', 'goreng', 'gunakan', 'hektar', 'hu', 'imbalan', 'ismail', 'jalanan', 'jerusalem', 'keajaiban', 'kecamatan', 'kekayaan', 'kelangsungan', 'keluarnya', 'kemudahan', 'kendala', 'keperluan', 'keterbukaan', 'khan', 'kode', 'konsisten', 'konversi', 'korsel', 'ku', 'kuba', 'kue', 'kupon', 'kurdi', 'laboratorium', 'lampunya', 'layaknya', 'lemparan', 'lidah', 'life', 'ltte', 'lutut', 'macet', 'mahmud', 'manager', 'mauritania', 'mccormack', 'melampaui', 'meletakkan', 'membawanya', 'membenarkan', 'memerintahkan', 'memindahkan', 'memperhitungkan', 'menara', 'mencabut', 'mendeteksi', 'mengecewakan', 'menghubungi', 'mental', 'menurunnya', 'menyepakati', 'menyerap', 'merancang', 'merkurius', 'mewakili', 'mistar', 'moon', 'mortir', 'moya', 'muka', 'nyeri', 'objek', 'organisme', 'pacar', 'palsu', 'partikel', 'pasca', 'pasukannya', 'pdam', 'pegunungan', 'pembekuan', 'penambangan', 'penampilannya', 'pencipta', 'pendiri', 'pendukungnya', 'pengobatan', 'penguasa', 'pengurus', 'perlambatan', 'perlucutan', 'persero', 'pertamakalinya', 'pertimbangan', 'perunding', 'peter', 'pinjam', 'populer', 'portsmouth', 'pupuk', 'rantai', 'rejim', 'respon', 'rp100', 'rugi', 'rumput', 'rutin', 'saatnya', 'sampel', 'sayang', 'sayapnya', 'sbn', 'semangat', 'serat', 'serie', 'setia', 'skandal', 'suci', 'sukuk', 'sumbangan', 'terkecil', 'tiebreak', 'top', 'torres', 'tradisional', 'ular', 'unjuk', 'veteran', 'wahana', 'wall', 'world', '##20', '##36', '##anan', '##angkan', '##aru', '##ation', '##awat', '##bil', '##bolehkan', '##bong', '##buk', '##cairkan', '##dakwa', '##dium', '##dro', '##dukan', '##ensif', '##entasi', '##eo', '##eran', '##erang', '##ering', '##eta', '##ex', '##gasi', '##get', '##gh', '##gus', '##ham', '##hami', '##hu', '##ice', '##jan', '##je', '##jung', '##kak', '##kut', '##lakuan', '##lar', '##lempar', '##mbar', '##mbut', '##mulasi', '##nah', '##ono', '##ore', '##osa', '##osis', '##pirasi', '##pol', '##rial', '##rick', '##rio', '##ritik', '##rnya', '##sar', '##shi', '##sky', '##sta', '##tara', '##top', '##tt', '##ulan', '##ure', '##usin', '##vic', '##vo', '##wo', '06', '119', '140', '79', '87', '89', 'adhi', 'ahmad', 'alamat', 'all', 'anthony', 'anwar', 'arti', 'assist', 'athletic', 'atlet', 'balasan', 'bandung', 'bawahnya', 'bayer', 'belah', 'berniat', 'berpindah', 'bilbao', 'bogey', 'bolton', 'buaya', 'bukannya', 'buy', 'cari', 'catania', 'company', 'cup', 'denganku', 'depannya', 'dick', 'dimakan', 'dipenuhi', 'diperiksa', 'ditambahkannya', 'ditunjuk', 'genetika', 'getaran', 'group', 'guatemala', 'harinya', 'humas', 'ijin', 'invasi', 'islamabad', 'istirahat', 'jadwal', 'jaga', 'javier', 'jejak', 'jordan', 'jordania', 'kabul', 'kalla', 'kapitalisme', 'karenanya', 'karet', 'keju', 'kelopak', 'kenal', 'kepadaku', 'keretanya', 'kering', 'kesejahteraan', 'keselamatan', 'ketakutan', 'ketawa', 'koeman', 'kolombo', 'kompetitif', 'konperensi', 'konsorsium', 'konstitusi', 'konsulat', 'kuil', 'kulakukan', 'kurun', 'kuwait', 'lazio', 'ldr', 'levante', 'lifting', 'lini', 'lng', 'luca', 'lukisan', 'lumayan', 'mainan', 'mandi', 'maria', 'massal', 'matanya', 'mawar', 'melayang', 'melihatmu', 'melumpuhkan', 'memangku', 'memantau', 'memasok', 'membagi', 'membagikan', 'membatasi', 'memenangkan', 'menanam', 'mendarat', 'mengacu', 'mengajar', 'mengganti', 'menghemat', 'menghubungkan', 'mengkhawatirkan', 'menurutmu', 'menyentuh', 'menyusut', 'mineral', 'moyang', 'mubarak', 'national', 'no', 'nukleus', 'open', 'pakai', 'pandai', 'paramiliter', 'pato', 'patungan', 'pekerjaannya', 'pemanfaatan', 'penilaian', 'penolakan', 'penyedia', 'penyimpanan', 'perebutan', 'persegi', 'perusahaannya', 'pikirkan', 'pilot', 'pori', 'prefektur', 'prima', 'rekayasa', 'restrukturisasi', 'ronald', 'rp12', 'santander', 'sejenis', 'semenanjung', 'seminar', 'semut', 'separatis', 'serpihan', 'sertifikat', 'sesaat', 'silam', 'simpan', 'singa', 'singh', 'siro', 'skuad', 'song', 'sony', 'spesifik', 'steel', 'steve', 'struktural', 'syi', 'terjaga', 'terkendali', 'terobosan', 'tersenyum', 'tersimpan', 'tersusun', 'tidaklah', 'tol', 'tropis', 'udang', 'unik', 'university', 'vfb', 'wib', 'woods', '##00', '##12', '##42', '##53', '##92', '##aah', '##ali', '##alihan', '##aman', '##anas', '##ata', '##baikan', '##banding', '##bank', '##batkan', '##cement', '##che', '##cic', '##ctor', '##des', '##egang', '##elayan', '##eluk', '##embang', '##ep', '##eria', '##gaman', '##gram', '##gur', '##halau', '##hand', '##hari', '##heimer', '##ica', '##ino', '##io', '##iz', '##jaan', '##jani', '##jau', '##jebloskan', '##juk', '##kam', '##kis', '##kum', '##kusi', '##langi', '##lap', '##let', '##lorida', '##mes', '##migrasi', '##mula', '##naan', '##nai', '##nto', '##ogis', '##ongan', '##pakan', '##pd', '##puk', '##ril', '##rus', '##saan', '##sis', '##ster', '##su', '##sun', '##tai', '##tak', '##tika', '##tivitas', '##tri', '##tukan', '##uhi', '##una', '##ungan', '##zim', '##zo', '050', '105', '110', '2013', '74', 'administrasi', 'afgan', 'ahmadinejad', 'airnya', 'alergi', 'alonso', 'amfibia', 'andrew', 'angkat', 'aslim', 'audit', 'badannya', 'belasan', 'bentrok', 'benzema', 'berpenghasilan', 'biomassa', 'bioteknologi', 'borussia', 'bosan', 'break', 'buang', 'california', 'campur', 'center', 'central', 'chad', 'charles', 'chechnya', 'da', 'darmin', 'debu', 'diantara', 'dibatasi', 'dibeli', 'digulingkan', 'dijinakkan', 'dimaksud', 'dipaksa', 'diperhitungkan', 'dipertahankan', 'direksi', 'dirimu', 'ditampilkan', 'ditandai', 'ditolak', 'ditulis', 'diusir', 'divestasi', 'dki', 'dominan', 'drogba', 'dutabesar', 'economic', 'ekspektasi', 'elbaradei', 'evaluasi', 'file', 'finalis', 'gajah', 'gaji', 'gelas', 'gemuk', 'gencar', 'giro', 'green', 'gudang', 'gumpalan', 'hidung', 'hilangnya', 'ibuku', 'inci', 'indian', 'indikasi', 'inspirasi', 'institusi', 'intel', 'intensif', 'interaksi', 'investment', 'jelaslah', 'kacamata', 'karzai', 'kashmir', 'kebuntuan', 'kepadamu', 'kesimpulan', 'keturunan', 'kolam', 'konsekuensi', 'konyol', 'koordinator', 'kreditor', 'ktt', 'kumbang', 'laden', 'lakers', 'lonjakan', 'lulus', 'lupakan', 'mancini', 'mans', 'melemahnya', 'memancing', 'membuatmu', 'membujuk', 'mencuci', 'mendadak', 'mendalam', 'mendekat', 'meneriakkan', 'menggali', 'menghambat', 'mengindikasikan', 'mengontrak', 'mengoperasikan', 'menyebar', 'menyelenggarakan', 'menyia', 'menyisihkan', 'menyudahi', 'minimal', 'misteri', 'misterius', 'mottaki', 'mukherjee', 'mula', 'nabi', 'natal', 'nopember', 'nyalakan', 'orbit', 'otomotif', 'outstanding', 'pemasaran', 'pemberdayaan', 'penasehat', 'pencari', 'pendudukan', 'pengawal', 'penghargaan', 'penghentian', 'penglihatan', 'penjaminan', 'penyelenggara', 'perluasan', 'play', 'pma', 'portal', 'potong', 'primera', 'prosesor', 'quran', 'rezim', 'ribery', 'ringgit', 'royalti', 'rp11', 'runner', 'said', 'sapi', 'schiavone', 'sebagainya', 'secepatnya', 'sedih', 'sekitarnya', 'selandia', 'seluas', 'seluruhnya', 'sembuh', 'sensitif', 'seorangpun', 'skor', 'slogan', 'sochaux', 'spekulasi', 'suasana', 'suzetta', 'sv', 'sydney', 'tempatnya', 'tenggelam', 'tercepat', 'terdahulu', 'terjatuh', 'terlarang', 'terpenting', 'terpilih', 'terserang', 'tertidur', 'timbul', 'timor', 'tipe', 'vaksin', 'vertebrata', 'wells', 'wp', 'xl', 'yusuf', '##37', '##ajaran', '##alkan', '##beri', '##berto', '##cap', '##capkan', '##cc', '##dak', '##dalam', '##dap', '##dara', '##day', '##disi', '##dor', '##ead', '##ema', '##engan', '##ens', '##eologi', '##erbagi', '##erdaya', '##feld', '##gantung', '##ggak', '##ghi', '##gigit', '##hambat', '##har', '##iang', '##ibilitas', '##ikat', '##ilih', '##ily', '##imuti', '##ins', '##ity', '##juan', '##juddin', '##king', '##kok', '##konsumsi', '##kos', '##ksa', '##kses', '##lian', '##lihatkan', '##liun', '##luar', '##mail', '##masan', '##mpuh', '##ndu', '##nga', '##ntu', '##ori', '##ort', '##pada', '##pasan', '##pe', '##pegang', '##puluh', '##que', '##raan', '##rata', '##reas', '##rg', '##ric', '##rol', '##rov', '##sal', '##sang', '##sari', '##sat', '##sial', '##snya', '##tasan', '##tat', '##tek', '##tol', '##trasi', '##uap', '##uat', '##uji', '##umpukan', '##unakan', '##val', '##vasi', '##yakan', '101', '135', '157', '1967', '900', 'akurat', 'alamiah', 'aliansi', 'amandemen', 'amatir', 'anggito', 'antonio', 'apresiasi', 'asii', 'baca', 'basque', 'bauksit', 'belarus', 'bendungan', 'benjamin', 'bentuknya', 'berakhirnya', 'bergejolak', 'berhak', 'berisiko', 'beristirahat', 'berkelahi', 'berkenaan', 'berkeras', 'berlokasi', 'bertarung', 'berterima', 'bir', 'bkd', 'bochum', 'boikot', 'btel', 'celtic', 'chris', 'christopher', 'cisse', 'cnn', 'corp', 'danareksa', 'daun', 'debt', 'del', 'deposit', 'diakibatkan', 'diatas', 'dibagi', 'dihitung', 'diidentifikasi', 'diizinkan', 'dikarenakan', 'dikatakannya', 'dikirimkan', 'dikonfirmasi', 'dilahirkan', 'dilindungi', 'dipelajari', 'dipengaruhi', 'dipindahkan', 'dipublikasikan', 'diputuskan', 'dirasakan', 'direktorat', 'ditarik', 'ditingkatkan', 'dituntut', 'diunggulkan', 'dollar', 'dorongan', 'enggan', 'erat', 'europa', 'f1', 'farma', 'fifa', 'filipina', 'forehand', 'frankfurt', 'gereja', 'hitungan', 'hormon', 'hubungannya', 'individual', 'injury', 'interest', 'investasinya', 'issue', 'istimewa', 'jaksa', 'jendral', 'jihad', 'jujur', 'jusuf', 'kakak', 'kakakku', 'kandidat', 'karakteristik', 'karim', 'katalis', 'kawah', 'kebiasaan', 'kelelahan', 'kelompoknya', 'kembar', 'kemunculan', 'kepresidenan', 'kepulauan', 'kevlar', 'kian', 'kolonel', 'kontroversi', 'koreksi', 'lalulintas', 'langka', 'lembaran', 'lentur', 'libur', 'lille', 'lopez', 'lutein', 'mahadhesi', 'mahkamah', 'mali', 'management', 'mangsa', 'manuel', 'masukan', 'melengkapi', 'melesakkan', 'memaksakan', 'mematuhi', 'membosankan', 'membubarkan', 'memeluk', 'memonitor', 'mempercayai', 'memprediksi', 'memproyeksikan', 'memusatkan', 'mencobanya', 'mencuri', 'mendapati', 'mendasar', 'menembakkan', 'menempel', 'mengalihkan', 'mengeluh', 'mengesankan', 'menggenapi', 'menginap', 'mengulangi', 'meninjau', 'menjabat', 'merkel', 'mestinya', 'migrasi', 'mike', 'multilateral', 'murcia', 'mutu', 'narkoba', 'nominal', 'nuri', 'nyiakan', 'ori', 'pak', 'paleontologi', 'pameran', 'paspor', 'payung', 'pengembang', 'pengendali', 'pengendalian', 'penghitungan', 'pengkajian', 'penjagaan', 'penjuru', 'penyelenggaraan', 'penyerbuan', 'perbendaharaan', 'pereli', 'perilaku', 'perincian', 'permohonan', 'peta', 'pidatonya', 'piutang', 'plame', 'playmaker', 'potongan', 'ptba', 'pulp', 'putin', 'radiasi', 'radionya', 'ramos', 'reaktif', 'recreativo', 'rekonsiliasi', 'retina', 'rfid', 'rintangan', 'roh', 'rp16', 'rp40', 'rups', 'rwanda', 'sadar', 'santoro', 'sebabnya', 'selaku', 'semoga', 'sendirinya', 'seputar', 'serbuan', 'server', 'setinggi', 'sheikh', 'simon', 'sirkuit', 'situ', 'skenario', 'sky', 'stade', 'standard', 'straight', 'strel', 'sukar', 'supaya', 'swap', 'tanganmu', 'tangannya', 'teh', 'tembakannya', 'terahir', 'terbit', 'ternak', 'tiket', 'tinggalkan', 'transparan', 'tsvangirai', 'uap', 'uganda', 'ukurannya', 'untukmu', 'utuh', 'versi', 'visa', 'waziristan', 'yonhap', '##14', '##79', '##93', '##adilan', '##ahit', '##alas', '##angkir', '##ankan', '##anti', '##apex', '##aris', '##ato', '##awal', '##bal', '##balan', '##bangkan', '##bas', '##bawa', '##bayar', '##bilan', '##bit', '##butan', '##cak', '##cat', '##cetak', '##chu', '##ct', '##dam', '##dat', '##depak', '##dia', '##dir', '##don', '##dou', '##ea', '##edi', '##ediaan', '##erap', '##erbalik', '##ere', '##erman', '##esa', '##fc', '##fikasi', '##fo', '##ford', '##gn', '##gran', '##gro', '##guh', '##haruskan', '##ima', '##implementasikan', '##inkan', '##ira', '##iri', '##jaki', '##kir', '##ktif', '##kus', '##lak', '##line', '##lla', '##mah', '##malkan', '##mana', '##mann', '##mati', '##mbus', '##meter', '##misi', '##mp', '##ners', '##nes', '##nium', '##nus', '##oe', '##oid', '##oko', '##olo', '##otan', '##ouse', '##pecahkan', '##pn', '##pp', '##pur', '##raksi', '##real', '##rice', '##rmati', '##ronis', '##rta', '##sasi', '##sco', '##sini', '##tana', '##tions', '##tner', '##try', '##tti', '##tul', '##ubur', '##uki', '##ulasi', '##umber', '##ungkan', '##unjukkan', '##upayakan', '##uran', '##ury', '##vel', '##vez', '##wai', '##yai', '103', '114', '125', '1982', '275', 'ace', 'adapun', 'akbar', 'alasannya', 'ambisi', 'amman', 'apartemen', 'apexindo', 'arif', 'artikel', 'asian', 'aspirin', 'aston', 'astronom', 'atap', 'aviv', 'baiknya', 'baju', 'bawang', 'beckham', 'berkebangsaan', 'berkelanjutan', 'berkonsentrasi', 'bernyanyi', 'bersenang', 'bertanggungjawab', 'beserta', 'bhp', 'birmingham', 'birokrasi', 'bius', 'boneka', 'butuhkan', 'cacat', 'calleri', 'camara', 'campbell', 'capek', 'championship', 'dallas', 'delhi', 'demo', 'diarahkan', 'dibakar', 'dibayarkan', 'didesain', 'didominasi', 'dikelola', 'diklaim', 'dinikmati', 'dipertimbangkan', 'diselamatkan', 'diuji', 'dulunya', 'eelam', 'elpiji', 'eps', 'fans', 'farmasi', 'formal', 'francisco', 'garcia', 'gelandang', 'gerbang', 'gram', 'harta', 'hassan', 'hertha', 'hindu', 'hitzfeld', 'idn', 'ihsanoglu', 'ikatan', 'inco', 'induknya', 'inisiatif', 'instruksi', 'integrasi', 'ivan', 'jalannya', 'japan', 'jelena', 'jena', 'jones', 'julio', 'jus', 'kadangkala', 'kaka', 'kalbe', 'kanannya', 'keberadaannya', 'kekeringan', 'kelaparan', 'kemandirian', 'kemarahan', 'kencang', 'kepadanya', 'keraguan', 'ketahanan', 'ketidakpastian', 'klbf', 'klose', 'kombinasi', 'komoditi', 'kompas', 'kontraktor', 'kriteria', 'kudeta', 'kuno', 'ladang', 'lampung', 'larut', 'lawatan', 'league', 'liburan', 'mahut', 'makmur', 'mamalia', 'maraton', 'mayor', 'mdc', 'medcoenergi', 'melemparkan', 'meles', 'meluncur', 'memanggil', 'memaparkan', 'membantumu', 'membom', 'memfasilitasi', 'memperebutkan', 'memperkenalkan', 'memudahkan', 'mencintai', 'menegangkan', 'mengakses', 'mengalir', 'menggulingkan', 'mengikat', 'mengucapkan', 'menunda', 'menyangka', 'menyimpulkan', 'menyita', 'merawat', 'merenggut', 'mickelson', 'momentum', 'mulia', 'mumi', 'murni', 'musharraf', 'ngengat', 'nikolay', 'opec', 'opsi', 'organik', 'pacarku', 'panel', 'panik', 'panjangnya', 'paripurna', 'payudara', 'pelosi', 'pemantauan', 'pembeli', 'penasaran', 'pencurian', 'pendorong', 'penerbit', 'penetrasi', 'pengenaan', 'penggalian', 'penggemar', 'pengunjung', 'penumpasan', 'pepsis', 'perahu', 'perburuan', 'persekutuan', 'perselisihan', 'persnya', 'pesaing', 'piano', 'pinggir', 'pintar', 'plasma', 'point', 'porto', 'prediksi', 'puing', 'purba', 'racun', 'rahman', 'ratus', 'reggina', 'renault', 'revisi', 'riyadh', 'rombongan', 'ronaldo', 'rp50', 'sah', 'saingannya', 'sampdoria', 'santai', 'sebaik', 'secepat', 'sekira', 'seksual', 'semburan', 'separuh', 'sepasang', 'serdadu', 'sindikasi', 'sms', 'sporting', 'stres', 'sub', 'substansi', 'sugiharto', 'sumatra', 'supir', 'swadaya', 'syaraf', 'taklimat', 'tanding', 'teks', 'tel', 'tepung', 'terbanyak', 'terdengar', 'terendah', 'terhitung', 'terkunci', 'terpadu', 'terwujud', 'topi', 'trend', 'trilyun', 'tugasnya', 'unicef', 'usd', 'valladolid', 'walau', 'wigan', 'wisatawan', 'zenit', 'zia', '##71', '##abat', '##adi', '##af', '##als', '##amanan', '##ance', '##and', '##angi', '##anmu', '##ann', '##api', '##arat', '##ardo', '##atah', '##ate', '##atif', '##atik', '##atu', '##awi', '##ayaan', '##bb', '##bes', '##bing', '##book', '##boran', '##bourg', '##buat', '##cahan', '##cara', '##com', '##cong', '##cs', '##dc', '##dge', '##dze', '##ecil', '##edy', '##egas', '##ejarah', '##ekam', '##ell', '##ence', '##enjatai', '##entang', '##entuh', '##ercermin', '##erhubung', '##eus', '##ew', '##ewa', '##ff', '##fon', '##gaan', '##galan', '##gandakan', '##garap', '##ger', '##gerak', '##ging', '##gri', '##guna', '##hadirkan', '##hannya', '##hara', '##her', '##hus', '##imbangi', '##inasi', '##inasikan', '##ingan', '##inta', '##intang', '##ito', '##ius', '##ix', '##jamin', '##jaring', '##ject', '##jemahkan', '##kanmu', '##kol', '##ksaan', '##kung', '##lakan', '##lama', '##lemah', '##lika', '##lim', '##lipat', '##ls', '##lva', '##makan', '##mb', '##mbak', '##mg', '##minasi', '##ming', '##mong', '##ms', '##msi', '##nam', '##nance', '##nasi', '##ncar', '##nce', '##ngin', '##ngka', '##nho', '##nnya', '##oc', '##ode', '##ogram', '##oh', '##onel', '##ova', '##ple', '##pok', '##rahan', '##ram', '##rance', '##rannya', '##rap', '##rasa', '##red', '##rel', '##revisi', '##rim', '##rison', '##rix', '##roses', '##rot', '##rry', '##rum', '##sah', '##side', '##sih', '##ston', '##sur', '##tanam', '##tensi', '##tentangan', '##tp', '##tual', '##tus', '##uak', '##uang', '##udi', '##ujian', '##uksi', '##ukur', '##uler', '##ullah', '##ulus', '##umpah', '##undi', '##unduh', '##ungkap', '##urang', '##urt', '##usuk', '##van', '##vate', '##vers', '##warnai', '##xi', '##yat', '##zad', '##zan', '05', '117', '180', '1984', '1988', '2011', '260', '360', 'abadi', 'alap', 'alves', 'alwin', 'anggotanya', 'aqsa', 'arsene', 'assam', 'asset', 'ayat', 'bahana', 'bahu', 'baratdaya', 'baratlaut', 'base', 'batasan', 'bawa', 'bedanya', 'benturan', 'berbelanja', 'berbulan', 'berkurangnya', 'bermarkas', 'berperang', 'bersangkutan', 'bertekad', 'beshir', 'biji', 'billiton', 'bingung', 'blake', 'brantas', 'bundar', 'busnya', 'bv', 'carl', 'cash', 'casillas', 'catur', 'cavaliers', 'chavez', 'chennai', 'chip', 'classic', 'cleveland', 'co', 'com', 'cuckoo', 'curah', 'dada', 'dariku', 'debutnya', 'dementieva', 'demonstrasi', 'dicatatkan', 'didapat', 'diet', 'diganti', 'diinterogasi', 'dikabarkan', 'dipanggil', 'diprediksi', 'disahkan', 'disertai', 'disiapkan', 'display', 'ditangani', 'diteliti', 'domba', 'dominasi', 'dramatis', 'duisburg', 'eintracht', 'eksperimen', 'emirat', 'emosi', 'empoli', 'eu', 'favoritmu', 'fc', 'fermentasi', 'fisika', 'fitri', 'fitur', 'franck', 'gdp', 'gizi', 'go', 'goeltom', 'gugup', 'hadapi', 'hanover', 'harry', 'hepatitis', 'hewitt', 'hicks', 'ibumu', 'identitas', 'income', 'inovasi', 'instalasi', 'institute', 'island', 'jahat', 'jahja', 'jambi', 'jbic', 'jersey', 'jim', 'joseph', 'kalimat', 'kasar', 'kecerdasan', 'kedalaman', 'keegan', 'kegelapan', 'keita', 'keji', 'kemakmuran', 'kemana', 'kerumitan', 'kestabilan', 'ketatnya', 'ketenangan', 'khartoum', 'koloni', 'koneksi', 'konsultan', 'konsultasi', 'kontra', 'kuliah', 'kur', 'kwartal', 'kyoto', 'labah', 'laudrup', 'laurent', 'led', 'lelucon', 'lilin', 'line', 'llodra', 'makanannya', 'mamby', 'marco', 'marcos', 'margin', 'mario', 'marion', 'market', 'maukah', 'mauresmo', 'mekkah', 'melintasi', 'memadamkan', 'membatalkan', 'membedakan', 'membekukan', 'memperagakan', 'memperkecil', 'mempertanyakan', 'menabung', 'menandaskan', 'menantang', 'menanyakan', 'menari', 'menaruh', 'mencintainya', 'mendengarnya', 'menenggelamkan', 'menetas', 'meng', 'mengajak', 'mengalokasikan', 'mengeluhkan', 'mengesampingkan', 'menghapus', 'menghitung', 'mengisyaratkan', 'menguji', 'mengukur', 'mengungguli', 'menunjukan', 'menyusun', 'meredakan', 'merekam', 'meriam', 'merubah', 'mikhail', 'miliaran', 'miliki', 'mobilku', 'modalnya', 'modul', 'munculnya', 'nada', 'napoli', 'negosiasi', 'netto', 'news', 'niat', 'nuremberg', 'oksidatif', 'osama', 'ottmar', 'pahlawan', 'pan', 'panama', 'pasal', 'payah', 'pekerjaanmu', 'pelajaran', 'pelayaran', 'pelecehan', 'pelumas', 'pemahaman', 'pemainnya', 'pemangsa', 'pembantaian', 'pemda', 'pemecatan', 'pemerintahnya', 'pendampingan', 'penderita', 'penerangan', 'pengangguran', 'pengangkutan', 'pengaruhnya', 'pengeboran', 'penggelaran', 'penghapusan', 'penguin', 'penjajahan', 'penjual', 'pensiun', 'penuaan', 'penyanyi', 'penyebaran', 'penyelundup', 'penyelundupan', 'penyimpangan', 'perbandingan', 'perjalanannya', 'perkreditan', 'permainannya', 'pernafasan', 'pernahkah', 'perokok', 'pertanda', 'pertarungan', 'pingsan', 'pisang', 'plta', 'power', 'praktek', 'praktis', 'produktivitas', 'promosi', 'protokol', 'ragam', 'ratings', 'reguler', 'reksa', 'rentan', 'reproduksi', 'richard', 'roboh', 'rovers', 'rp17', 'rp200', 'rupa', 'ryan', 'saint', 'sales', 'sarapan', 'satonda', 'sayuran', 'sedimen', 'seketika', 'selaras', 'selular', 'sepekan', 'seratus', 'sertifikasi', 'services', 'setoran', 'seumur', 'share', 'siprus', 'sirip', 'source', 'sports', 'steven', 'suspensi', 'tawon', 'tayangan', 'temu', 'teorinya', 'terakhirnya', 'terangkat', 'tercipta', 'tergabung', 'terganggu', 'terhindar', 'terkuat', 'terperinci', 'texas', 'tomori', 'toronto', 'trauma', 'tsonga', 'tujuannya', 'tyson', 'ue', 'untr', 'urat', 'uruguay', 'valenciennes', 'vladimir', 'walcott', 'wawrinka', 'wewenang', 'workshop', 'yahoo', 'yongbyon', 'zakat', 'zis', '##25', '##95', '##aas', '##abi', '##adar', '##agang', '##ahn', '##aji', '##alisasi', '##alon', '##andro', '##angnya', '##anto', '##ao', '##arah', '##arai', '##art', '##arung', '##asaan', '##ase', '##ash', '##astis', '##atau', '##ator', '##aus', '##bahan', '##bari', '##bek', '##bok', '##bom', '##buang', '##buh', '##bungkan', '##buru', '##butor', '##caran', '##cer', '##cher', '##chy', '##cker', '##cks', '##dainya', '##daknya', '##diah', '##dih', '##doa', '##dova', '##ds', '##ebakan', '##ec', '##edan', '##egangan', '##ekan', '##elan', '##elang', '##elka', '##elson', '##emburu', '##enda', '##endiri', '##enko', '##eragam', '##erahkan', '##erapi', '##eret', '##erikat', '##erminal', '##ernandez', '##erson', '##esar', '##fd', '##form', '##gabungkan', '##gai', '##gger', '##git', '##gkal', '##gkat', '##gun', '##gunaan', '##idangan', '##ikasi', '##ilan', '##imeter', '##inho', '##ional', '##irakan', '##isahan', '##isipasi', '##itasi', '##jadi', '##jarah', '##jawab', '##kabel', '##kaji', '##kalinya', '##kanku', '##kara', '##karan', '##kawa', '##kia', '##kimia', '##kin', '##kirkan', '##kologis', '##koreksi', '##kovic', '##ktor', '##ktur', '##kulasi', '##kup', '##lanjutan', '##lasan', '##laut', '##lepas', '##lirik', '##lisis', '##lokasikan', '##lontarkan', '##low', '##ltur', '##lui', '##malukan', '##mando', '##mani', '##maran', '##mba', '##mik', '##mil', '##mimpi', '##mpakan', '##naran', '##nder', '##ndera', '##nen', '##ness', '##ngkapan', '##nie', '##nografi', '##ntrol', '##nyak', '##okan', '##okimia', '##oli', '##omen', '##oner', '##onfirmasi', '##oon', '##oper', '##ora', '##ord', '##organ', '##otong', '##ound', '##pahaman', '##pal', '##pat', '##patan', '##pati', '##pc', '##po', '##pore', '##pul', '##pus', '##putar', '##putasi', '##putus', '##raft', '##rai', '##rani', '##rans', '##realisasikan', '##reda', '##rger', '##ribusi', '##rumuskan', '##rundingkan', '##rup', '##rut', '##saurus', '##ship', '##sinya', '##stik', '##sud', '##tahuan', '##tangga', '##tari', '##tasikan', '##temui', '##tepatan', '##tera', '##teran', '##ters', '##tha', '##tiga', '##tive', '##toda', '##tos', '##tta', '##tungan', '##tut', '##uad', '##udu', '##ue', '##ukuran', '##ulat', '##uld', '##umbangkan', '##umpulan', '##ungsikan', '##untuhan', '##uram', '##utar', '##ute', '##wah', '##wak', '##wari', '##wati', '##yarat', '##yek', '##zation', '##ziz', '115', '121', '148', '1986', '1995', '950', 'adakah', 'adebayor', 'agro', 'almeria', 'ambilkan', 'ambulan', 'ana', 'anakku', 'anbar', 'antarbangsa', 'anteater', 'antisipasi', 'arena', 'asalnya', 'aso', 'asupan', 'athena', 'avram', 'bagdad', 'bahrain', 'bangku', 'bantuannya', 'bayinya', 'belok', 'benfica', 'bensin', 'beracun', 'berbau', 'berburu', 'beredar', 'berkali', 'berkantor', 'berkemampuan', 'berkomitmen', 'berlindung', 'bernapas', 'bertabrakan', 'bertengkar', 'bervariasi', 'bicarakan', 'bill', 'biro', 'bohong', 'boj', 'budak', 'bulanan', 'bulls', 'burns', 'caen', 'cambuk', 'carlo', 'carquefou', 'cemas', 'choi', 'cipta', 'clinton', 'club', 'cm', 'cpin', 'cpu', 'cracker', 'dahsyat', 'damaskus', 'dampaknya', 'dapatkah', 'dapur', 'daratan', 'datar', 'dealer', 'deivid', 'demokratis', 'depresi', 'dialihkan', 'dialirkan', 'diamati', 'diawali', 'dibantu', 'difokuskan', 'dihadiri', 'dihancurkan', 'dihindari', 'dikaitkan', 'diminum', 'diperhatikan', 'diperpanjang', 'diraih', 'ditekan', 'ditempuh', 'ditukar', 'ditunjukkan', 'diyala', 'djalil', 'doha', 'dompet', 'dosen', 'draft', 'dubai', 'ekuador', 'ellis', 'emiten', 'fair', 'fajar', 'ferrari', 'first', 'fluktuasi', 'ford', 'foton', 'gandum', 'gerhana', 'ginjal', 'gitar', 'golongan', 'guillermo', 'gyanendra', 'halus', 'hamil', 'han', 'hartadi', 'haruslah', 'henri', 'heroin', 'hiburan', 'hosni', 'huelva', 'hujannya', 'huruf', 'icp', 'idaa', 'ideal', 'impian', 'inc', 'infeksi', 'inspektur', 'jan', 'jangkauan', 'jatidirinya', 'jawabannya', 'johansson', 'journal', 'jurnal', 'justine', 'kagame', 'karakter', 'karsinogen', 'keane', 'kebangkitan', 'keberuntungan', 'kecanduan', 'kedalam', 'kehormatan', 'keistimewaan', 'kekecewaan', 'kelembagaan', 'kelistrikan', 'kemenangannya', 'kena', 'kendaraannya', 'kepastian', 'kepemimpinan', 'kerutan', 'ketergantungan', 'ketidak', 'kingdom', 'kloning', 'konsumer', 'kontraknya', 'kristal', 'kulkas', 'kuman', 'kumulatif', 'laku', 'lebat', 'lelakinya', 'lestari', 'limbah', 'lingkaran', 'lippo', 'login', 'longsor', 'lukanya', 'makna', 'manhattan', 'maoist', 'marc', 'matang', 'mathieu', 'matikan', 'maya', 'mclaren', 'medali', 'meluas', 'melucuti', 'melupakan', 'memaafkan', 'memalukan', 'membangkitkan', 'membayangkan', 'memberitahumu', 'membingungkan', 'memecah', 'memesan', 'meminum', 'memperbaikinya', 'memperbesar', 'menampung', 'menanamkan', 'mencela', 'mencium', 'mencurigakan', 'mendaki', 'mendiskusikan', 'mengamankan', 'mengatakannya', 'menghargai', 'mengherankan', 'menghina', 'mengisap', 'mengomentari', 'menikahi', 'menjalin', 'menjinakkan', 'menlu', 'mensahkan', 'menular', 'menyala', 'meredam', 'merekrut', 'messi', 'meteorologi', 'money', 'motif', 'motivasi', 'ms', 'muatan', 'muslimin', 'musuhnya', 'nampaknya', 'nistelrooy', 'obatan', 'offer', 'oksidasi', 'oxfam', 'panda', 'panglima', 'pariwisata', 'partisipasi', 'pasaran', 'password', 'peka', 'pelindung', 'pemandangan', 'pembalasan', 'pemenuhan', 'pencetak', 'pendahulu', 'pengatur', 'pengertian', 'penggantian', 'penghujung', 'penindasan', 'penjahat', 'penjelasannya', 'penyempurnaan', 'penyerangan', 'penyiaran', 'penyumbang', 'peraih', 'performa', 'pergantian', 'pergelangan', 'permisi', 'permodalan', 'permukiman', 'persembunyian', 'persentase', 'pertandingannya', 'pertukaran', 'peternakan', 'phil', 'philippe', 'phoenix', 'pigmen', 'pirolisis', 'playoff', 'post', 'ppnbm', 'prinsipnya', 'prodi', 'prof', 'profesor', 'properti', 'proposal', 'psv', 'qin', 'rahang', 'raihan', 'rajapakse', 'rangers', 'ras', 'rasakan', 'reputasi', 'reserve', 'rig', 'rights', 'robredo', 'rompi', 'rp13', 'rp27', 'rp300', 'rp58', 'runding', 'rusa', 'sam', 'sambungan', 'sampaikan', 'samsung', 'samuel', 'sandera', 'santa', 'sayur', 'schuster', 'seakan', 'sebelas', 'senantiasa', 'sentimeter', 'sentuhan', 'serena', 'sesegera', 'shanghai', 'siapapun', 'simbol', 'siniora', 'sintesis', 'star', 'suaranya', 'subordinasi', 'subsistem', 'subunit', 'svetlana', 'swadesi', 'tahunku', 'taktik', 'talangan', 'tebu', 'tebusan', 'tegasnya', 'tekstil', 'terdaftar', 'tergolong', 'terintegrasi', 'terjebak', 'terpeleset', 'terpencil', 'terperosok', 'tertahan', 'tertulis', 'thermal', 'tpt', 'tradisi', 'tuaku', 'tumor', 'turis', 'udinese', 'ulfa', 'ungkap', 'untung', 'venus', 'via', 'vogts', 'volatilitas', 'voli', 'walikota', 'waluyanto', 'wanderers', 'wembley', 'windows', 'wizards', 'wta', 'wu', 'xinhua', 'ze', 'zvonareva', '##!', '##\"', '##$', '##%', '##&', \"##'\", '##(', '##)', '##*', '##+', '##,', '##-', '##.', '##/', '##:', '##;', '##<', '##=', '##?', '##[', '##]', '##_', '##`', '##~', '##¯', '##°', '##¼', '##â', '##ã']\n"
          ]
        }
      ],
      "source": [
        "print(\"English Tokens: \", eng_vocab)\n",
        "print(\"Indo Tokens: \", indo_vocab)"
      ]
    },
    {
      "cell_type": "markdown",
      "metadata": {
        "id": "tAng4sOoU8-J"
      },
      "source": [
        "Now, let's define the tokenizers. We will configure the tokenizers with the\n",
        "the vocabularies trained above."
      ]
    },
    {
      "cell_type": "code",
      "source": [
        "import json\n",
        "\n",
        "with open('indo_vocab.json', 'w') as f:\n",
        "    json.dump(indo_vocab, f)\n",
        "\n",
        "with open('eng_vocab.json', 'w') as f:\n",
        "    json.dump(eng_vocab, f)"
      ],
      "metadata": {
        "id": "JH6fmu2iABgB"
      },
      "execution_count": null,
      "outputs": []
    },
    {
      "cell_type": "code",
      "source": [
        "from google.colab import drive\n",
        "drive.mount('/content/gdrive')"
      ],
      "metadata": {
        "colab": {
          "base_uri": "https://localhost:8080/"
        },
        "id": "U8nuccBKAM5q",
        "outputId": "326a4621-6206-4d41-b9b9-657ed7ec4519"
      },
      "execution_count": null,
      "outputs": [
        {
          "output_type": "stream",
          "name": "stdout",
          "text": [
            "Mounted at /content/gdrive\n"
          ]
        }
      ]
    },
    {
      "cell_type": "code",
      "source": [
        "!rm \"/content/gdrive/MyDrive/TensorflowModels/eng_vocab.json\"\n",
        "!rm \"/content/gdrive/MyDrive/TensorflowModels/indo_vocab.json\""
      ],
      "metadata": {
        "id": "RBgqvs_0Af4V"
      },
      "execution_count": null,
      "outputs": []
    },
    {
      "cell_type": "code",
      "source": [
        "!cp \"/content/eng_vocab.json\" \"/content/gdrive/MyDrive/TensorflowModels\"\n",
        "!cp \"/content/indo_vocab.json\" \"/content/gdrive/MyDrive/TensorflowModels\""
      ],
      "metadata": {
        "id": "n4m3j-jZAZBr"
      },
      "execution_count": null,
      "outputs": []
    },
    {
      "cell_type": "markdown",
      "source": [
        "file jsonnya ada di drive gw\n",
        "https://drive.google.com/drive/folders/1YaHN2nk7i5OYmGgJ6SGGLglUPAKpaFDY?usp=drive_link"
      ],
      "metadata": {
        "id": "TVH5BXp0BXev"
      }
    },
    {
      "cell_type": "markdown",
      "source": [
        "cek dari sini gar buat tokenize dari json\n",
        "https://medium.com/@andrew.w.sale/deploying-text-classification-from-keras-to-tensorflow-js-92c614dca4ec"
      ],
      "metadata": {
        "id": "KjtQ_V3FBQb9"
      }
    },
    {
      "cell_type": "code",
      "execution_count": null,
      "metadata": {
        "id": "AJBwwNOJU8-J"
      },
      "outputs": [],
      "source": [
        "eng_tokenizer = keras_nlp.tokenizers.WordPieceTokenizer(\n",
        "    vocabulary=eng_vocab, lowercase=False\n",
        ")\n",
        "indo_tokenizer = keras_nlp.tokenizers.WordPieceTokenizer(\n",
        "    vocabulary=indo_vocab, lowercase=False\n",
        ")"
      ]
    },
    {
      "cell_type": "code",
      "source": [
        "import json\n",
        "\n",
        "with open('indo_vocab.json', 'w') as f:\n",
        "    json.dump(indo_vocab, f)\n",
        "\n",
        "with open('eng_vocab.json', 'w') as f:\n",
        "    json.dump(eng_vocab, f)"
      ],
      "metadata": {
        "id": "M7PJfJgpLcpe"
      },
      "execution_count": null,
      "outputs": []
    },
    {
      "cell_type": "markdown",
      "metadata": {
        "id": "81VQIDiSU8-J"
      },
      "source": [
        "Let's try and tokenize a sample from our dataset! To verify whether the text has\n",
        "been tokenized correctly, we can also detokenize the list of tokens back to the\n",
        "original text."
      ]
    },
    {
      "cell_type": "code",
      "execution_count": null,
      "metadata": {
        "id": "xpQ9QvEYU8-J",
        "outputId": "e98101e7-2692-434c-879c-b9a5cfb5f79f",
        "colab": {
          "base_uri": "https://localhost:8080/"
        }
      },
      "outputs": [
        {
          "output_type": "stream",
          "name": "stdout",
          "text": [
            "English sentence:  turn to the right.\n",
            "Tokens:  tf.Tensor([878  66  65 356  15], shape=(5,), dtype=int32)\n",
            "Recovered text after detokenizing:  tf.Tensor(b'turn to the right .', shape=(), dtype=string)\n",
            "\n",
            "indo sentence:  belok ke kanan.\n",
            "Tokens:  tf.Tensor([  36  812 1222   79 1609   16], shape=(6,), dtype=int32)\n",
            "Recovered text after detokenizing:  tf.Tensor(b'belok ke kanan .', shape=(), dtype=string)\n"
          ]
        }
      ],
      "source": [
        "eng_input_ex = text_pairs[0][0]\n",
        "eng_tokens_ex = eng_tokenizer.tokenize(eng_input_ex)\n",
        "print(\"English sentence: \", eng_input_ex)\n",
        "print(\"Tokens: \", eng_tokens_ex)\n",
        "print(\n",
        "    \"Recovered text after detokenizing: \",\n",
        "    eng_tokenizer.detokenize(eng_tokens_ex),\n",
        ")\n",
        "\n",
        "print()\n",
        "\n",
        "indo_input_ex = text_pairs[0][1]\n",
        "indo_tokens_ex = indo_tokenizer.tokenize(indo_input_ex)\n",
        "print(\"indo sentence: \", indo_input_ex)\n",
        "print(\"Tokens: \", indo_tokens_ex)\n",
        "print(\n",
        "    \"Recovered text after detokenizing: \",\n",
        "    indo_tokenizer.detokenize(indo_tokens_ex),\n",
        ")"
      ]
    },
    {
      "cell_type": "markdown",
      "metadata": {
        "id": "8779glmdU8-K"
      },
      "source": [
        "## Format datasets\n",
        "\n",
        "Next, we'll format our datasets.\n",
        "\n",
        "At each training step, the model will seek to predict target words N+1 (and beyond)\n",
        "using the source sentence and the target words 0 to N.\n",
        "\n",
        "As such, the training dataset will yield a tuple `(inputs, targets)`, where:\n",
        "\n",
        "- `inputs` is a dictionary with the keys `encoder_inputs` and `decoder_inputs`.\n",
        "`encoder_inputs` is the tokenized source sentence and `decoder_inputs` is the target\n",
        "sentence \"so far\",\n",
        "that is to say, the words 0 to N used to predict word N+1 (and beyond) in the target\n",
        "sentence.\n",
        "- `target` is the target sentence offset by one step:\n",
        "it provides the next words in the target sentence -- what the model will try to predict.\n",
        "\n",
        "We will add special tokens, `\"[START]\"` and `\"[END]\"`, to the input Spanish\n",
        "sentence after tokenizing the text. We will also pad the input to a fixed length.\n",
        "This can be easily done using `keras_nlp.layers.StartEndPacker`."
      ]
    },
    {
      "cell_type": "code",
      "execution_count": null,
      "metadata": {
        "id": "9WEtMpa0U8-K"
      },
      "outputs": [],
      "source": [
        "\n",
        "def preprocess_batch(eng, indo):\n",
        "    batch_size = ops.shape(indo)[0]\n",
        "\n",
        "    eng = eng_tokenizer(eng)\n",
        "    indo = indo_tokenizer(indo)\n",
        "\n",
        "    # Pad `eng` to `MAX_SEQUENCE_LENGTH`.\n",
        "    eng_start_end_packer = keras_nlp.layers.StartEndPacker(\n",
        "        sequence_length=MAX_SEQUENCE_LENGTH,\n",
        "        pad_value=eng_tokenizer.token_to_id(\"[PAD]\"),\n",
        "    )\n",
        "    eng = eng_start_end_packer(eng)\n",
        "\n",
        "    # Add special tokens (`\"[START]\"` and `\"[END]\"`) to `indo` and pad it as well.\n",
        "    indo_start_end_packer = keras_nlp.layers.StartEndPacker(\n",
        "        sequence_length=MAX_SEQUENCE_LENGTH + 1,\n",
        "        start_value=indo_tokenizer.token_to_id(\"[START]\"),\n",
        "        end_value=indo_tokenizer.token_to_id(\"[END]\"),\n",
        "        pad_value=indo_tokenizer.token_to_id(\"[PAD]\"),\n",
        "    )\n",
        "    indo = indo_start_end_packer(indo)\n",
        "\n",
        "    return (\n",
        "        {\n",
        "            \"encoder_inputs\": eng,\n",
        "            \"decoder_inputs\": indo[:, :-1],\n",
        "        },\n",
        "        indo[:, 1:],\n",
        "    )\n",
        "\n",
        "\n",
        "def make_dataset(pairs):\n",
        "    eng_texts, indo_texts = zip(*pairs)\n",
        "    eng_texts = list(eng_texts)\n",
        "    indo_texts = list(indo_texts)\n",
        "    dataset = tf_data.Dataset.from_tensor_slices((eng_texts, indo_texts))\n",
        "    dataset = dataset.batch(BATCH_SIZE)\n",
        "    dataset = dataset.map(preprocess_batch, num_parallel_calls=tf_data.AUTOTUNE)\n",
        "    return dataset.cache().shuffle(2048).prefetch(16)\n",
        "\n",
        "\n",
        "train_ds = make_dataset(train_pairs)\n",
        "val_ds = make_dataset(val_pairs)"
      ]
    },
    {
      "cell_type": "markdown",
      "metadata": {
        "id": "T2a6CHSVU8-K"
      },
      "source": [
        "Let's take a quick look at the sequence shapes\n",
        "(we have batches of 64 pairs, and all sequences are 40 steps long):"
      ]
    },
    {
      "cell_type": "code",
      "execution_count": null,
      "metadata": {
        "id": "XVk-mpK-U8-K",
        "outputId": "a07873f5-909f-4453-88c1-d716ad369ce7",
        "colab": {
          "base_uri": "https://localhost:8080/"
        }
      },
      "outputs": [
        {
          "output_type": "stream",
          "name": "stdout",
          "text": [
            "inputs[\"encoder_inputs\"].shape: (64, 100)\n",
            "inputs[\"decoder_inputs\"].shape: (64, 100)\n",
            "targets.shape: (64, 100)\n"
          ]
        }
      ],
      "source": [
        "for inputs, targets in train_ds.take(1):\n",
        "    print(f'inputs[\"encoder_inputs\"].shape: {inputs[\"encoder_inputs\"].shape}')\n",
        "    print(f'inputs[\"decoder_inputs\"].shape: {inputs[\"decoder_inputs\"].shape}')\n",
        "    print(f\"targets.shape: {targets.shape}\")\n"
      ]
    },
    {
      "cell_type": "markdown",
      "metadata": {
        "id": "GGkrjMY7U8-K"
      },
      "source": [
        "## Building the model\n",
        "\n",
        "Now, let's move on to the exciting part - defining our model!\n",
        "We first need an embedding layer, i.e., a vector for every token in our input sequence.\n",
        "This embedding layer can be initialised randomly. We also need a positional\n",
        "embedding layer which encodes the word order in the sequence. The convention is\n",
        "to add these two embeddings. KerasNLP has a `keras_nlp.layers.TokenAndPositionEmbedding `\n",
        "layer which does all of the above steps for us.\n",
        "\n",
        "Our sequence-to-sequence Transformer consists of a `keras_nlp.layers.TransformerEncoder`\n",
        "layer and a `keras_nlp.layers.TransformerDecoder` layer chained together.\n",
        "\n",
        "The source sequence will be passed to `keras_nlp.layers.TransformerEncoder`, which\n",
        "will produce a new representation of it. This new representation will then be passed\n",
        "to the `keras_nlp.layers.TransformerDecoder`, together with the target sequence\n",
        "so far (target words 0 to N). The `keras_nlp.layers.TransformerDecoder` will\n",
        "then seek to predict the next words in the target sequence (N+1 and beyond).\n",
        "\n",
        "A key detail that makes this possible is causal masking.\n",
        "The `keras_nlp.layers.TransformerDecoder` sees the entire sequence at once, and\n",
        "thus we must make sure that it only uses information from target tokens 0 to N\n",
        "when predicting token N+1 (otherwise, it could use information from the future,\n",
        "which would result in a model that cannot be used at inference time). Causal masking\n",
        "is enabled by default in `keras_nlp.layers.TransformerDecoder`.\n",
        "\n",
        "We also need to mask the padding tokens (`\"[PAD]\"`). For this, we can set the\n",
        "`mask_zero` argument of the `keras_nlp.layers.TokenAndPositionEmbedding` layer\n",
        "to True. This will then be propagated to all subsequent layers."
      ]
    },
    {
      "cell_type": "code",
      "execution_count": null,
      "metadata": {
        "id": "RwcQWmWZU8-K"
      },
      "outputs": [],
      "source": [
        "# Encoder\n",
        "encoder_inputs = keras.Input(batch_shape=(None,MAX_SEQUENCE_LENGTH,), name=\"encoder_inputs\")\n",
        "\n",
        "x = keras_nlp.layers.TokenAndPositionEmbedding(\n",
        "    vocabulary_size=ENG_VOCAB_SIZE,\n",
        "    sequence_length=MAX_SEQUENCE_LENGTH,\n",
        "    embedding_dim=EMBED_DIM,\n",
        ")(encoder_inputs)\n",
        "\n",
        "encoder_outputs = keras_nlp.layers.TransformerEncoder(\n",
        "    intermediate_dim=INTERMEDIATE_DIM, num_heads=NUM_HEADS\n",
        ")(inputs=x)\n",
        "encoder = keras.Model(encoder_inputs, encoder_outputs)\n",
        "\n",
        "\n",
        "# Decoder\n",
        "decoder_inputs = keras.Input(batch_shape=(None, MAX_SEQUENCE_LENGTH,), name=\"decoder_inputs\")\n",
        "encoded_seq_inputs = keras.Input(batch_shape=(None, None, EMBED_DIM), name=\"decoder_state_inputs\")\n",
        "\n",
        "x = keras_nlp.layers.TokenAndPositionEmbedding(\n",
        "    vocabulary_size=INDO_VOCAB_SIZE,\n",
        "    sequence_length=MAX_SEQUENCE_LENGTH,\n",
        "    embedding_dim=EMBED_DIM,\n",
        ")(decoder_inputs)\n",
        "\n",
        "x = keras_nlp.layers.TransformerDecoder(\n",
        "    intermediate_dim=INTERMEDIATE_DIM, num_heads=NUM_HEADS\n",
        ")(decoder_sequence=x, encoder_sequence=encoded_seq_inputs)\n",
        "x = keras.layers.Dropout(0.5)(x)\n",
        "decoder_outputs = keras.layers.Dense(INDO_VOCAB_SIZE, activation=\"softmax\")(x)\n",
        "decoder = keras.Model(\n",
        "    [\n",
        "        decoder_inputs,\n",
        "        encoded_seq_inputs,\n",
        "    ],\n",
        "    decoder_outputs,\n",
        ")\n",
        "decoder_outputs = decoder([decoder_inputs, encoder_outputs])\n",
        "\n",
        "transformer = keras.Model(\n",
        "    [encoder_inputs, decoder_inputs],\n",
        "    decoder_outputs,\n",
        "    name=\"transformer\",\n",
        ")"
      ]
    },
    {
      "cell_type": "markdown",
      "metadata": {
        "id": "MAVSyHWiU8-K"
      },
      "source": [
        "## Training our model\n",
        "\n",
        "We'll use accuracy as a quick way to monitor training progress on the validation data.\n",
        "Note that machine translation typically uses BLEU scores as well as other metrics,\n",
        "rather than accuracy. However, in order to use metrics like ROUGE, BLEU, etc. we\n",
        "will have decode the probabilities and generate the text. Text generation is\n",
        "computationally expensive, and performing this during training is not recommended.\n",
        "\n",
        "Here we only train for 1 epoch, but to get the model to actually converge\n",
        "you should train for at least 10 epochs."
      ]
    },
    {
      "cell_type": "code",
      "execution_count": null,
      "metadata": {
        "id": "eAdm9agVU8-L",
        "outputId": "e4f06b3b-4e8a-4f11-c9e2-6e37c82e6008",
        "colab": {
          "base_uri": "https://localhost:8080/",
          "height": 369
        }
      },
      "outputs": [
        {
          "output_type": "display_data",
          "data": {
            "text/plain": [
              "\u001b[1mModel: \"transformer\"\u001b[0m\n"
            ],
            "text/html": [
              "<pre style=\"white-space:pre;overflow-x:auto;line-height:normal;font-family:Menlo,'DejaVu Sans Mono',consolas,'Courier New',monospace\"><span style=\"font-weight: bold\">Model: \"transformer\"</span>\n",
              "</pre>\n"
            ]
          },
          "metadata": {}
        },
        {
          "output_type": "display_data",
          "data": {
            "text/plain": [
              "┏━━━━━━━━━━━━━━━━━━━━━━━━━━━┳━━━━━━━━━━━━━━━━━━━━━━━━┳━━━━━━━━━━━━━━━━┳━━━━━━━━━━━━━━━━━━━━━━━━┓\n",
              "┃\u001b[1m \u001b[0m\u001b[1mLayer (type)             \u001b[0m\u001b[1m \u001b[0m┃\u001b[1m \u001b[0m\u001b[1mOutput Shape          \u001b[0m\u001b[1m \u001b[0m┃\u001b[1m \u001b[0m\u001b[1m       Param #\u001b[0m\u001b[1m \u001b[0m┃\u001b[1m \u001b[0m\u001b[1mConnected to          \u001b[0m\u001b[1m \u001b[0m┃\n",
              "┡━━━━━━━━━━━━━━━━━━━━━━━━━━━╇━━━━━━━━━━━━━━━━━━━━━━━━╇━━━━━━━━━━━━━━━━╇━━━━━━━━━━━━━━━━━━━━━━━━┩\n",
              "│ encoder_inputs            │ (\u001b[38;5;45mNone\u001b[0m, \u001b[38;5;34m100\u001b[0m)            │              \u001b[38;5;34m0\u001b[0m │ -                      │\n",
              "│ (\u001b[38;5;33mInputLayer\u001b[0m)              │                        │                │                        │\n",
              "├───────────────────────────┼────────────────────────┼────────────────┼────────────────────────┤\n",
              "│ token_and_position_embed… │ (\u001b[38;5;45mNone\u001b[0m, \u001b[38;5;34m100\u001b[0m, \u001b[38;5;34m256\u001b[0m)       │      \u001b[38;5;34m7,705,600\u001b[0m │ encoder_inputs[\u001b[38;5;34m0\u001b[0m][\u001b[38;5;34m0\u001b[0m]   │\n",
              "│ (\u001b[38;5;33mTokenAndPositionEmbeddi…\u001b[0m │                        │                │                        │\n",
              "├───────────────────────────┼────────────────────────┼────────────────┼────────────────────────┤\n",
              "│ decoder_inputs            │ (\u001b[38;5;45mNone\u001b[0m, \u001b[38;5;34m100\u001b[0m)            │              \u001b[38;5;34m0\u001b[0m │ -                      │\n",
              "│ (\u001b[38;5;33mInputLayer\u001b[0m)              │                        │                │                        │\n",
              "├───────────────────────────┼────────────────────────┼────────────────┼────────────────────────┤\n",
              "│ transformer_encoder       │ (\u001b[38;5;45mNone\u001b[0m, \u001b[38;5;34m100\u001b[0m, \u001b[38;5;34m256\u001b[0m)       │      \u001b[38;5;34m1,315,072\u001b[0m │ token_and_position_em… │\n",
              "│ (\u001b[38;5;33mTransformerEncoder\u001b[0m)      │                        │                │                        │\n",
              "├───────────────────────────┼────────────────────────┼────────────────┼────────────────────────┤\n",
              "│ functional_3 (\u001b[38;5;33mFunctional\u001b[0m) │ (\u001b[38;5;45mNone\u001b[0m, \u001b[38;5;34m100\u001b[0m, \u001b[38;5;34m30000\u001b[0m)     │     \u001b[38;5;34m16,994,352\u001b[0m │ decoder_inputs[\u001b[38;5;34m0\u001b[0m][\u001b[38;5;34m0\u001b[0m],  │\n",
              "│                           │                        │                │ transformer_encoder[\u001b[38;5;34m0\u001b[0m… │\n",
              "└───────────────────────────┴────────────────────────┴────────────────┴────────────────────────┘\n"
            ],
            "text/html": [
              "<pre style=\"white-space:pre;overflow-x:auto;line-height:normal;font-family:Menlo,'DejaVu Sans Mono',consolas,'Courier New',monospace\">┏━━━━━━━━━━━━━━━━━━━━━━━━━━━┳━━━━━━━━━━━━━━━━━━━━━━━━┳━━━━━━━━━━━━━━━━┳━━━━━━━━━━━━━━━━━━━━━━━━┓\n",
              "┃<span style=\"font-weight: bold\"> Layer (type)              </span>┃<span style=\"font-weight: bold\"> Output Shape           </span>┃<span style=\"font-weight: bold\">        Param # </span>┃<span style=\"font-weight: bold\"> Connected to           </span>┃\n",
              "┡━━━━━━━━━━━━━━━━━━━━━━━━━━━╇━━━━━━━━━━━━━━━━━━━━━━━━╇━━━━━━━━━━━━━━━━╇━━━━━━━━━━━━━━━━━━━━━━━━┩\n",
              "│ encoder_inputs            │ (<span style=\"color: #00d7ff; text-decoration-color: #00d7ff\">None</span>, <span style=\"color: #00af00; text-decoration-color: #00af00\">100</span>)            │              <span style=\"color: #00af00; text-decoration-color: #00af00\">0</span> │ -                      │\n",
              "│ (<span style=\"color: #0087ff; text-decoration-color: #0087ff\">InputLayer</span>)              │                        │                │                        │\n",
              "├───────────────────────────┼────────────────────────┼────────────────┼────────────────────────┤\n",
              "│ token_and_position_embed… │ (<span style=\"color: #00d7ff; text-decoration-color: #00d7ff\">None</span>, <span style=\"color: #00af00; text-decoration-color: #00af00\">100</span>, <span style=\"color: #00af00; text-decoration-color: #00af00\">256</span>)       │      <span style=\"color: #00af00; text-decoration-color: #00af00\">7,705,600</span> │ encoder_inputs[<span style=\"color: #00af00; text-decoration-color: #00af00\">0</span>][<span style=\"color: #00af00; text-decoration-color: #00af00\">0</span>]   │\n",
              "│ (<span style=\"color: #0087ff; text-decoration-color: #0087ff\">TokenAndPositionEmbeddi…</span> │                        │                │                        │\n",
              "├───────────────────────────┼────────────────────────┼────────────────┼────────────────────────┤\n",
              "│ decoder_inputs            │ (<span style=\"color: #00d7ff; text-decoration-color: #00d7ff\">None</span>, <span style=\"color: #00af00; text-decoration-color: #00af00\">100</span>)            │              <span style=\"color: #00af00; text-decoration-color: #00af00\">0</span> │ -                      │\n",
              "│ (<span style=\"color: #0087ff; text-decoration-color: #0087ff\">InputLayer</span>)              │                        │                │                        │\n",
              "├───────────────────────────┼────────────────────────┼────────────────┼────────────────────────┤\n",
              "│ transformer_encoder       │ (<span style=\"color: #00d7ff; text-decoration-color: #00d7ff\">None</span>, <span style=\"color: #00af00; text-decoration-color: #00af00\">100</span>, <span style=\"color: #00af00; text-decoration-color: #00af00\">256</span>)       │      <span style=\"color: #00af00; text-decoration-color: #00af00\">1,315,072</span> │ token_and_position_em… │\n",
              "│ (<span style=\"color: #0087ff; text-decoration-color: #0087ff\">TransformerEncoder</span>)      │                        │                │                        │\n",
              "├───────────────────────────┼────────────────────────┼────────────────┼────────────────────────┤\n",
              "│ functional_3 (<span style=\"color: #0087ff; text-decoration-color: #0087ff\">Functional</span>) │ (<span style=\"color: #00d7ff; text-decoration-color: #00d7ff\">None</span>, <span style=\"color: #00af00; text-decoration-color: #00af00\">100</span>, <span style=\"color: #00af00; text-decoration-color: #00af00\">30000</span>)     │     <span style=\"color: #00af00; text-decoration-color: #00af00\">16,994,352</span> │ decoder_inputs[<span style=\"color: #00af00; text-decoration-color: #00af00\">0</span>][<span style=\"color: #00af00; text-decoration-color: #00af00\">0</span>],  │\n",
              "│                           │                        │                │ transformer_encoder[<span style=\"color: #00af00; text-decoration-color: #00af00\">0</span>… │\n",
              "└───────────────────────────┴────────────────────────┴────────────────┴────────────────────────┘\n",
              "</pre>\n"
            ]
          },
          "metadata": {}
        },
        {
          "output_type": "display_data",
          "data": {
            "text/plain": [
              "\u001b[1m Total params: \u001b[0m\u001b[38;5;34m26,015,024\u001b[0m (99.24 MB)\n"
            ],
            "text/html": [
              "<pre style=\"white-space:pre;overflow-x:auto;line-height:normal;font-family:Menlo,'DejaVu Sans Mono',consolas,'Courier New',monospace\"><span style=\"font-weight: bold\"> Total params: </span><span style=\"color: #00af00; text-decoration-color: #00af00\">26,015,024</span> (99.24 MB)\n",
              "</pre>\n"
            ]
          },
          "metadata": {}
        },
        {
          "output_type": "display_data",
          "data": {
            "text/plain": [
              "\u001b[1m Trainable params: \u001b[0m\u001b[38;5;34m26,015,024\u001b[0m (99.24 MB)\n"
            ],
            "text/html": [
              "<pre style=\"white-space:pre;overflow-x:auto;line-height:normal;font-family:Menlo,'DejaVu Sans Mono',consolas,'Courier New',monospace\"><span style=\"font-weight: bold\"> Trainable params: </span><span style=\"color: #00af00; text-decoration-color: #00af00\">26,015,024</span> (99.24 MB)\n",
              "</pre>\n"
            ]
          },
          "metadata": {}
        },
        {
          "output_type": "display_data",
          "data": {
            "text/plain": [
              "\u001b[1m Non-trainable params: \u001b[0m\u001b[38;5;34m0\u001b[0m (0.00 B)\n"
            ],
            "text/html": [
              "<pre style=\"white-space:pre;overflow-x:auto;line-height:normal;font-family:Menlo,'DejaVu Sans Mono',consolas,'Courier New',monospace\"><span style=\"font-weight: bold\"> Non-trainable params: </span><span style=\"color: #00af00; text-decoration-color: #00af00\">0</span> (0.00 B)\n",
              "</pre>\n"
            ]
          },
          "metadata": {}
        }
      ],
      "source": [
        "transformer.summary()\n",
        "transformer.compile(\n",
        "    \"adam\", loss=\"sparse_categorical_crossentropy\", metrics=[\"accuracy\"])"
      ]
    },
    {
      "cell_type": "code",
      "source": [
        "transformer.fit(train_ds, epochs=EPOCHS, validation_data=val_ds)"
      ],
      "metadata": {
        "id": "VUta1h7RXWx-",
        "outputId": "9470e456-2607-46be-e010-03f366bf0a5e",
        "colab": {
          "base_uri": "https://localhost:8080/"
        }
      },
      "execution_count": null,
      "outputs": [
        {
          "output_type": "stream",
          "name": "stdout",
          "text": [
            "Epoch 1/10\n",
            "\u001b[1m500/500\u001b[0m \u001b[32m━━━━━━━━━━━━━━━━━━━━\u001b[0m\u001b[37m\u001b[0m \u001b[1m188s\u001b[0m 346ms/step - accuracy: 0.8011 - loss: 2.1494 - val_accuracy: 0.8177 - val_loss: 1.1706\n",
            "Epoch 2/10\n",
            "\u001b[1m500/500\u001b[0m \u001b[32m━━━━━━━━━━━━━━━━━━━━\u001b[0m\u001b[37m\u001b[0m \u001b[1m82s\u001b[0m 165ms/step - accuracy: 0.8222 - loss: 1.1306 - val_accuracy: 0.8251 - val_loss: 1.0593\n",
            "Epoch 3/10\n",
            "\u001b[1m500/500\u001b[0m \u001b[32m━━━━━━━━━━━━━━━━━━━━\u001b[0m\u001b[37m\u001b[0m \u001b[1m82s\u001b[0m 165ms/step - accuracy: 0.8297 - loss: 1.0193 - val_accuracy: 0.8329 - val_loss: 0.9849\n",
            "Epoch 4/10\n",
            "\u001b[1m500/500\u001b[0m \u001b[32m━━━━━━━━━━━━━━━━━━━━\u001b[0m\u001b[37m\u001b[0m \u001b[1m142s\u001b[0m 166ms/step - accuracy: 0.8383 - loss: 0.9343 - val_accuracy: 0.8391 - val_loss: 0.9277\n",
            "Epoch 5/10\n",
            "\u001b[1m500/500\u001b[0m \u001b[32m━━━━━━━━━━━━━━━━━━━━\u001b[0m\u001b[37m\u001b[0m \u001b[1m82s\u001b[0m 165ms/step - accuracy: 0.8480 - loss: 0.8505 - val_accuracy: 0.8457 - val_loss: 0.8838\n",
            "Epoch 6/10\n",
            "\u001b[1m500/500\u001b[0m \u001b[32m━━━━━━━━━━━━━━━━━━━━\u001b[0m\u001b[37m\u001b[0m \u001b[1m142s\u001b[0m 165ms/step - accuracy: 0.8548 - loss: 0.7951 - val_accuracy: 0.8510 - val_loss: 0.8502\n",
            "Epoch 7/10\n",
            "\u001b[1m500/500\u001b[0m \u001b[32m━━━━━━━━━━━━━━━━━━━━\u001b[0m\u001b[37m\u001b[0m \u001b[1m82s\u001b[0m 164ms/step - accuracy: 0.8630 - loss: 0.7365 - val_accuracy: 0.8554 - val_loss: 0.8272\n",
            "Epoch 8/10\n",
            "\u001b[1m500/500\u001b[0m \u001b[32m━━━━━━━━━━━━━━━━━━━━\u001b[0m\u001b[37m\u001b[0m \u001b[1m82s\u001b[0m 165ms/step - accuracy: 0.8692 - loss: 0.6916 - val_accuracy: 0.8582 - val_loss: 0.8117\n",
            "Epoch 9/10\n",
            "\u001b[1m500/500\u001b[0m \u001b[32m━━━━━━━━━━━━━━━━━━━━\u001b[0m\u001b[37m\u001b[0m \u001b[1m142s\u001b[0m 165ms/step - accuracy: 0.8759 - loss: 0.6471 - val_accuracy: 0.8607 - val_loss: 0.8056\n",
            "Epoch 10/10\n",
            "\u001b[1m500/500\u001b[0m \u001b[32m━━━━━━━━━━━━━━━━━━━━\u001b[0m\u001b[37m\u001b[0m \u001b[1m143s\u001b[0m 166ms/step - accuracy: 0.8810 - loss: 0.6114 - val_accuracy: 0.8617 - val_loss: 0.8054\n"
          ]
        },
        {
          "output_type": "execute_result",
          "data": {
            "text/plain": [
              "<keras.src.callbacks.history.History at 0x7eaebe0d4610>"
            ]
          },
          "metadata": {},
          "execution_count": 28
        }
      ]
    },
    {
      "cell_type": "markdown",
      "metadata": {
        "id": "ftHwgstCU8-L"
      },
      "source": [
        "## Decoding test sentences (qualitative analysis)\n",
        "\n",
        "Finally, let's demonstrate how to translate brand new English sentences.\n",
        "We simply feed into the model the tokenized English sentence\n",
        "as well as the target token `\"[START]\"`. The model outputs probabilities of the\n",
        "next token. We then we repeatedly generated the next token conditioned on the\n",
        "tokens generated so far, until we hit the token `\"[END]\"`.\n",
        "\n",
        "For decoding, we will use the `keras_nlp.samplers` module from\n",
        "KerasNLP. Greedy Decoding is a text decoding method which outputs the most\n",
        "likely next token at each time step, i.e., the token with the highest probability."
      ]
    },
    {
      "cell_type": "code",
      "execution_count": null,
      "metadata": {
        "id": "7D3efmyOU8-L",
        "colab": {
          "base_uri": "https://localhost:8080/"
        },
        "outputId": "4e15a3d3-908e-45c3-e1f8-a72568fea8d7"
      },
      "outputs": [
        {
          "output_type": "stream",
          "name": "stdout",
          "text": [
            "how much?\n",
            "berapa harganya ?\n",
            "\n"
          ]
        }
      ],
      "source": [
        "\n",
        "def decode_sequences(input_sentences):\n",
        "    batch_size = 1\n",
        "\n",
        "    # Tokenize the encoder input.\n",
        "    encoder_input_tokens = ops.convert_to_tensor(eng_tokenizer(input_sentences))\n",
        "    if len(encoder_input_tokens[0]) < MAX_SEQUENCE_LENGTH:\n",
        "        pads = ops.full((1, MAX_SEQUENCE_LENGTH - len(encoder_input_tokens[0])), 0)\n",
        "        encoder_input_tokens = ops.concatenate(\n",
        "            [encoder_input_tokens.to_tensor(), pads], 1\n",
        "        )\n",
        "\n",
        "    # Define a function that outputs the next token's probability given the\n",
        "    # input sequence.\n",
        "    def next(prompt, cache, index):\n",
        "        logits = transformer([encoder_input_tokens, prompt])[:, index - 1, :]\n",
        "        # Ignore hidden states for now; only needed for contrastive search.\n",
        "        hidden_states = None\n",
        "        return logits, hidden_states, cache\n",
        "\n",
        "    # Build a prompt of length 40 with a start token and padding tokens.\n",
        "    length = 100\n",
        "    start = ops.full((batch_size, 1), indo_tokenizer.token_to_id(\"[START]\"))\n",
        "    pad = ops.full((batch_size, length - 1), indo_tokenizer.token_to_id(\"[PAD]\"))\n",
        "    prompt = ops.concatenate((start, pad), axis=-1)\n",
        "\n",
        "    generated_tokens = keras_nlp.samplers.GreedySampler()(\n",
        "        next,\n",
        "        prompt,\n",
        "        stop_token_ids=[indo_tokenizer.token_to_id(\"[END]\")],\n",
        "        index=1,  # Start sampling after start token.\n",
        "    )\n",
        "    generated_sentences = indo_tokenizer.detokenize(generated_tokens)\n",
        "    return generated_sentences\n",
        "\n",
        "input_sentence = \"how much?\"\n",
        "translated = decode_sequences([input_sentence])\n",
        "translated = translated.numpy()[0].decode(\"utf-8\")\n",
        "translated = (\n",
        "    translated.replace(\"[PAD]\", \"\")\n",
        "    .replace(\"[START]\", \"\")\n",
        "    .replace(\"[END]\", \"\")\n",
        "    .strip()\n",
        ")\n",
        "print(input_sentence)\n",
        "print(translated)\n",
        "print()"
      ]
    },
    {
      "cell_type": "markdown",
      "metadata": {
        "id": "dZkRilzVU8-L"
      },
      "source": [
        "## Evaluating our model (quantitative analysis)\n",
        "\n",
        "There are many metrics which are used for text generation tasks. Here, to\n",
        "evaluate translations generated by our model, let's compute the ROUGE-1 and\n",
        "ROUGE-2 scores. Essentially, ROUGE-N is a score based on the number of common\n",
        "n-grams between the reference text and the generated text. ROUGE-1 and ROUGE-2\n",
        "use the number of common unigrams and bigrams, respectively.\n",
        "\n",
        "We will calculate the score over 30 test samples (since decoding is an\n",
        "expensive process)."
      ]
    },
    {
      "cell_type": "code",
      "execution_count": null,
      "metadata": {
        "id": "3EbFGzA3U8-L",
        "colab": {
          "base_uri": "https://localhost:8080/"
        },
        "outputId": "d760a38f-792f-41f5-e578-66177a71ead1"
      },
      "outputs": [
        {
          "output_type": "stream",
          "name": "stdout",
          "text": [
            "ROUGE-1 Score:  {'precision': <tf.Tensor: shape=(), dtype=float32, numpy=0.5457408>, 'recall': <tf.Tensor: shape=(), dtype=float32, numpy=0.49427488>, 'f1_score': <tf.Tensor: shape=(), dtype=float32, numpy=0.5112927>}\n",
            "ROUGE-2 Score:  {'precision': <tf.Tensor: shape=(), dtype=float32, numpy=0.27380952>, 'recall': <tf.Tensor: shape=(), dtype=float32, numpy=0.25079364>, 'f1_score': <tf.Tensor: shape=(), dtype=float32, numpy=0.257325>}\n"
          ]
        }
      ],
      "source": [
        "rouge_1 = keras_nlp.metrics.RougeN(order=1)\n",
        "rouge_2 = keras_nlp.metrics.RougeN(order=2)\n",
        "\n",
        "for test_pair in test_pairs[:30]:\n",
        "    input_sentence = test_pair[0]\n",
        "    reference_sentence = test_pair[1]\n",
        "\n",
        "    translated_sentence = decode_sequences([input_sentence])\n",
        "    translated_sentence = translated_sentence.numpy()[0].decode(\"utf-8\")\n",
        "    translated_sentence = (\n",
        "        translated_sentence.replace(\"[PAD]\", \"\")\n",
        "        .replace(\"[START]\", \"\")\n",
        "        .replace(\"[END]\", \"\")\n",
        "        .strip()\n",
        "    )\n",
        "\n",
        "    rouge_1(reference_sentence, translated_sentence)\n",
        "    rouge_2(reference_sentence, translated_sentence)\n",
        "\n",
        "print(\"ROUGE-1 Score: \", rouge_1.result())\n",
        "print(\"ROUGE-2 Score: \", rouge_2.result())"
      ]
    },
    {
      "cell_type": "markdown",
      "metadata": {
        "id": "A32JBTkbU8-L"
      },
      "source": [
        "After 10 epochs, the scores are as follows:\n",
        "\n",
        "|               | **ROUGE-1** | **ROUGE-2** |\n",
        "|:-------------:|:-----------:|:-----------:|\n",
        "| **Precision** |    0.568    |    0.374    |\n",
        "|   **Recall**  |    0.615    |    0.394    |\n",
        "|  **F1 Score** |    0.579    |    0.381    |"
      ]
    },
    {
      "cell_type": "code",
      "source": [
        "transformer.save('english-indo.keras')"
      ],
      "metadata": {
        "colab": {
          "base_uri": "https://localhost:8080/"
        },
        "id": "ej6bIPspgEVb",
        "outputId": "73cdac4d-4aa8-470f-cd3b-819a57282117"
      },
      "execution_count": null,
      "outputs": [
        {
          "output_type": "stream",
          "name": "stderr",
          "text": [
            "WARNING:absl:You are saving your model as an HDF5 file via `model.save()` or `keras.saving.save_model(model)`. This file format is considered legacy. We recommend using instead the native Keras format, e.g. `model.save('my_model.keras')` or `keras.saving.save_model(model, 'my_model.keras')`. \n"
          ]
        }
      ]
    },
    {
      "cell_type": "code",
      "source": [
        "from google.colab import drive\n",
        "drive.mount('/content/gdrive')"
      ],
      "metadata": {
        "colab": {
          "base_uri": "https://localhost:8080/"
        },
        "id": "DsxdlMFIhb1u",
        "outputId": "1d07ef85-f21e-4ce5-d253-b00a2da828f4"
      },
      "execution_count": null,
      "outputs": [
        {
          "output_type": "stream",
          "name": "stdout",
          "text": [
            "Mounted at /content/gdrive\n"
          ]
        }
      ]
    },
    {
      "cell_type": "code",
      "source": [
        "import tensorflow as tf\n",
        "\n",
        "model = tf.keras.models.load_model('/content/english-indo.h5')\n",
        "tf.saved_model.save(model, '/content/my_saved_model')"
      ],
      "metadata": {
        "colab": {
          "base_uri": "https://localhost:8080/"
        },
        "id": "peYt1-dBtgJM",
        "outputId": "47bf8b31-134c-4453-85d5-372fe1b04a9b"
      },
      "execution_count": null,
      "outputs": [
        {
          "output_type": "stream",
          "name": "stderr",
          "text": [
            "WARNING:absl:Compiled the loaded model, but the compiled metrics have yet to be built. `model.compile_metrics` will be empty until you train or evaluate the model.\n"
          ]
        }
      ]
    },
    {
      "cell_type": "code",
      "source": [
        "!tensorflowjs_converter --input_format=tf_saved_model \"/content/my_saved_model\" \"/content/my_tfjs_model\""
      ],
      "metadata": {
        "colab": {
          "base_uri": "https://localhost:8080/"
        },
        "id": "wPTN4kRbccHy",
        "outputId": "b880e597-2dc3-41f1-e293-6affebfd9d4e"
      },
      "execution_count": null,
      "outputs": [
        {
          "output_type": "stream",
          "name": "stdout",
          "text": [
            "2024-06-13 17:49:12.726490: W tensorflow/compiler/tf2tensorrt/utils/py_utils.cc:38] TF-TRT Warning: Could not find TensorRT\n",
            "2024-06-13 17:49:15.555347: W tensorflow/core/common_runtime/gpu/gpu_bfc_allocator.cc:47] Overriding orig_value setting because the TF_FORCE_GPU_ALLOW_GROWTH environment variable is set. Original config value was 0.\n",
            "2024-06-13 17:49:15.813088: W external/local_tsl/tsl/framework/cpu_allocator_impl.cc:83] Allocation of 30720000 exceeds 10% of free system memory.\n",
            "2024-06-13 17:49:15.856616: W external/local_tsl/tsl/framework/cpu_allocator_impl.cc:83] Allocation of 30720000 exceeds 10% of free system memory.\n",
            "2024-06-13 17:49:15.894222: W external/local_tsl/tsl/framework/cpu_allocator_impl.cc:83] Allocation of 30720000 exceeds 10% of free system memory.\n",
            "2024-06-13 17:49:16.124107: W external/local_tsl/tsl/framework/cpu_allocator_impl.cc:83] Allocation of 30720000 exceeds 10% of free system memory.\n",
            "2024-06-13 17:49:16.202605: W external/local_tsl/tsl/framework/cpu_allocator_impl.cc:83] Allocation of 30720000 exceeds 10% of free system memory.\n"
          ]
        }
      ]
    },
    {
      "cell_type": "code",
      "source": [
        "!cp -r \"/content/my_tfjs_model\" \"/content/gdrive/MyDrive/TensorflowModels\""
      ],
      "metadata": {
        "id": "6wCT2Esuhb1u"
      },
      "execution_count": null,
      "outputs": []
    },
    {
      "cell_type": "code",
      "source": [
        "!cp \"/content/indo_vocab.json\" \"/content/gdrive/MyDrive/TensorflowModels\"\n",
        "!cp \"/content/eng_vocab.json\" \"/content/gdrive/MyDrive/TensorflowModels\""
      ],
      "metadata": {
        "id": "CPrfrbD3uOIt"
      },
      "execution_count": null,
      "outputs": []
    },
    {
      "cell_type": "code",
      "source": [
        "from google.colab import files\n",
        "\n",
        "files.download('example.txt')"
      ],
      "metadata": {
        "id": "qPWbsWSyf_dO"
      },
      "execution_count": null,
      "outputs": []
    }
  ],
  "metadata": {
    "accelerator": "GPU",
    "colab": {
      "provenance": []
    },
    "kernelspec": {
      "display_name": "Python 3",
      "language": "python",
      "name": "python3"
    },
    "language_info": {
      "codemirror_mode": {
        "name": "ipython",
        "version": 3
      },
      "file_extension": ".py",
      "mimetype": "text/x-python",
      "name": "python",
      "nbconvert_exporter": "python",
      "pygments_lexer": "ipython3",
      "version": "3.7.0"
    }
  },
  "nbformat": 4,
  "nbformat_minor": 0
}